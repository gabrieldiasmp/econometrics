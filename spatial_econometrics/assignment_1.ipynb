{
 "cells": [
  {
   "cell_type": "code",
   "execution_count": 2,
   "metadata": {},
   "outputs": [],
   "source": [
    "import pandas as pd\n",
    "import matplotlib.pyplot as plt"
   ]
  },
  {
   "cell_type": "code",
   "execution_count": 3,
   "metadata": {},
   "outputs": [],
   "source": [
    "df = pd.read_csv(\"real_state.csv\")"
   ]
  },
  {
   "cell_type": "code",
   "execution_count": 7,
   "metadata": {},
   "outputs": [
    {
     "data": {
      "text/html": [
       "<div>\n",
       "<style scoped>\n",
       "    .dataframe tbody tr th:only-of-type {\n",
       "        vertical-align: middle;\n",
       "    }\n",
       "\n",
       "    .dataframe tbody tr th {\n",
       "        vertical-align: top;\n",
       "    }\n",
       "\n",
       "    .dataframe thead th {\n",
       "        text-align: right;\n",
       "    }\n",
       "</style>\n",
       "<table border=\"1\" class=\"dataframe\">\n",
       "  <thead>\n",
       "    <tr style=\"text-align: right;\">\n",
       "      <th></th>\n",
       "      <th>distrito</th>\n",
       "      <th>dico</th>\n",
       "      <th>name</th>\n",
       "      <th>ambito</th>\n",
       "      <th>Anos</th>\n",
       "      <th>medvalsqm2</th>\n",
       "      <th>imi</th>\n",
       "      <th>classicalH</th>\n",
       "      <th>owcharges</th>\n",
       "      <th>charges400</th>\n",
       "      <th>...</th>\n",
       "      <th>touracarea</th>\n",
       "      <th>clasacarea</th>\n",
       "      <th>unemprate</th>\n",
       "      <th>newhousepmig</th>\n",
       "      <th>clashousphh</th>\n",
       "      <th>touaccpmig</th>\n",
       "      <th>housespercapita</th>\n",
       "      <th>newhnetpop</th>\n",
       "      <th>clasaccppopden</th>\n",
       "      <th>clasaccpop</th>\n",
       "    </tr>\n",
       "  </thead>\n",
       "  <tbody>\n",
       "    <tr>\n",
       "      <th>0</th>\n",
       "      <td>PORTALEGRE</td>\n",
       "      <td>1209</td>\n",
       "      <td></td>\n",
       "      <td>MunicÃ­pio</td>\n",
       "      <td>GaviÃ£o</td>\n",
       "      <td>0.0</td>\n",
       "      <td>0.30</td>\n",
       "      <td>1266.0</td>\n",
       "      <td>0.232227</td>\n",
       "      <td>0.159864</td>\n",
       "      <td>...</td>\n",
       "      <td>0.014</td>\n",
       "      <td>12.293</td>\n",
       "      <td>0.077121</td>\n",
       "      <td>1.166667</td>\n",
       "      <td>2.865719</td>\n",
       "      <td>0.666667</td>\n",
       "      <td>1.068945</td>\n",
       "      <td>-0.101449</td>\n",
       "      <td>315.478261</td>\n",
       "      <td>1.068945</td>\n",
       "    </tr>\n",
       "    <tr>\n",
       "      <th>1</th>\n",
       "      <td>PORTALEGRE</td>\n",
       "      <td>1208</td>\n",
       "      <td>Fronteira</td>\n",
       "      <td>MunicÃ­pio</td>\n",
       "      <td>Fronteira</td>\n",
       "      <td>0.0</td>\n",
       "      <td>0.30</td>\n",
       "      <td>920.0</td>\n",
       "      <td>0.328261</td>\n",
       "      <td>0.165563</td>\n",
       "      <td>...</td>\n",
       "      <td>0.016</td>\n",
       "      <td>10.502</td>\n",
       "      <td>0.062769</td>\n",
       "      <td>0.050000</td>\n",
       "      <td>2.836957</td>\n",
       "      <td>0.200000</td>\n",
       "      <td>0.913226</td>\n",
       "      <td>-0.035714</td>\n",
       "      <td>226.956522</td>\n",
       "      <td>0.913226</td>\n",
       "    </tr>\n",
       "    <tr>\n",
       "      <th>2</th>\n",
       "      <td>AVEIRO</td>\n",
       "      <td>114</td>\n",
       "      <td>Oliveira do Bairro</td>\n",
       "      <td>MunicÃ­pio</td>\n",
       "      <td>Oliveira do Bairro</td>\n",
       "      <td>800.0</td>\n",
       "      <td>0.30</td>\n",
       "      <td>6804.0</td>\n",
       "      <td>0.359788</td>\n",
       "      <td>0.234069</td>\n",
       "      <td>...</td>\n",
       "      <td>0.034</td>\n",
       "      <td>133.217</td>\n",
       "      <td>0.045898</td>\n",
       "      <td>0.113111</td>\n",
       "      <td>1.709730</td>\n",
       "      <td>0.007712</td>\n",
       "      <td>0.502896</td>\n",
       "      <td>0.158273</td>\n",
       "      <td>43.914685</td>\n",
       "      <td>0.502896</td>\n",
       "    </tr>\n",
       "    <tr>\n",
       "      <th>3</th>\n",
       "      <td>AVEIRO</td>\n",
       "      <td>113</td>\n",
       "      <td></td>\n",
       "      <td>MunicÃ­pio</td>\n",
       "      <td>Oliveira de AzemÃ©is</td>\n",
       "      <td>822.0</td>\n",
       "      <td>0.30</td>\n",
       "      <td>18236.0</td>\n",
       "      <td>0.367624</td>\n",
       "      <td>0.240304</td>\n",
       "      <td>...</td>\n",
       "      <td>0.025</td>\n",
       "      <td>189.828</td>\n",
       "      <td>0.060649</td>\n",
       "      <td>6.166667</td>\n",
       "      <td>1.676848</td>\n",
       "      <td>0.333333</td>\n",
       "      <td>0.462093</td>\n",
       "      <td>-0.313559</td>\n",
       "      <td>74.437683</td>\n",
       "      <td>0.462093</td>\n",
       "    </tr>\n",
       "    <tr>\n",
       "      <th>4</th>\n",
       "      <td>AVEIRO</td>\n",
       "      <td>116</td>\n",
       "      <td></td>\n",
       "      <td>MunicÃ­pio</td>\n",
       "      <td>SÃ£o JoÃ£o da Madeira</td>\n",
       "      <td>900.0</td>\n",
       "      <td>0.35</td>\n",
       "      <td>5536.0</td>\n",
       "      <td>0.473988</td>\n",
       "      <td>0.183308</td>\n",
       "      <td>...</td>\n",
       "      <td>0.630</td>\n",
       "      <td>1342.443</td>\n",
       "      <td>0.087265</td>\n",
       "      <td>0.229508</td>\n",
       "      <td>1.925397</td>\n",
       "      <td>0.027322</td>\n",
       "      <td>0.481371</td>\n",
       "      <td>0.400000</td>\n",
       "      <td>3.822074</td>\n",
       "      <td>0.481371</td>\n",
       "    </tr>\n",
       "    <tr>\n",
       "      <th>...</th>\n",
       "      <td>...</td>\n",
       "      <td>...</td>\n",
       "      <td>...</td>\n",
       "      <td>...</td>\n",
       "      <td>...</td>\n",
       "      <td>...</td>\n",
       "      <td>...</td>\n",
       "      <td>...</td>\n",
       "      <td>...</td>\n",
       "      <td>...</td>\n",
       "      <td>...</td>\n",
       "      <td>...</td>\n",
       "      <td>...</td>\n",
       "      <td>...</td>\n",
       "      <td>...</td>\n",
       "      <td>...</td>\n",
       "      <td>...</td>\n",
       "      <td>...</td>\n",
       "      <td>...</td>\n",
       "      <td>...</td>\n",
       "      <td>...</td>\n",
       "    </tr>\n",
       "    <tr>\n",
       "      <th>273</th>\n",
       "      <td>PORTALEGRE</td>\n",
       "      <td>1210</td>\n",
       "      <td></td>\n",
       "      <td>MunicÃ­pio</td>\n",
       "      <td>MarvÃ£o</td>\n",
       "      <td>0.0</td>\n",
       "      <td>0.30</td>\n",
       "      <td>894.0</td>\n",
       "      <td>0.261745</td>\n",
       "      <td>0.119658</td>\n",
       "      <td>...</td>\n",
       "      <td>0.142</td>\n",
       "      <td>19.287</td>\n",
       "      <td>0.056667</td>\n",
       "      <td>0.000000</td>\n",
       "      <td>3.342282</td>\n",
       "      <td>1.466667</td>\n",
       "      <td>0.989076</td>\n",
       "      <td>0.000000</td>\n",
       "      <td>153.230769</td>\n",
       "      <td>0.989076</td>\n",
       "    </tr>\n",
       "    <tr>\n",
       "      <th>274</th>\n",
       "      <td>PORTALEGRE</td>\n",
       "      <td>1212</td>\n",
       "      <td>Nisa</td>\n",
       "      <td>MunicÃ­pio</td>\n",
       "      <td>Nisa</td>\n",
       "      <td>562.0</td>\n",
       "      <td>0.30</td>\n",
       "      <td>2295.0</td>\n",
       "      <td>0.240959</td>\n",
       "      <td>0.198915</td>\n",
       "      <td>...</td>\n",
       "      <td>0.012</td>\n",
       "      <td>12.768</td>\n",
       "      <td>0.075404</td>\n",
       "      <td>0.037037</td>\n",
       "      <td>3.214815</td>\n",
       "      <td>0.259259</td>\n",
       "      <td>1.239583</td>\n",
       "      <td>-0.007937</td>\n",
       "      <td>716.310680</td>\n",
       "      <td>1.239583</td>\n",
       "    </tr>\n",
       "    <tr>\n",
       "      <th>275</th>\n",
       "      <td>PORTALEGRE</td>\n",
       "      <td>1211</td>\n",
       "      <td>Monforte</td>\n",
       "      <td>MunicÃ­pio</td>\n",
       "      <td>Monforte</td>\n",
       "      <td>0.0</td>\n",
       "      <td>0.35</td>\n",
       "      <td>815.0</td>\n",
       "      <td>0.327607</td>\n",
       "      <td>0.131086</td>\n",
       "      <td>...</td>\n",
       "      <td>0.009</td>\n",
       "      <td>5.581</td>\n",
       "      <td>0.079017</td>\n",
       "      <td>0.400000</td>\n",
       "      <td>2.885890</td>\n",
       "      <td>0.400000</td>\n",
       "      <td>0.786096</td>\n",
       "      <td>-0.173913</td>\n",
       "      <td>331.267606</td>\n",
       "      <td>0.786096</td>\n",
       "    </tr>\n",
       "    <tr>\n",
       "      <th>276</th>\n",
       "      <td>PORTALEGRE</td>\n",
       "      <td>1207</td>\n",
       "      <td>Elvas</td>\n",
       "      <td>MunicÃ­pio</td>\n",
       "      <td>Elvas</td>\n",
       "      <td>745.0</td>\n",
       "      <td>0.40</td>\n",
       "      <td>5620.0</td>\n",
       "      <td>0.423665</td>\n",
       "      <td>0.199496</td>\n",
       "      <td>...</td>\n",
       "      <td>0.044</td>\n",
       "      <td>21.433</td>\n",
       "      <td>0.108359</td>\n",
       "      <td>1.280000</td>\n",
       "      <td>2.410320</td>\n",
       "      <td>1.120000</td>\n",
       "      <td>0.653449</td>\n",
       "      <td>-0.165803</td>\n",
       "      <td>412.987805</td>\n",
       "      <td>0.653449</td>\n",
       "    </tr>\n",
       "    <tr>\n",
       "      <th>277</th>\n",
       "      <td>PORTALEGRE</td>\n",
       "      <td>1206</td>\n",
       "      <td>Crato</td>\n",
       "      <td>MunicÃ­pio</td>\n",
       "      <td>Crato</td>\n",
       "      <td>0.0</td>\n",
       "      <td>0.30</td>\n",
       "      <td>1147.0</td>\n",
       "      <td>0.230166</td>\n",
       "      <td>0.174242</td>\n",
       "      <td>...</td>\n",
       "      <td>0.013</td>\n",
       "      <td>8.218</td>\n",
       "      <td>0.074380</td>\n",
       "      <td>0.000000</td>\n",
       "      <td>2.852659</td>\n",
       "      <td>0.416667</td>\n",
       "      <td>1.014574</td>\n",
       "      <td>0.000000</td>\n",
       "      <td>403.950617</td>\n",
       "      <td>1.014574</td>\n",
       "    </tr>\n",
       "  </tbody>\n",
       "</table>\n",
       "<p>278 rows × 36 columns</p>\n",
       "</div>"
      ],
      "text/plain": [
       "       distrito  dico                name      ambito                   Anos  \\\n",
       "0    PORTALEGRE  1209                      MunicÃ­pio                GaviÃ£o   \n",
       "1    PORTALEGRE  1208           Fronteira  MunicÃ­pio              Fronteira   \n",
       "2        AVEIRO   114  Oliveira do Bairro  MunicÃ­pio     Oliveira do Bairro   \n",
       "3        AVEIRO   113                      MunicÃ­pio   Oliveira de AzemÃ©is   \n",
       "4        AVEIRO   116                      MunicÃ­pio  SÃ£o JoÃ£o da Madeira   \n",
       "..          ...   ...                 ...         ...                    ...   \n",
       "273  PORTALEGRE  1210                      MunicÃ­pio                MarvÃ£o   \n",
       "274  PORTALEGRE  1212                Nisa  MunicÃ­pio                   Nisa   \n",
       "275  PORTALEGRE  1211            Monforte  MunicÃ­pio               Monforte   \n",
       "276  PORTALEGRE  1207               Elvas  MunicÃ­pio                  Elvas   \n",
       "277  PORTALEGRE  1206               Crato  MunicÃ­pio                  Crato   \n",
       "\n",
       "     medvalsqm2   imi  classicalH  owcharges  charges400  ...  touracarea  \\\n",
       "0           0.0  0.30      1266.0   0.232227    0.159864  ...       0.014   \n",
       "1           0.0  0.30       920.0   0.328261    0.165563  ...       0.016   \n",
       "2         800.0  0.30      6804.0   0.359788    0.234069  ...       0.034   \n",
       "3         822.0  0.30     18236.0   0.367624    0.240304  ...       0.025   \n",
       "4         900.0  0.35      5536.0   0.473988    0.183308  ...       0.630   \n",
       "..          ...   ...         ...        ...         ...  ...         ...   \n",
       "273         0.0  0.30       894.0   0.261745    0.119658  ...       0.142   \n",
       "274       562.0  0.30      2295.0   0.240959    0.198915  ...       0.012   \n",
       "275         0.0  0.35       815.0   0.327607    0.131086  ...       0.009   \n",
       "276       745.0  0.40      5620.0   0.423665    0.199496  ...       0.044   \n",
       "277         0.0  0.30      1147.0   0.230166    0.174242  ...       0.013   \n",
       "\n",
       "     clasacarea  unemprate  newhousepmig  clashousphh  touaccpmig  \\\n",
       "0        12.293   0.077121      1.166667     2.865719    0.666667   \n",
       "1        10.502   0.062769      0.050000     2.836957    0.200000   \n",
       "2       133.217   0.045898      0.113111     1.709730    0.007712   \n",
       "3       189.828   0.060649      6.166667     1.676848    0.333333   \n",
       "4      1342.443   0.087265      0.229508     1.925397    0.027322   \n",
       "..          ...        ...           ...          ...         ...   \n",
       "273      19.287   0.056667      0.000000     3.342282    1.466667   \n",
       "274      12.768   0.075404      0.037037     3.214815    0.259259   \n",
       "275       5.581   0.079017      0.400000     2.885890    0.400000   \n",
       "276      21.433   0.108359      1.280000     2.410320    1.120000   \n",
       "277       8.218   0.074380      0.000000     2.852659    0.416667   \n",
       "\n",
       "     housespercapita  newhnetpop  clasaccppopden  clasaccpop  \n",
       "0           1.068945   -0.101449      315.478261    1.068945  \n",
       "1           0.913226   -0.035714      226.956522    0.913226  \n",
       "2           0.502896    0.158273       43.914685    0.502896  \n",
       "3           0.462093   -0.313559       74.437683    0.462093  \n",
       "4           0.481371    0.400000        3.822074    0.481371  \n",
       "..               ...         ...             ...         ...  \n",
       "273         0.989076    0.000000      153.230769    0.989076  \n",
       "274         1.239583   -0.007937      716.310680    1.239583  \n",
       "275         0.786096   -0.173913      331.267606    0.786096  \n",
       "276         0.653449   -0.165803      412.987805    0.653449  \n",
       "277         1.014574    0.000000      403.950617    1.014574  \n",
       "\n",
       "[278 rows x 36 columns]"
      ]
     },
     "execution_count": 7,
     "metadata": {},
     "output_type": "execute_result"
    }
   ],
   "source": [
    "df"
   ]
  },
  {
   "cell_type": "code",
   "execution_count": 9,
   "metadata": {},
   "outputs": [
    {
     "data": {
      "text/plain": [
       "['distrito',\n",
       " 'dico',\n",
       " 'name',\n",
       " 'ambito',\n",
       " 'Anos',\n",
       " 'medvalsqm2',\n",
       " 'imi',\n",
       " 'classicalH',\n",
       " 'owcharges',\n",
       " 'charges400',\n",
       " 'newhouse',\n",
       " 'pp',\n",
       " 'netpop',\n",
       " 'netmig',\n",
       " 'pop15',\n",
       " 'popeduc15',\n",
       " 'popdens',\n",
       " 'pop',\n",
       " 'pop65',\n",
       " 'active',\n",
       " 'unemployed',\n",
       " 'touracc',\n",
       " 'classacc',\n",
       " 'area',\n",
       " 'chharea',\n",
       " 'newharea',\n",
       " 'touracarea',\n",
       " 'clasacarea',\n",
       " 'unemprate',\n",
       " 'newhousepmig',\n",
       " 'clashousphh',\n",
       " 'touaccpmig',\n",
       " 'housespercapita',\n",
       " 'newhnetpop',\n",
       " 'clasaccppopden',\n",
       " 'clasaccpop']"
      ]
     },
     "execution_count": 9,
     "metadata": {},
     "output_type": "execute_result"
    }
   ],
   "source": [
    "list(df.columns)"
   ]
  },
  {
   "cell_type": "markdown",
   "metadata": {},
   "source": [
    "- Net migration"
   ]
  },
  {
   "cell_type": "code",
   "execution_count": 22,
   "metadata": {},
   "outputs": [
    {
     "data": {
      "image/png": "[encoded data removed]",
      "text/plain": [
       "<Figure size 432x288 with 1 Axes>"
      ]
     },
     "metadata": {
      "needs_background": "light"
     },
     "output_type": "display_data"
    }
   ],
   "source": [
    "# Generate the scatter plot\n",
    "ax = df[\"netmig\"].plot.hist()\n",
    "\n",
    "# Add title and subtitles\n",
    "ax.set_title('Net migration histogram')\n",
    "ax.set_xlabel('Net migration')\n",
    "\n",
    "# Display the plot\n",
    "plt.show()"
   ]
  },
  {
   "cell_type": "code",
   "execution_count": null,
   "metadata": {},
   "outputs": [],
   "source": []
  },
  {
   "cell_type": "code",
   "execution_count": 34,
   "metadata": {},
   "outputs": [
    {
     "data": {
      "image/png": "[encoded data removed]",
      "text/plain": [
       "<Figure size 432x288 with 1 Axes>"
      ]
     },
     "metadata": {
      "needs_background": "light"
     },
     "output_type": "display_data"
    }
   ],
   "source": [
    "df[\"netmig_per_1000\"] = 1000*df[\"netmig\"]/df[\"pop\"]\n",
    "\n",
    "# Generate the scatter plot\n",
    "ax = df.plot.scatter(x='netmig_per_1000', y='medvalsqm2') #netmig\n",
    "\n",
    "ax.set_xlim(-15, 25)\n",
    "\n",
    "# Add title and subtitles\n",
    "ax.set_title('Relationship between net migration per 1000 and house prices')\n",
    "ax.set_xlabel('Net migration')\n",
    "ax.set_ylabel('House prices')\n",
    "\n",
    "# Display the plot\n",
    "plt.show()"
   ]
  },
  {
   "cell_type": "code",
   "execution_count": 26,
   "metadata": {},
   "outputs": [
    {
     "data": {
      "text/plain": [
       "count     278.000000\n",
       "mean       87.870504\n",
       "std       240.092561\n",
       "min     -1141.000000\n",
       "25%        17.250000\n",
       "50%        51.000000\n",
       "75%       132.250000\n",
       "max      1564.000000\n",
       "Name: netmig, dtype: float64"
      ]
     },
     "execution_count": 26,
     "metadata": {},
     "output_type": "execute_result"
    }
   ],
   "source": [
    "df[\"netmig\"].describe()"
   ]
  },
  {
   "cell_type": "code",
   "execution_count": 27,
   "metadata": {},
   "outputs": [
    {
     "data": {
      "text/plain": [
       "0.08942505398643039"
      ]
     },
     "execution_count": 27,
     "metadata": {},
     "output_type": "execute_result"
    }
   ],
   "source": [
    "df[\"medvalsqm2\"].corr(df[\"netmig\"])"
   ]
  },
  {
   "cell_type": "code",
   "execution_count": 20,
   "metadata": {},
   "outputs": [
    {
     "data": {
      "text/plain": [
       "-0.24517929807114666"
      ]
     },
     "execution_count": 20,
     "metadata": {},
     "output_type": "execute_result"
    }
   ],
   "source": [
    "#Preco das casas x clashousphh\n",
    "\n",
    "import numpy as np\n",
    "\n",
    "#np.corrcoef(df[\"medvalsqm2\"], df[\"clashousphh\"])\n",
    "df[\"medvalsqm2\"].corr(df[\"clashousphh\"])\n"
   ]
  },
  {
   "cell_type": "markdown",
   "metadata": {},
   "source": [
    "- Turism"
   ]
  },
  {
   "cell_type": "code",
   "execution_count": 36,
   "metadata": {},
   "outputs": [],
   "source": [
    "df[\"percentage_tourism_accomodations\"] =  df[\"touracc\"] / (df[\"touracc\"]+df[\"classacc\"])"
   ]
  },
  {
   "cell_type": "code",
   "execution_count": 37,
   "metadata": {},
   "outputs": [
    {
     "data": {
      "image/png": "[encoded data removed]",
      "text/plain": [
       "<Figure size 432x288 with 1 Axes>"
      ]
     },
     "metadata": {
      "needs_background": "light"
     },
     "output_type": "display_data"
    }
   ],
   "source": [
    "# Generate the scatter plot\n",
    "ax = df.plot.scatter(x='percentage_tourism_accomodations', y='medvalsqm2') #netmig\n",
    "\n",
    "#ax.set_xlim(-15, 25)\n",
    "\n",
    "# Add title and subtitles\n",
    "ax.set_title('Relationship between % of tourism accomodations and house prices')\n",
    "ax.set_xlabel('Percentage of tourism accommodations')\n",
    "ax.set_ylabel('House prices')\n",
    "\n",
    "# Display the plot\n",
    "plt.show()"
   ]
  },
  {
   "cell_type": "code",
   "execution_count": 38,
   "metadata": {},
   "outputs": [
    {
     "data": {
      "text/plain": [
       "-0.06373359349667487"
      ]
     },
     "execution_count": 38,
     "metadata": {},
     "output_type": "execute_result"
    }
   ],
   "source": [
    "df[\"medvalsqm2\"].corr(df[\"percentage_tourism_accomodations\"])"
   ]
  },
  {
   "cell_type": "markdown",
   "metadata": {},
   "source": [
    "- PCA analysis"
   ]
  },
  {
   "cell_type": "markdown",
   "metadata": {},
   "source": [
    "• medvalsqm2-Median bank valuation per sq meter\n",
    "• imi-municipal tax rate\n",
    "• classicalHH-classical households\n",
    "• owcharges-% of owners with charges (credits)\n",
    "• charges400-% of owners with charges above 400 euros per month\n",
    "• newhouse-New houses\n",
    "• pp-Purchasing Power\n",
    "• netpop-Net population variation\n",
    "• netmig-Net migration\n",
    "• pop15-population above 15 years old\n",
    "• popeduc15-% population above 15 with education degree\n",
    "• popdens-population density\n",
    "• pop-Total population\n",
    "• pop65-% population over 65\n",
    "• active-active population\n",
    "• unemployed-unemployed population\n",
    "• touracc-touristic accommodations\n",
    "• classacc-classical accommodations\n",
    "• dico-municipality code"
   ]
  },
  {
   "cell_type": "code",
   "execution_count": 4,
   "metadata": {},
   "outputs": [],
   "source": [
    "population_variables = [\n",
    "    'classicalH', 'popdens', 'pop', 'active', 'pop15', 'popeduc15', 'pop65'\n",
    "]\n",
    "\n",
    "economic_variables = [\n",
    "    'pp', 'active', 'unemployed', 'imi', 'owcharges', 'charges400'\n",
    "]\n",
    "\n",
    "house_variables = [\n",
    "    'newhouse', 'touracc', 'classacc'\n",
    "]"
   ]
  },
  {
   "cell_type": "code",
   "execution_count": 5,
   "metadata": {},
   "outputs": [],
   "source": [
    "# performing preprocessing part\n",
    "from sklearn.preprocessing import StandardScaler\n",
    "sc = StandardScaler()\n",
    "\n",
    "population = sc.fit_transform(df.loc[:, population_variables])\n",
    "economics = sc.fit_transform(df.loc[:, economic_variables])\n",
    "house = sc.fit_transform(df.loc[:, house_variables])"
   ]
  },
  {
   "cell_type": "code",
   "execution_count": 6,
   "metadata": {},
   "outputs": [],
   "source": [
    "# Applying PCA function on training\n",
    "# and testing set of X component\n",
    "from sklearn.decomposition import PCA\n",
    "\n",
    "def get_first_pca_component(\n",
    "        df_with_selected_variables: pd.DataFrame, \n",
    "        category_of_variables: str):\n",
    "\n",
    "    pca = PCA(n_components = 2)\n",
    "    pca_variables = pca.fit_transform(df_with_selected_variables)\n",
    "    print(\"Explained variance ratio: \", pca.explained_variance_ratio_)\n",
    "\n",
    "    pca1_variables = [i[0] for i in pca_variables]\n",
    "    first_pca_component = pd.DataFrame(pca1_variables, columns=[f\"pca1_{category_of_variables}\"])\n",
    "    print(first_pca_component)\n",
    "\n",
    "    return first_pca_component\n"
   ]
  },
  {
   "cell_type": "code",
   "execution_count": 7,
   "metadata": {},
   "outputs": [
    {
     "name": "stdout",
     "output_type": "stream",
     "text": [
      "Explained variance ratio:  [0.7649542  0.11387869]\n",
      "     pca1_population\n",
      "0          -1.963008\n",
      "1          -1.410260\n",
      "2          -0.029745\n",
      "3           1.111331\n",
      "4           1.149893\n",
      "..               ...\n",
      "273        -1.405813\n",
      "274        -1.580810\n",
      "275        -1.339357\n",
      "276        -0.379039\n",
      "277        -1.723872\n",
      "\n",
      "[278 rows x 1 columns]\n"
     ]
    }
   ],
   "source": [
    "## Generating PCA1 for population variables\n",
    "pca1_population = get_first_pca_component(df_with_selected_variables=population, category_of_variables=\"population\")"
   ]
  },
  {
   "cell_type": "code",
   "execution_count": 9,
   "metadata": {},
   "outputs": [
    {
     "name": "stdout",
     "output_type": "stream",
     "text": [
      "Explained variance ratio:  [0.59999922 0.17833718]\n",
      "     pca1_economics\n",
      "0         -1.392760\n",
      "1         -0.937629\n",
      "2         -0.112028\n",
      "3          0.670052\n",
      "4          1.647819\n",
      "..              ...\n",
      "273       -1.711115\n",
      "274       -1.096078\n",
      "275       -0.988586\n",
      "276        0.687559\n",
      "277       -1.318068\n",
      "\n",
      "[278 rows x 1 columns]\n"
     ]
    }
   ],
   "source": [
    "## Generating PCA1 for economic variables\n",
    "pca1_economics = get_first_pca_component(df_with_selected_variables=economics, category_of_variables=\"economics\")"
   ]
  },
  {
   "cell_type": "code",
   "execution_count": 10,
   "metadata": {},
   "outputs": [
    {
     "name": "stdout",
     "output_type": "stream",
     "text": [
      "Explained variance ratio:  [0.76964643 0.17591817]\n",
      "     pca1_house\n",
      "0     -0.845333\n",
      "1     -0.894658\n",
      "2     -0.519796\n",
      "3      0.021514\n",
      "4     -0.521769\n",
      "..          ...\n",
      "273   -0.645714\n",
      "274   -0.756949\n",
      "275   -0.885551\n",
      "276   -0.196610\n",
      "277   -0.872342\n",
      "\n",
      "[278 rows x 1 columns]\n"
     ]
    }
   ],
   "source": [
    "## Generating PCA1 for house variables\n",
    "pca1_house = get_first_pca_component(df_with_selected_variables=house, category_of_variables=\"house\")"
   ]
  },
  {
   "cell_type": "code",
   "execution_count": 11,
   "metadata": {},
   "outputs": [
    {
     "data": {
      "text/html": [
       "<div>\n",
       "<style scoped>\n",
       "    .dataframe tbody tr th:only-of-type {\n",
       "        vertical-align: middle;\n",
       "    }\n",
       "\n",
       "    .dataframe tbody tr th {\n",
       "        vertical-align: top;\n",
       "    }\n",
       "\n",
       "    .dataframe thead th {\n",
       "        text-align: right;\n",
       "    }\n",
       "</style>\n",
       "<table border=\"1\" class=\"dataframe\">\n",
       "  <thead>\n",
       "    <tr style=\"text-align: right;\">\n",
       "      <th></th>\n",
       "      <th>pca1_economics</th>\n",
       "      <th>pca1_population</th>\n",
       "      <th>pca1_house</th>\n",
       "    </tr>\n",
       "  </thead>\n",
       "  <tbody>\n",
       "    <tr>\n",
       "      <th>0</th>\n",
       "      <td>-1.392760</td>\n",
       "      <td>-1.963008</td>\n",
       "      <td>-0.845333</td>\n",
       "    </tr>\n",
       "    <tr>\n",
       "      <th>1</th>\n",
       "      <td>-0.937629</td>\n",
       "      <td>-1.410260</td>\n",
       "      <td>-0.894658</td>\n",
       "    </tr>\n",
       "    <tr>\n",
       "      <th>2</th>\n",
       "      <td>-0.112028</td>\n",
       "      <td>-0.029745</td>\n",
       "      <td>-0.519796</td>\n",
       "    </tr>\n",
       "    <tr>\n",
       "      <th>3</th>\n",
       "      <td>0.670052</td>\n",
       "      <td>1.111331</td>\n",
       "      <td>0.021514</td>\n",
       "    </tr>\n",
       "    <tr>\n",
       "      <th>4</th>\n",
       "      <td>1.647819</td>\n",
       "      <td>1.149893</td>\n",
       "      <td>-0.521769</td>\n",
       "    </tr>\n",
       "    <tr>\n",
       "      <th>...</th>\n",
       "      <td>...</td>\n",
       "      <td>...</td>\n",
       "      <td>...</td>\n",
       "    </tr>\n",
       "    <tr>\n",
       "      <th>273</th>\n",
       "      <td>-1.711115</td>\n",
       "      <td>-1.405813</td>\n",
       "      <td>-0.645714</td>\n",
       "    </tr>\n",
       "    <tr>\n",
       "      <th>274</th>\n",
       "      <td>-1.096078</td>\n",
       "      <td>-1.580810</td>\n",
       "      <td>-0.756949</td>\n",
       "    </tr>\n",
       "    <tr>\n",
       "      <th>275</th>\n",
       "      <td>-0.988586</td>\n",
       "      <td>-1.339357</td>\n",
       "      <td>-0.885551</td>\n",
       "    </tr>\n",
       "    <tr>\n",
       "      <th>276</th>\n",
       "      <td>0.687559</td>\n",
       "      <td>-0.379039</td>\n",
       "      <td>-0.196610</td>\n",
       "    </tr>\n",
       "    <tr>\n",
       "      <th>277</th>\n",
       "      <td>-1.318068</td>\n",
       "      <td>-1.723872</td>\n",
       "      <td>-0.872342</td>\n",
       "    </tr>\n",
       "  </tbody>\n",
       "</table>\n",
       "<p>278 rows × 3 columns</p>\n",
       "</div>"
      ],
      "text/plain": [
       "     pca1_economics  pca1_population  pca1_house\n",
       "0         -1.392760        -1.963008   -0.845333\n",
       "1         -0.937629        -1.410260   -0.894658\n",
       "2         -0.112028        -0.029745   -0.519796\n",
       "3          0.670052         1.111331    0.021514\n",
       "4          1.647819         1.149893   -0.521769\n",
       "..              ...              ...         ...\n",
       "273       -1.711115        -1.405813   -0.645714\n",
       "274       -1.096078        -1.580810   -0.756949\n",
       "275       -0.988586        -1.339357   -0.885551\n",
       "276        0.687559        -0.379039   -0.196610\n",
       "277       -1.318068        -1.723872   -0.872342\n",
       "\n",
       "[278 rows x 3 columns]"
      ]
     },
     "execution_count": 11,
     "metadata": {},
     "output_type": "execute_result"
    }
   ],
   "source": [
    "pca_merge = pd.concat([pca1_economics, pca1_population, pca1_house], axis=1)\n",
    "pca_merge"
   ]
  },
  {
   "cell_type": "code",
   "execution_count": 139,
   "metadata": {},
   "outputs": [
    {
     "data": {
      "image/png": "[encoded data removed]",
      "text/plain": [
       "<Figure size 432x288 with 1 Axes>"
      ]
     },
     "metadata": {
      "needs_background": "light"
     },
     "output_type": "display_data"
    }
   ],
   "source": [
    "# Generate the scatter plot\n",
    "ax = pca_merge.plot.scatter(x='pca1_economics', y='pca1_house')\n",
    "\n",
    "# Add title and subtitles\n",
    "ax.set_title('Relationship between the PCA of house variables and PCA of economic variables')\n",
    "ax.set_xlabel('PCA1 - Economic variables')\n",
    "ax.set_ylabel('PCA1 - House variables')\n",
    "\n",
    "# Display the plot\n",
    "plt.show()"
   ]
  },
  {
   "cell_type": "code",
   "execution_count": 13,
   "metadata": {},
   "outputs": [],
   "source": [
    "df_with_pca = pd.concat([df, pca_merge], axis=1)"
   ]
  },
  {
   "cell_type": "code",
   "execution_count": 16,
   "metadata": {},
   "outputs": [
    {
     "data": {
      "image/png": "[encoded data removed]",
      "text/plain": [
       "<Figure size 720x432 with 2 Axes>"
      ]
     },
     "metadata": {
      "needs_background": "light"
     },
     "output_type": "display_data"
    }
   ],
   "source": [
    "import seaborn as sns\n",
    "import numpy as np\n",
    "\n",
    "corr = df_with_pca.loc[:, [\"pca1_population\"]+population_variables].corr()\n",
    "\n",
    "# Create a mask\n",
    "mask = np.triu(np.ones_like(corr, dtype=bool))\n",
    "\n",
    "# Create a custom divergin palette\n",
    "cmap = sns.diverging_palette(100, 7, s=75, l=40,\n",
    "                            n=5, center=\"light\", as_cmap=True)\n",
    "\n",
    "plt.figure(figsize=(10, 6))\n",
    "sns.heatmap(corr, mask=mask, center=0, annot=True,\n",
    "            fmt='.2f', square=True, cmap=cmap)\n",
    "\n",
    "plt.yticks(rotation=0) \n",
    "\n",
    "plt.show()"
   ]
  },
  {
   "cell_type": "code",
   "execution_count": 141,
   "metadata": {},
   "outputs": [
    {
     "data": {
      "image/png": "[encoded data removed]",
      "text/plain": [
       "<Figure size 720x432 with 2 Axes>"
      ]
     },
     "metadata": {
      "needs_background": "light"
     },
     "output_type": "display_data"
    }
   ],
   "source": [
    "corr = df_with_pca.loc[:, [\"pca1_economics\"]+economic_variables].corr()\n",
    "\n",
    "# Create a mask\n",
    "mask = np.triu(np.ones_like(corr, dtype=bool))\n",
    "\n",
    "# Create a custom divergin palette\n",
    "cmap = sns.diverging_palette(100, 7, s=75, l=40,\n",
    "                            n=5, center=\"light\", as_cmap=True)\n",
    "\n",
    "plt.figure(figsize=(10, 6))\n",
    "sns.heatmap(corr, mask=mask, center=0, annot=True,\n",
    "            fmt='.2f', square=True, cmap=cmap)\n",
    "\n",
    "plt.yticks(rotation=0) \n",
    "plt.show()"
   ]
  },
  {
   "cell_type": "code",
   "execution_count": 17,
   "metadata": {},
   "outputs": [
    {
     "data": {
      "image/png": "[encoded data removed]",
      "text/plain": [
       "<Figure size 720x432 with 2 Axes>"
      ]
     },
     "metadata": {
      "needs_background": "light"
     },
     "output_type": "display_data"
    }
   ],
   "source": [
    "corr = df_with_pca.loc[:, [\"pca1_house\"]+house_variables].corr()\n",
    "\n",
    "# Create a mask\n",
    "mask = np.triu(np.ones_like(corr, dtype=bool))\n",
    "\n",
    "# Create a custom divergin palette\n",
    "cmap = sns.diverging_palette(100, 7, s=75, l=40,\n",
    "                            n=5, center=\"light\", as_cmap=True)\n",
    "\n",
    "plt.figure(figsize=(10, 6))\n",
    "sns.heatmap(corr, mask=mask, center=0, annot=True,\n",
    "            fmt='.2f', square=True, cmap=cmap)\n",
    "\n",
    "plt.yticks(rotation=0) \n",
    "plt.show()"
   ]
  },
  {
   "cell_type": "code",
   "execution_count": 18,
   "metadata": {},
   "outputs": [
    {
     "data": {
      "text/html": [
       "<div>\n",
       "<style scoped>\n",
       "    .dataframe tbody tr th:only-of-type {\n",
       "        vertical-align: middle;\n",
       "    }\n",
       "\n",
       "    .dataframe tbody tr th {\n",
       "        vertical-align: top;\n",
       "    }\n",
       "\n",
       "    .dataframe thead th {\n",
       "        text-align: right;\n",
       "    }\n",
       "</style>\n",
       "<table border=\"1\" class=\"dataframe\">\n",
       "  <thead>\n",
       "    <tr style=\"text-align: right;\">\n",
       "      <th></th>\n",
       "      <th>medvalsqm2</th>\n",
       "      <th>pca1_house</th>\n",
       "      <th>pca1_economics</th>\n",
       "      <th>pca1_population</th>\n",
       "    </tr>\n",
       "  </thead>\n",
       "  <tbody>\n",
       "    <tr>\n",
       "      <th>medvalsqm2</th>\n",
       "      <td>1.000000</td>\n",
       "      <td>0.644206</td>\n",
       "      <td>0.778571</td>\n",
       "      <td>0.684316</td>\n",
       "    </tr>\n",
       "    <tr>\n",
       "      <th>pca1_house</th>\n",
       "      <td>0.644206</td>\n",
       "      <td>1.000000</td>\n",
       "      <td>0.842632</td>\n",
       "      <td>0.906440</td>\n",
       "    </tr>\n",
       "    <tr>\n",
       "      <th>pca1_economics</th>\n",
       "      <td>0.778571</td>\n",
       "      <td>0.842632</td>\n",
       "      <td>1.000000</td>\n",
       "      <td>0.934590</td>\n",
       "    </tr>\n",
       "    <tr>\n",
       "      <th>pca1_population</th>\n",
       "      <td>0.684316</td>\n",
       "      <td>0.906440</td>\n",
       "      <td>0.934590</td>\n",
       "      <td>1.000000</td>\n",
       "    </tr>\n",
       "  </tbody>\n",
       "</table>\n",
       "</div>"
      ],
      "text/plain": [
       "                 medvalsqm2  pca1_house  pca1_economics  pca1_population\n",
       "medvalsqm2         1.000000    0.644206        0.778571         0.684316\n",
       "pca1_house         0.644206    1.000000        0.842632         0.906440\n",
       "pca1_economics     0.778571    0.842632        1.000000         0.934590\n",
       "pca1_population    0.684316    0.906440        0.934590         1.000000"
      ]
     },
     "execution_count": 18,
     "metadata": {},
     "output_type": "execute_result"
    }
   ],
   "source": [
    "corr = df_with_pca.loc[:, ['medvalsqm2', 'pca1_house', 'pca1_economics', 'pca1_population']].corr()\n",
    "corr"
   ]
  }
 ],
 "metadata": {
  "interpreter": {
   "hash": "31f2aee4e71d21fbe5cf8b01ff0e069b9275f58929596ceb00d14d90e3e16cd6"
  },
  "kernelspec": {
   "display_name": "Python 3.9.6 64-bit",
   "language": "python",
   "name": "python3"
  },
  "language_info": {
   "codemirror_mode": {
    "name": "ipython",
    "version": 3
   },
   "file_extension": ".py",
   "mimetype": "text/x-python",
   "name": "python",
   "nbconvert_exporter": "python",
   "pygments_lexer": "ipython3",
   "version": "3.9.7"
  },
  "orig_nbformat": 4
 },
 "nbformat": 4,
 "nbformat_minor": 2
}
