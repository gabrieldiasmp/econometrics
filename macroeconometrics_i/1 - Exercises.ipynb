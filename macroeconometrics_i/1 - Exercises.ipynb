{
 "cells": [
  {
   "cell_type": "markdown",
   "metadata": {},
   "source": [
    "* 5d)"
   ]
  },
  {
   "cell_type": "markdown",
   "metadata": {},
   "source": [
    "The serial correlation condition was tested and the series has serial correlation of order 2. This is a mispecification error, because according to the correlogram, an ARMA(2,2) should be tested"
   ]
  },
  {
   "cell_type": "markdown",
   "metadata": {},
   "source": [
    "* 5e)"
   ]
  },
  {
   "cell_type": "markdown",
   "metadata": {},
   "source": [
    "According to the White test, heteroskedasticity is present and we should treat it through robust standard errors (like HAC)"
   ]
  }
 ],
 "metadata": {
  "interpreter": {
   "hash": "754eb1539c5fb6a6c7d5e0d157e3723f9f76d810abc9921a69b8892106f7d7a6"
  },
  "kernelspec": {
   "display_name": "Python 3.9.7 ('base')",
   "language": "python",
   "name": "python3"
  },
  "language_info": {
   "name": "python",
   "version": "3.9.7"
  },
  "orig_nbformat": 4
 },
 "nbformat": 4,
 "nbformat_minor": 2
}
