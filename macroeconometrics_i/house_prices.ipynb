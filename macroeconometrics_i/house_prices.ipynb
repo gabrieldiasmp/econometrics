{
 "cells": [
  {
   "cell_type": "markdown",
   "metadata": {},
   "source": [
    "## Setup"
   ]
  },
  {
   "cell_type": "code",
   "execution_count": 2,
   "metadata": {},
   "outputs": [],
   "source": [
    "import os\n",
    "import pandas as pd\n",
    "import numpy as np\n",
    "import matplotlib.pyplot as plt\n",
    "\n",
    "import statsmodels.api as sm\n",
    "from statsmodels.graphics.tsaplots import plot_acf, plot_pacf\n",
    "from statsmodels.tsa.seasonal import seasonal_decompose\n",
    "from statsmodels.tsa.stattools import adfuller"
   ]
  },
  {
   "cell_type": "markdown",
   "metadata": {},
   "source": [
    "## Preprocessing the data"
   ]
  },
  {
   "cell_type": "code",
   "execution_count": 18,
   "metadata": {},
   "outputs": [],
   "source": [
    "house_prices = pd.read_excel(\"HousePrices.xlsx\")\n",
    "house_prices = house_prices.rename(columns={'Unnamed: 0': \"date\"})"
   ]
  },
  {
   "cell_type": "code",
   "execution_count": 19,
   "metadata": {},
   "outputs": [],
   "source": [
    "house_prices_diff = house_prices.drop(columns=\"date\").apply(lambda x: x.diff())\n",
    "house_prices_diff[\"date\"] = house_prices[\"date\"]"
   ]
  },
  {
   "cell_type": "code",
   "execution_count": 20,
   "metadata": {},
   "outputs": [
    {
     "data": {
      "text/html": [
       "<div>\n",
       "<style scoped>\n",
       "    .dataframe tbody tr th:only-of-type {\n",
       "        vertical-align: middle;\n",
       "    }\n",
       "\n",
       "    .dataframe tbody tr th {\n",
       "        vertical-align: top;\n",
       "    }\n",
       "\n",
       "    .dataframe thead th {\n",
       "        text-align: right;\n",
       "    }\n",
       "</style>\n",
       "<table border=\"1\" class=\"dataframe\">\n",
       "  <thead>\n",
       "    <tr style=\"text-align: right;\">\n",
       "      <th></th>\n",
       "      <th>PTrpp</th>\n",
       "      <th>PTgdppercapita</th>\n",
       "      <th>PTgfcfhousvol</th>\n",
       "      <th>PTloanhpr</th>\n",
       "      <th>PTmtgrr</th>\n",
       "      <th>PTunemp</th>\n",
       "      <th>date</th>\n",
       "    </tr>\n",
       "  </thead>\n",
       "  <tbody>\n",
       "    <tr>\n",
       "      <th>0</th>\n",
       "      <td>NaN</td>\n",
       "      <td>NaN</td>\n",
       "      <td>NaN</td>\n",
       "      <td>NaN</td>\n",
       "      <td>NaN</td>\n",
       "      <td>NaN</td>\n",
       "      <td>1988-03-01</td>\n",
       "    </tr>\n",
       "    <tr>\n",
       "      <th>1</th>\n",
       "      <td>0.014625</td>\n",
       "      <td>0.007131</td>\n",
       "      <td>-0.007566</td>\n",
       "      <td>0.019051</td>\n",
       "      <td>-0.288497</td>\n",
       "      <td>-0.264240</td>\n",
       "      <td>1988-06-01</td>\n",
       "    </tr>\n",
       "    <tr>\n",
       "      <th>2</th>\n",
       "      <td>0.013298</td>\n",
       "      <td>0.019992</td>\n",
       "      <td>0.060268</td>\n",
       "      <td>0.006607</td>\n",
       "      <td>-1.148597</td>\n",
       "      <td>-0.293735</td>\n",
       "      <td>1988-09-01</td>\n",
       "    </tr>\n",
       "    <tr>\n",
       "      <th>3</th>\n",
       "      <td>0.019661</td>\n",
       "      <td>0.011734</td>\n",
       "      <td>-0.021246</td>\n",
       "      <td>0.056427</td>\n",
       "      <td>-0.697748</td>\n",
       "      <td>-0.295162</td>\n",
       "      <td>1988-12-01</td>\n",
       "    </tr>\n",
       "    <tr>\n",
       "      <th>4</th>\n",
       "      <td>0.009872</td>\n",
       "      <td>0.026327</td>\n",
       "      <td>-0.042270</td>\n",
       "      <td>0.016402</td>\n",
       "      <td>-0.632530</td>\n",
       "      <td>-0.117802</td>\n",
       "      <td>1989-03-01</td>\n",
       "    </tr>\n",
       "    <tr>\n",
       "      <th>...</th>\n",
       "      <td>...</td>\n",
       "      <td>...</td>\n",
       "      <td>...</td>\n",
       "      <td>...</td>\n",
       "      <td>...</td>\n",
       "      <td>...</td>\n",
       "      <td>...</td>\n",
       "    </tr>\n",
       "    <tr>\n",
       "      <th>130</th>\n",
       "      <td>-0.007414</td>\n",
       "      <td>0.135302</td>\n",
       "      <td>0.011201</td>\n",
       "      <td>0.003844</td>\n",
       "      <td>-0.303783</td>\n",
       "      <td>2.213341</td>\n",
       "      <td>2020-09-01</td>\n",
       "    </tr>\n",
       "    <tr>\n",
       "      <th>131</th>\n",
       "      <td>0.026296</td>\n",
       "      <td>0.002670</td>\n",
       "      <td>0.018238</td>\n",
       "      <td>0.009344</td>\n",
       "      <td>0.331295</td>\n",
       "      <td>-0.966803</td>\n",
       "      <td>2020-12-01</td>\n",
       "    </tr>\n",
       "    <tr>\n",
       "      <th>132</th>\n",
       "      <td>0.022267</td>\n",
       "      <td>-0.022431</td>\n",
       "      <td>0.049357</td>\n",
       "      <td>0.006038</td>\n",
       "      <td>-0.417235</td>\n",
       "      <td>-0.295931</td>\n",
       "      <td>2021-03-01</td>\n",
       "    </tr>\n",
       "    <tr>\n",
       "      <th>133</th>\n",
       "      <td>0.025088</td>\n",
       "      <td>0.042137</td>\n",
       "      <td>0.043464</td>\n",
       "      <td>0.008253</td>\n",
       "      <td>-0.198512</td>\n",
       "      <td>0.013170</td>\n",
       "      <td>2021-06-01</td>\n",
       "    </tr>\n",
       "    <tr>\n",
       "      <th>134</th>\n",
       "      <td>0.020422</td>\n",
       "      <td>0.026783</td>\n",
       "      <td>0.013272</td>\n",
       "      <td>0.004329</td>\n",
       "      <td>-0.613637</td>\n",
       "      <td>-0.604376</td>\n",
       "      <td>2021-09-01</td>\n",
       "    </tr>\n",
       "  </tbody>\n",
       "</table>\n",
       "<p>135 rows × 7 columns</p>\n",
       "</div>"
      ],
      "text/plain": [
       "        PTrpp  PTgdppercapita  PTgfcfhousvol  PTloanhpr   PTmtgrr   PTunemp  \\\n",
       "0         NaN             NaN            NaN        NaN       NaN       NaN   \n",
       "1    0.014625        0.007131      -0.007566   0.019051 -0.288497 -0.264240   \n",
       "2    0.013298        0.019992       0.060268   0.006607 -1.148597 -0.293735   \n",
       "3    0.019661        0.011734      -0.021246   0.056427 -0.697748 -0.295162   \n",
       "4    0.009872        0.026327      -0.042270   0.016402 -0.632530 -0.117802   \n",
       "..        ...             ...            ...        ...       ...       ...   \n",
       "130 -0.007414        0.135302       0.011201   0.003844 -0.303783  2.213341   \n",
       "131  0.026296        0.002670       0.018238   0.009344  0.331295 -0.966803   \n",
       "132  0.022267       -0.022431       0.049357   0.006038 -0.417235 -0.295931   \n",
       "133  0.025088        0.042137       0.043464   0.008253 -0.198512  0.013170   \n",
       "134  0.020422        0.026783       0.013272   0.004329 -0.613637 -0.604376   \n",
       "\n",
       "          date  \n",
       "0   1988-03-01  \n",
       "1   1988-06-01  \n",
       "2   1988-09-01  \n",
       "3   1988-12-01  \n",
       "4   1989-03-01  \n",
       "..         ...  \n",
       "130 2020-09-01  \n",
       "131 2020-12-01  \n",
       "132 2021-03-01  \n",
       "133 2021-06-01  \n",
       "134 2021-09-01  \n",
       "\n",
       "[135 rows x 7 columns]"
      ]
     },
     "execution_count": 20,
     "metadata": {},
     "output_type": "execute_result"
    }
   ],
   "source": [
    "house_prices_diff"
   ]
  },
  {
   "cell_type": "code",
   "execution_count": 22,
   "metadata": {},
   "outputs": [],
   "source": [
    "house_prices_diff = house_prices_diff.dropna()"
   ]
  },
  {
   "cell_type": "code",
   "execution_count": 23,
   "metadata": {},
   "outputs": [
    {
     "data": {
      "text/plain": [
       "Index(['PTrpp', 'PTgdppercapita', 'PTgfcfhousvol', 'PTloanhpr', 'PTmtgrr',\n",
       "       'PTunemp', 'date'],\n",
       "      dtype='object')"
      ]
     },
     "execution_count": 23,
     "metadata": {},
     "output_type": "execute_result"
    }
   ],
   "source": [
    "house_prices_diff.columns"
   ]
  },
  {
   "cell_type": "markdown",
   "metadata": {},
   "source": [
    "## Modeling"
   ]
  },
  {
   "cell_type": "markdown",
   "metadata": {},
   "source": [
    "- Running OLS for the time-series"
   ]
  },
  {
   "cell_type": "code",
   "execution_count": 45,
   "metadata": {},
   "outputs": [
    {
     "name": "stderr",
     "output_type": "stream",
     "text": [
      "/Users/gabrieldiasmp/opt/anaconda3/lib/python3.9/site-packages/statsmodels/tsa/tsatools.py:142: FutureWarning: In a future version of pandas all arguments of concat except for the argument 'objs' will be keyword-only\n",
      "  x = pd.concat(x[::order], 1)\n"
     ]
    }
   ],
   "source": [
    "x=house_prices_diff.loc[:, ~house_prices_diff.columns.isin(['PTrpp', \"date\"])]\n",
    "x = sm.add_constant(x)\n",
    "y=house_prices_diff.loc[:, ['PTrpp']]\n",
    "model = sm.OLS(y, x).fit()"
   ]
  },
  {
   "cell_type": "code",
   "execution_count": 46,
   "metadata": {},
   "outputs": [
    {
     "data": {
      "text/html": [
       "<table class=\"simpletable\">\n",
       "<caption>OLS Regression Results</caption>\n",
       "<tr>\n",
       "  <th>Dep. Variable:</th>          <td>PTrpp</td>      <th>  R-squared:         </th> <td>   0.242</td>\n",
       "</tr>\n",
       "<tr>\n",
       "  <th>Model:</th>                   <td>OLS</td>       <th>  Adj. R-squared:    </th> <td>   0.212</td>\n",
       "</tr>\n",
       "<tr>\n",
       "  <th>Method:</th>             <td>Least Squares</td>  <th>  F-statistic:       </th> <td>   8.173</td>\n",
       "</tr>\n",
       "<tr>\n",
       "  <th>Date:</th>             <td>Tue, 28 Feb 2023</td> <th>  Prob (F-statistic):</th> <td>1.01e-06</td>\n",
       "</tr>\n",
       "<tr>\n",
       "  <th>Time:</th>                 <td>18:57:48</td>     <th>  Log-Likelihood:    </th> <td>  386.50</td>\n",
       "</tr>\n",
       "<tr>\n",
       "  <th>No. Observations:</th>      <td>   134</td>      <th>  AIC:               </th> <td>  -761.0</td>\n",
       "</tr>\n",
       "<tr>\n",
       "  <th>Df Residuals:</th>          <td>   128</td>      <th>  BIC:               </th> <td>  -743.6</td>\n",
       "</tr>\n",
       "<tr>\n",
       "  <th>Df Model:</th>              <td>     5</td>      <th>                     </th>     <td> </td>   \n",
       "</tr>\n",
       "<tr>\n",
       "  <th>Covariance Type:</th>      <td>nonrobust</td>    <th>                     </th>     <td> </td>   \n",
       "</tr>\n",
       "</table>\n",
       "<table class=\"simpletable\">\n",
       "<tr>\n",
       "         <td></td>           <th>coef</th>     <th>std err</th>      <th>t</th>      <th>P>|t|</th>  <th>[0.025</th>    <th>0.975]</th>  \n",
       "</tr>\n",
       "<tr>\n",
       "  <th>const</th>          <td>    0.0026</td> <td>    0.001</td> <td>    1.818</td> <td> 0.071</td> <td>   -0.000</td> <td>    0.005</td>\n",
       "</tr>\n",
       "<tr>\n",
       "  <th>PTgdppercapita</th> <td>    0.0466</td> <td>    0.059</td> <td>    0.787</td> <td> 0.433</td> <td>   -0.071</td> <td>    0.164</td>\n",
       "</tr>\n",
       "<tr>\n",
       "  <th>PTgfcfhousvol</th>  <td>    0.0547</td> <td>    0.034</td> <td>    1.587</td> <td> 0.115</td> <td>   -0.013</td> <td>    0.123</td>\n",
       "</tr>\n",
       "<tr>\n",
       "  <th>PTloanhpr</th>      <td>    0.0136</td> <td>    0.048</td> <td>    0.286</td> <td> 0.776</td> <td>   -0.081</td> <td>    0.108</td>\n",
       "</tr>\n",
       "<tr>\n",
       "  <th>PTmtgrr</th>        <td>    0.0029</td> <td>    0.002</td> <td>    1.687</td> <td> 0.094</td> <td>   -0.000</td> <td>    0.006</td>\n",
       "</tr>\n",
       "<tr>\n",
       "  <th>PTunemp</th>        <td>   -0.0147</td> <td>    0.003</td> <td>   -5.418</td> <td> 0.000</td> <td>   -0.020</td> <td>   -0.009</td>\n",
       "</tr>\n",
       "</table>\n",
       "<table class=\"simpletable\">\n",
       "<tr>\n",
       "  <th>Omnibus:</th>       <td> 4.001</td> <th>  Durbin-Watson:     </th> <td>   1.039</td>\n",
       "</tr>\n",
       "<tr>\n",
       "  <th>Prob(Omnibus):</th> <td> 0.135</td> <th>  Jarque-Bera (JB):  </th> <td>   4.234</td>\n",
       "</tr>\n",
       "<tr>\n",
       "  <th>Skew:</th>          <td> 0.184</td> <th>  Prob(JB):          </th> <td>   0.120</td>\n",
       "</tr>\n",
       "<tr>\n",
       "  <th>Kurtosis:</th>      <td> 3.789</td> <th>  Cond. No.          </th> <td>    50.4</td>\n",
       "</tr>\n",
       "</table><br/><br/>Notes:<br/>[1] Standard Errors assume that the covariance matrix of the errors is correctly specified."
      ],
      "text/plain": [
       "<class 'statsmodels.iolib.summary.Summary'>\n",
       "\"\"\"\n",
       "                            OLS Regression Results                            \n",
       "==============================================================================\n",
       "Dep. Variable:                  PTrpp   R-squared:                       0.242\n",
       "Model:                            OLS   Adj. R-squared:                  0.212\n",
       "Method:                 Least Squares   F-statistic:                     8.173\n",
       "Date:                Tue, 28 Feb 2023   Prob (F-statistic):           1.01e-06\n",
       "Time:                        18:57:48   Log-Likelihood:                 386.50\n",
       "No. Observations:                 134   AIC:                            -761.0\n",
       "Df Residuals:                     128   BIC:                            -743.6\n",
       "Df Model:                           5                                         \n",
       "Covariance Type:            nonrobust                                         \n",
       "==================================================================================\n",
       "                     coef    std err          t      P>|t|      [0.025      0.975]\n",
       "----------------------------------------------------------------------------------\n",
       "const              0.0026      0.001      1.818      0.071      -0.000       0.005\n",
       "PTgdppercapita     0.0466      0.059      0.787      0.433      -0.071       0.164\n",
       "PTgfcfhousvol      0.0547      0.034      1.587      0.115      -0.013       0.123\n",
       "PTloanhpr          0.0136      0.048      0.286      0.776      -0.081       0.108\n",
       "PTmtgrr            0.0029      0.002      1.687      0.094      -0.000       0.006\n",
       "PTunemp           -0.0147      0.003     -5.418      0.000      -0.020      -0.009\n",
       "==============================================================================\n",
       "Omnibus:                        4.001   Durbin-Watson:                   1.039\n",
       "Prob(Omnibus):                  0.135   Jarque-Bera (JB):                4.234\n",
       "Skew:                           0.184   Prob(JB):                        0.120\n",
       "Kurtosis:                       3.789   Cond. No.                         50.4\n",
       "==============================================================================\n",
       "\n",
       "Notes:\n",
       "[1] Standard Errors assume that the covariance matrix of the errors is correctly specified.\n",
       "\"\"\""
      ]
     },
     "execution_count": 46,
     "metadata": {},
     "output_type": "execute_result"
    }
   ],
   "source": [
    "model.summary()"
   ]
  },
  {
   "cell_type": "markdown",
   "metadata": {},
   "source": [
    "- White test"
   ]
  },
  {
   "cell_type": "code",
   "execution_count": 36,
   "metadata": {},
   "outputs": [
    {
     "name": "stdout",
     "output_type": "stream",
     "text": [
      "{'Test Statistic': 31.617196354079915, 'Test Statistic p-value': 0.04755200600812489, 'F-Statistic': 1.744796518938365, 'F-Test p-value': 0.03600543680901449}\n"
     ]
    }
   ],
   "source": [
    "from statsmodels.stats.diagnostic import het_white\n",
    "\n",
    "#perform White's test\n",
    "white_test = het_white(model.resid,  x)\n",
    "\n",
    "#define labels to use for output of White's test\n",
    "labels = ['Test Statistic', 'Test Statistic p-value', 'F-Statistic', 'F-Test p-value']\n",
    "\n",
    "#print results of White's test\n",
    "print(dict(zip(labels, white_test)))"
   ]
  },
  {
   "cell_type": "markdown",
   "metadata": {},
   "source": [
    "- Running OLS with robust standard errors (because it has heteroskedasticity)"
   ]
  },
  {
   "cell_type": "code",
   "execution_count": 47,
   "metadata": {},
   "outputs": [],
   "source": [
    "model_robust = sm.OLS(y, x).fit(cov_type=\"HC0\")"
   ]
  },
  {
   "cell_type": "code",
   "execution_count": 48,
   "metadata": {},
   "outputs": [
    {
     "data": {
      "text/html": [
       "<table class=\"simpletable\">\n",
       "<caption>OLS Regression Results</caption>\n",
       "<tr>\n",
       "  <th>Dep. Variable:</th>          <td>PTrpp</td>      <th>  R-squared:         </th> <td>   0.242</td>\n",
       "</tr>\n",
       "<tr>\n",
       "  <th>Model:</th>                   <td>OLS</td>       <th>  Adj. R-squared:    </th> <td>   0.212</td>\n",
       "</tr>\n",
       "<tr>\n",
       "  <th>Method:</th>             <td>Least Squares</td>  <th>  F-statistic:       </th> <td>   7.595</td>\n",
       "</tr>\n",
       "<tr>\n",
       "  <th>Date:</th>             <td>Tue, 28 Feb 2023</td> <th>  Prob (F-statistic):</th> <td>2.81e-06</td>\n",
       "</tr>\n",
       "<tr>\n",
       "  <th>Time:</th>                 <td>18:58:22</td>     <th>  Log-Likelihood:    </th> <td>  386.50</td>\n",
       "</tr>\n",
       "<tr>\n",
       "  <th>No. Observations:</th>      <td>   134</td>      <th>  AIC:               </th> <td>  -761.0</td>\n",
       "</tr>\n",
       "<tr>\n",
       "  <th>Df Residuals:</th>          <td>   128</td>      <th>  BIC:               </th> <td>  -743.6</td>\n",
       "</tr>\n",
       "<tr>\n",
       "  <th>Df Model:</th>              <td>     5</td>      <th>                     </th>     <td> </td>   \n",
       "</tr>\n",
       "<tr>\n",
       "  <th>Covariance Type:</th>         <td>HC0</td>       <th>                     </th>     <td> </td>   \n",
       "</tr>\n",
       "</table>\n",
       "<table class=\"simpletable\">\n",
       "<tr>\n",
       "         <td></td>           <th>coef</th>     <th>std err</th>      <th>z</th>      <th>P>|z|</th>  <th>[0.025</th>    <th>0.975]</th>  \n",
       "</tr>\n",
       "<tr>\n",
       "  <th>const</th>          <td>    0.0026</td> <td>    0.002</td> <td>    1.729</td> <td> 0.084</td> <td>   -0.000</td> <td>    0.006</td>\n",
       "</tr>\n",
       "<tr>\n",
       "  <th>PTgdppercapita</th> <td>    0.0466</td> <td>    0.068</td> <td>    0.687</td> <td> 0.492</td> <td>   -0.086</td> <td>    0.179</td>\n",
       "</tr>\n",
       "<tr>\n",
       "  <th>PTgfcfhousvol</th>  <td>    0.0547</td> <td>    0.033</td> <td>    1.664</td> <td> 0.096</td> <td>   -0.010</td> <td>    0.119</td>\n",
       "</tr>\n",
       "<tr>\n",
       "  <th>PTloanhpr</th>      <td>    0.0136</td> <td>    0.039</td> <td>    0.354</td> <td> 0.723</td> <td>   -0.062</td> <td>    0.089</td>\n",
       "</tr>\n",
       "<tr>\n",
       "  <th>PTmtgrr</th>        <td>    0.0029</td> <td>    0.002</td> <td>    1.555</td> <td> 0.120</td> <td>   -0.001</td> <td>    0.007</td>\n",
       "</tr>\n",
       "<tr>\n",
       "  <th>PTunemp</th>        <td>   -0.0147</td> <td>    0.003</td> <td>   -4.601</td> <td> 0.000</td> <td>   -0.021</td> <td>   -0.008</td>\n",
       "</tr>\n",
       "</table>\n",
       "<table class=\"simpletable\">\n",
       "<tr>\n",
       "  <th>Omnibus:</th>       <td> 4.001</td> <th>  Durbin-Watson:     </th> <td>   1.039</td>\n",
       "</tr>\n",
       "<tr>\n",
       "  <th>Prob(Omnibus):</th> <td> 0.135</td> <th>  Jarque-Bera (JB):  </th> <td>   4.234</td>\n",
       "</tr>\n",
       "<tr>\n",
       "  <th>Skew:</th>          <td> 0.184</td> <th>  Prob(JB):          </th> <td>   0.120</td>\n",
       "</tr>\n",
       "<tr>\n",
       "  <th>Kurtosis:</th>      <td> 3.789</td> <th>  Cond. No.          </th> <td>    50.4</td>\n",
       "</tr>\n",
       "</table><br/><br/>Notes:<br/>[1] Standard Errors are heteroscedasticity robust (HC0)"
      ],
      "text/plain": [
       "<class 'statsmodels.iolib.summary.Summary'>\n",
       "\"\"\"\n",
       "                            OLS Regression Results                            \n",
       "==============================================================================\n",
       "Dep. Variable:                  PTrpp   R-squared:                       0.242\n",
       "Model:                            OLS   Adj. R-squared:                  0.212\n",
       "Method:                 Least Squares   F-statistic:                     7.595\n",
       "Date:                Tue, 28 Feb 2023   Prob (F-statistic):           2.81e-06\n",
       "Time:                        18:58:22   Log-Likelihood:                 386.50\n",
       "No. Observations:                 134   AIC:                            -761.0\n",
       "Df Residuals:                     128   BIC:                            -743.6\n",
       "Df Model:                           5                                         \n",
       "Covariance Type:                  HC0                                         \n",
       "==================================================================================\n",
       "                     coef    std err          z      P>|z|      [0.025      0.975]\n",
       "----------------------------------------------------------------------------------\n",
       "const              0.0026      0.002      1.729      0.084      -0.000       0.006\n",
       "PTgdppercapita     0.0466      0.068      0.687      0.492      -0.086       0.179\n",
       "PTgfcfhousvol      0.0547      0.033      1.664      0.096      -0.010       0.119\n",
       "PTloanhpr          0.0136      0.039      0.354      0.723      -0.062       0.089\n",
       "PTmtgrr            0.0029      0.002      1.555      0.120      -0.001       0.007\n",
       "PTunemp           -0.0147      0.003     -4.601      0.000      -0.021      -0.008\n",
       "==============================================================================\n",
       "Omnibus:                        4.001   Durbin-Watson:                   1.039\n",
       "Prob(Omnibus):                  0.135   Jarque-Bera (JB):                4.234\n",
       "Skew:                           0.184   Prob(JB):                        0.120\n",
       "Kurtosis:                       3.789   Cond. No.                         50.4\n",
       "==============================================================================\n",
       "\n",
       "Notes:\n",
       "[1] Standard Errors are heteroscedasticity robust (HC0)\n",
       "\"\"\""
      ]
     },
     "execution_count": 48,
     "metadata": {},
     "output_type": "execute_result"
    }
   ],
   "source": [
    "model_robust.summary()"
   ]
  },
  {
   "cell_type": "code",
   "execution_count": 49,
   "metadata": {},
   "outputs": [
    {
     "name": "stdout",
     "output_type": "stream",
     "text": [
      "{'Test Statistic': 31.617196354079915, 'Test Statistic p-value': 0.04755200600812489, 'F-Statistic': 1.744796518938365, 'F-Test p-value': 0.03600543680901449}\n"
     ]
    }
   ],
   "source": [
    "#perform White's test\n",
    "white_test = het_white(model_robust.resid,  x)\n",
    "\n",
    "#define labels to use for output of White's test\n",
    "labels = ['Test Statistic', 'Test Statistic p-value', 'F-Statistic', 'F-Test p-value']\n",
    "\n",
    "#print results of White's test\n",
    "print(dict(zip(labels, white_test)))"
   ]
  }
 ],
 "metadata": {
  "interpreter": {
   "hash": "754eb1539c5fb6a6c7d5e0d157e3723f9f76d810abc9921a69b8892106f7d7a6"
  },
  "kernelspec": {
   "display_name": "Python 3.9.7 ('base')",
   "language": "python",
   "name": "python3"
  },
  "language_info": {
   "codemirror_mode": {
    "name": "ipython",
    "version": 3
   },
   "file_extension": ".py",
   "mimetype": "text/x-python",
   "name": "python",
   "nbconvert_exporter": "python",
   "pygments_lexer": "ipython3",
   "version": "3.9.7"
  },
  "orig_nbformat": 4
 },
 "nbformat": 4,
 "nbformat_minor": 2
}
