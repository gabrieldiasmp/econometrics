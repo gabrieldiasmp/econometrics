{
 "cells": [
  {
   "cell_type": "code",
   "execution_count": 112,
   "metadata": {},
   "outputs": [],
   "source": [
    "import pandas as pd\n",
    "import matplotlib.pyplot as plt\n",
    "from datetime import datetime\n",
    "import numpy as np\n",
    "\n",
    "import statsmodels.api as sm\n",
    "from statsmodels.graphics.tsaplots import plot_acf, plot_pacf\n",
    "from statsmodels.tsa.seasonal import seasonal_decompose\n",
    "from statsmodels.tsa.stattools import adfuller\n",
    "from statsmodels.tsa.api import ARDL"
   ]
  },
  {
   "cell_type": "code",
   "execution_count": 136,
   "metadata": {},
   "outputs": [
    {
     "data": {
      "text/html": [
       "<div>\n",
       "<style scoped>\n",
       "    .dataframe tbody tr th:only-of-type {\n",
       "        vertical-align: middle;\n",
       "    }\n",
       "\n",
       "    .dataframe tbody tr th {\n",
       "        vertical-align: top;\n",
       "    }\n",
       "\n",
       "    .dataframe thead th {\n",
       "        text-align: right;\n",
       "    }\n",
       "</style>\n",
       "<table border=\"1\" class=\"dataframe\">\n",
       "  <thead>\n",
       "    <tr style=\"text-align: right;\">\n",
       "      <th></th>\n",
       "      <th>Date</th>\n",
       "      <th>HICP</th>\n",
       "      <th>HICPenergy</th>\n",
       "      <th>EURIBOR3</th>\n",
       "      <th>output</th>\n",
       "    </tr>\n",
       "  </thead>\n",
       "  <tbody>\n",
       "    <tr>\n",
       "      <th>0</th>\n",
       "      <td>2000-01-01</td>\n",
       "      <td>74.86</td>\n",
       "      <td>58.24</td>\n",
       "      <td>3.3431</td>\n",
       "      <td>92.1</td>\n",
       "    </tr>\n",
       "    <tr>\n",
       "      <th>1</th>\n",
       "      <td>2000-02-01</td>\n",
       "      <td>75.10</td>\n",
       "      <td>58.89</td>\n",
       "      <td>3.5368</td>\n",
       "      <td>93.2</td>\n",
       "    </tr>\n",
       "    <tr>\n",
       "      <th>2</th>\n",
       "      <td>2000-03-01</td>\n",
       "      <td>75.37</td>\n",
       "      <td>60.30</td>\n",
       "      <td>3.7470</td>\n",
       "      <td>93.6</td>\n",
       "    </tr>\n",
       "    <tr>\n",
       "      <th>3</th>\n",
       "      <td>2000-04-01</td>\n",
       "      <td>75.45</td>\n",
       "      <td>59.61</td>\n",
       "      <td>3.9253</td>\n",
       "      <td>94.7</td>\n",
       "    </tr>\n",
       "    <tr>\n",
       "      <th>4</th>\n",
       "      <td>2000-05-01</td>\n",
       "      <td>75.54</td>\n",
       "      <td>60.36</td>\n",
       "      <td>4.3620</td>\n",
       "      <td>96.0</td>\n",
       "    </tr>\n",
       "    <tr>\n",
       "      <th>...</th>\n",
       "      <td>...</td>\n",
       "      <td>...</td>\n",
       "      <td>...</td>\n",
       "      <td>...</td>\n",
       "      <td>...</td>\n",
       "    </tr>\n",
       "    <tr>\n",
       "      <th>273</th>\n",
       "      <td>2022-10-01</td>\n",
       "      <td>121.03</td>\n",
       "      <td>171.75</td>\n",
       "      <td>1.4277</td>\n",
       "      <td>107.1</td>\n",
       "    </tr>\n",
       "    <tr>\n",
       "      <th>274</th>\n",
       "      <td>2022-11-01</td>\n",
       "      <td>120.95</td>\n",
       "      <td>168.53</td>\n",
       "      <td>1.8252</td>\n",
       "      <td>108.6</td>\n",
       "    </tr>\n",
       "    <tr>\n",
       "      <th>275</th>\n",
       "      <td>2022-12-01</td>\n",
       "      <td>120.52</td>\n",
       "      <td>157.40</td>\n",
       "      <td>2.0663</td>\n",
       "      <td>107.2</td>\n",
       "    </tr>\n",
       "    <tr>\n",
       "      <th>276</th>\n",
       "      <td>2023-01-01</td>\n",
       "      <td>120.27</td>\n",
       "      <td>158.32</td>\n",
       "      <td>2.3449</td>\n",
       "      <td>107.9</td>\n",
       "    </tr>\n",
       "    <tr>\n",
       "      <th>277</th>\n",
       "      <td>2023-02-01</td>\n",
       "      <td>121.24</td>\n",
       "      <td>156.55</td>\n",
       "      <td>2.6403</td>\n",
       "      <td>107.9</td>\n",
       "    </tr>\n",
       "  </tbody>\n",
       "</table>\n",
       "<p>278 rows × 5 columns</p>\n",
       "</div>"
      ],
      "text/plain": [
       "          Date    HICP  HICPenergy  EURIBOR3  output\n",
       "0   2000-01-01   74.86       58.24    3.3431    92.1\n",
       "1   2000-02-01   75.10       58.89    3.5368    93.2\n",
       "2   2000-03-01   75.37       60.30    3.7470    93.6\n",
       "3   2000-04-01   75.45       59.61    3.9253    94.7\n",
       "4   2000-05-01   75.54       60.36    4.3620    96.0\n",
       "..         ...     ...         ...       ...     ...\n",
       "273 2022-10-01  121.03      171.75    1.4277   107.1\n",
       "274 2022-11-01  120.95      168.53    1.8252   108.6\n",
       "275 2022-12-01  120.52      157.40    2.0663   107.2\n",
       "276 2023-01-01  120.27      158.32    2.3449   107.9\n",
       "277 2023-02-01  121.24      156.55    2.6403   107.9\n",
       "\n",
       "[278 rows x 5 columns]"
      ]
     },
     "execution_count": 136,
     "metadata": {},
     "output_type": "execute_result"
    }
   ],
   "source": [
    "df = pd.read_excel(\"dataset_inf.xlsx\")\n",
    "df[\"Date\"] = df[\"Date\"].dt.strftime(\"%Y-%d-%m %H:%M:%S\")\n",
    "df[\"Date\"] = pd.to_datetime(df[\"Date\"])\n",
    "df"
   ]
  },
  {
   "cell_type": "markdown",
   "metadata": {},
   "source": [
    "## Question 1)"
   ]
  },
  {
   "cell_type": "code",
   "execution_count": 48,
   "metadata": {},
   "outputs": [
    {
     "data": {
      "image/png": "[encoded data removed]",
      "text/plain": [
       "<Figure size 432x288 with 1 Axes>"
      ]
     },
     "metadata": {
      "needs_background": "light"
     },
     "output_type": "display_data"
    }
   ],
   "source": [
    "plt.plot(df[\"Date\"], df[\"HICP\"])\n",
    "plt.show()"
   ]
  },
  {
   "cell_type": "code",
   "execution_count": 49,
   "metadata": {},
   "outputs": [
    {
     "data": {
      "image/png": "[encoded data removed]",
      "text/plain": [
       "<Figure size 432x288 with 1 Axes>"
      ]
     },
     "metadata": {
      "needs_background": "light"
     },
     "output_type": "display_data"
    }
   ],
   "source": [
    "plt.plot(df[\"Date\"], df[\"HICPenergy\"])\n",
    "plt.show()"
   ]
  },
  {
   "cell_type": "code",
   "execution_count": 51,
   "metadata": {},
   "outputs": [
    {
     "data": {
      "image/png": "[encoded data removed]",
      "text/plain": [
       "<Figure size 432x288 with 1 Axes>"
      ]
     },
     "metadata": {
      "needs_background": "light"
     },
     "output_type": "display_data"
    }
   ],
   "source": [
    "plt.plot(df[\"Date\"], df[\"output\"])\n",
    "plt.show()"
   ]
  },
  {
   "cell_type": "markdown",
   "metadata": {},
   "source": [
    "## Question 2)"
   ]
  },
  {
   "cell_type": "markdown",
   "metadata": {},
   "source": [
    "- ACF and PACF plots"
   ]
  },
  {
   "cell_type": "code",
   "execution_count": 55,
   "metadata": {},
   "outputs": [],
   "source": [
    "def plot_acf_pacf(df_ts, lags=12):\n",
    "    plot_acf(df_ts, lags=lags)\n",
    "    plot_pacf(df_ts, lags=lags, method=\"ols\")\n"
   ]
  },
  {
   "cell_type": "code",
   "execution_count": 59,
   "metadata": {},
   "outputs": [
    {
     "data": {
      "image/png": "[encoded data removed]",
      "text/plain": [
       "<Figure size 432x288 with 1 Axes>"
      ]
     },
     "metadata": {
      "needs_background": "light"
     },
     "output_type": "display_data"
    },
    {
     "data": {
      "image/png": "[encoded data removed]",
      "text/plain": [
       "<Figure size 432x288 with 1 Axes>"
      ]
     },
     "metadata": {
      "needs_background": "light"
     },
     "output_type": "display_data"
    }
   ],
   "source": [
    "plot_acf_pacf(df[\"HICP\"])"
   ]
  },
  {
   "cell_type": "code",
   "execution_count": 60,
   "metadata": {},
   "outputs": [
    {
     "data": {
      "image/png": "[encoded data removed]",
      "text/plain": [
       "<Figure size 432x288 with 1 Axes>"
      ]
     },
     "metadata": {
      "needs_background": "light"
     },
     "output_type": "display_data"
    },
    {
     "data": {
      "image/png": "[encoded data removed]",
      "text/plain": [
       "<Figure size 432x288 with 1 Axes>"
      ]
     },
     "metadata": {
      "needs_background": "light"
     },
     "output_type": "display_data"
    }
   ],
   "source": [
    "plot_acf_pacf(df[\"output\"])"
   ]
  },
  {
   "cell_type": "markdown",
   "metadata": {},
   "source": [
    "## Question 3)"
   ]
  },
  {
   "cell_type": "code",
   "execution_count": 70,
   "metadata": {},
   "outputs": [
    {
     "data": {
      "image/png": "[encoded data removed]",
      "text/plain": [
       "<Figure size 432x288 with 1 Axes>"
      ]
     },
     "metadata": {
      "needs_background": "light"
     },
     "output_type": "display_data"
    },
    {
     "data": {
      "image/png": "[encoded data removed]",
      "text/plain": [
       "<Figure size 432x288 with 1 Axes>"
      ]
     },
     "metadata": {
      "needs_background": "light"
     },
     "output_type": "display_data"
    }
   ],
   "source": [
    "plot_acf_pacf(np.log(df[\"output\"]).diff(1).values[1:])"
   ]
  },
  {
   "cell_type": "code",
   "execution_count": 154,
   "metadata": {},
   "outputs": [],
   "source": [
    "def adf_test(timeseries, regression_option):\n",
    "    print(\"Results of Dickey-Fuller Test:\")\n",
    "    dftest = adfuller(timeseries, regression=regression_option, autolag=\"AIC\")\n",
    "    dfoutput = pd.Series(\n",
    "        dftest[0:4],\n",
    "        index=[\n",
    "            \"Test Statistic\",\n",
    "            \"p-value\",\n",
    "            \"#Lags Used\",\n",
    "            \"Number of Observations Used\",\n",
    "        ],\n",
    "    )\n",
    "    for key, value in dftest[4].items():\n",
    "        dfoutput[\"Critical Value (%s)\" % key] = value\n",
    "    print(dfoutput.apply(lambda x: round(x, 4)))"
   ]
  },
  {
   "cell_type": "markdown",
   "metadata": {},
   "source": [
    "- Testing for the \"output\" variable"
   ]
  },
  {
   "cell_type": "code",
   "execution_count": 155,
   "metadata": {},
   "outputs": [
    {
     "name": "stdout",
     "output_type": "stream",
     "text": [
      "Results of Dickey-Fuller Test:\n",
      "Test Statistic                  -2.9819\n",
      "p-value                          0.0366\n",
      "#Lags Used                       2.0000\n",
      "Number of Observations Used    275.0000\n",
      "Critical Value (1%)             -3.4544\n",
      "Critical Value (5%)             -2.8721\n",
      "Critical Value (10%)            -2.5724\n",
      "dtype: float64\n",
      "None \n",
      "\n",
      "Results of Dickey-Fuller Test:\n",
      "Test Statistic                  -3.3873\n",
      "p-value                          0.0531\n",
      "#Lags Used                       2.0000\n",
      "Number of Observations Used    275.0000\n",
      "Critical Value (1%)             -3.9921\n",
      "Critical Value (5%)             -3.4266\n",
      "Critical Value (10%)            -3.1365\n",
      "dtype: float64\n",
      "None\n"
     ]
    }
   ],
   "source": [
    "#ts = np.log(df[\"output\"]).diff(1).values[1:]\n",
    "ts = np.log(df[\"output\"])\n",
    "\n",
    "print(adf_test(timeseries=ts,regression_option='c'), \"\\n\")\n",
    "print(adf_test(timeseries=ts,regression_option='ct'))"
   ]
  },
  {
   "cell_type": "code",
   "execution_count": 157,
   "metadata": {},
   "outputs": [
    {
     "name": "stdout",
     "output_type": "stream",
     "text": [
      "Results of Dickey-Fuller Test:\n",
      "Test Statistic                   0.7426\n",
      "p-value                          0.9907\n",
      "#Lags Used                      16.0000\n",
      "Number of Observations Used    261.0000\n",
      "Critical Value (1%)             -3.4557\n",
      "Critical Value (5%)             -2.8727\n",
      "Critical Value (10%)            -2.5727\n",
      "dtype: float64\n",
      "None \n",
      "\n",
      "Results of Dickey-Fuller Test:\n",
      "Test Statistic                  -2.0272\n",
      "p-value                          0.5866\n",
      "#Lags Used                      16.0000\n",
      "Number of Observations Used    261.0000\n",
      "Critical Value (1%)             -3.9939\n",
      "Critical Value (5%)             -3.4274\n",
      "Critical Value (10%)            -3.1370\n",
      "dtype: float64\n",
      "None\n"
     ]
    }
   ],
   "source": [
    "#ts = df[\"HICP\"]\n",
    "ts = np.log(df[\"HICP\"])\n",
    "\n",
    "print(adf_test(timeseries=ts,regression_option='c'), \"\\n\")\n",
    "print(adf_test(timeseries=ts,regression_option='ct'))\n"
   ]
  },
  {
   "cell_type": "code",
   "execution_count": 111,
   "metadata": {},
   "outputs": [
    {
     "name": "stdout",
     "output_type": "stream",
     "text": [
      "Results of Dickey-Fuller Test:\n",
      "Test Statistic                  -1.0066\n",
      "p-value                          0.9432\n",
      "#Lags Used                       1.0000\n",
      "Number of Observations Used    276.0000\n",
      "Critical Value (1%)             -3.9920\n",
      "Critical Value (5%)             -3.4265\n",
      "Critical Value (10%)            -3.1365\n",
      "dtype: float64\n",
      "None \n",
      "\n",
      "Results of Dickey-Fuller Test:\n",
      "Test Statistic                   0.5400\n",
      "p-value                          0.9860\n",
      "#Lags Used                       1.0000\n",
      "Number of Observations Used    276.0000\n",
      "Critical Value (1%)             -3.4543\n",
      "Critical Value (5%)             -2.8721\n",
      "Critical Value (10%)            -2.5724\n",
      "dtype: float64\n",
      "None\n"
     ]
    }
   ],
   "source": [
    "ts = df[\"HICPenergy\"]\n",
    "print(adf_test(timeseries=ts,regression_option='ct',max_n_lags=1), \"\\n\")\n",
    "\n",
    "print(adf_test(timeseries=ts,regression_option='c',max_n_lags=1))"
   ]
  },
  {
   "cell_type": "markdown",
   "metadata": {},
   "source": [
    "## Question 4)"
   ]
  },
  {
   "cell_type": "code",
   "execution_count": 140,
   "metadata": {},
   "outputs": [],
   "source": [
    "df[\"log_output\"] = np.log(df[\"output\"])\n",
    "df[\"log_HICP\"] = np.log(df[\"HICP\"])\n",
    "df[\"log_HICPenergy\"] = np.log(df[\"HICPenergy\"])\n",
    "\n",
    "df[\"d_log_output\"] = np.log(df[\"output\"]).diff(1)\n",
    "df[\"d_log_HICP\"] = np.log(df[\"HICP\"]).diff(1)\n",
    "df[\"d_log_HICPenergy\"] = np.log(df[\"HICPenergy\"]).diff(1)"
   ]
  },
  {
   "cell_type": "code",
   "execution_count": 148,
   "metadata": {},
   "outputs": [
    {
     "name": "stderr",
     "output_type": "stream",
     "text": [
      "/Users/gabrieldiasmp/opt/anaconda3/lib/python3.9/site-packages/statsmodels/tsa/base/tsa_model.py:473: ValueWarning: An unsupported index was provided and will be ignored when e.g. forecasting.\n",
      "  self._init_dates(dates, freq)\n"
     ]
    }
   ],
   "source": [
    "# Setting the exogenous variables\n",
    "df_first_model = df.dropna()\n",
    "\n",
    "exog=df_first_model.loc[:, ['d_log_output', 'd_log_HICPenergy']]\n",
    "exog_lags={\"d_log_output\": 2, \"d_log_HICPenergy\": 1}\n",
    "\n",
    "model = ARDL(df_first_model.log_HICP, 1, exog, exog_lags)\n",
    "results = model.fit()"
   ]
  },
  {
   "cell_type": "code",
   "execution_count": 149,
   "metadata": {},
   "outputs": [
    {
     "name": "stdout",
     "output_type": "stream",
     "text": [
      "                              ARDL Model Results                              \n",
      "==============================================================================\n",
      "Dep. Variable:               log_HICP   No. Observations:                  277\n",
      "Model:                  ARDL(1, 2, 1)   Log Likelihood                1124.418\n",
      "Method:               Conditional MLE   S.D. of innovations              0.004\n",
      "Date:                Wed, 12 Apr 2023   AIC                          -2232.836\n",
      "Time:                        19:28:50   BIC                          -2203.873\n",
      "Sample:                             2   HQIC                         -2221.214\n",
      "                                  277                                         \n",
      "=======================================================================================\n",
      "                          coef    std err          z      P>|z|      [0.025      0.975]\n",
      "---------------------------------------------------------------------------------------\n",
      "const                  -0.0014      0.010     -0.141      0.888      -0.021       0.019\n",
      "log_HICP.L1             1.0006      0.002    448.536      0.000       0.996       1.005\n",
      "d_log_output.L0        -0.0310      0.012     -2.508      0.013      -0.055      -0.007\n",
      "d_log_output.L1        -0.0152      0.012     -1.250      0.212      -0.039       0.009\n",
      "d_log_output.L2        -0.0252      0.012     -2.031      0.043      -0.050      -0.001\n",
      "d_log_HICPenergy.L0     0.1041      0.015      7.034      0.000       0.075       0.133\n",
      "d_log_HICPenergy.L1     0.0500      0.015      3.371      0.001       0.021       0.079\n",
      "=======================================================================================\n"
     ]
    }
   ],
   "source": [
    "print(results.summary())"
   ]
  },
  {
   "cell_type": "markdown",
   "metadata": {},
   "source": [
    "## Question 5)"
   ]
  },
  {
   "cell_type": "markdown",
   "metadata": {},
   "source": [
    "Still have to elaborate the long-run multipliers"
   ]
  },
  {
   "cell_type": "markdown",
   "metadata": {},
   "source": [
    "## Question 6)"
   ]
  },
  {
   "cell_type": "code",
   "execution_count": 175,
   "metadata": {},
   "outputs": [
    {
     "name": "stdout",
     "output_type": "stream",
     "text": [
      "                              ARDL Model Results                              \n",
      "==============================================================================\n",
      "Dep. Variable:               log_HICP   No. Observations:                  277\n",
      "Model:                  ARDL(1, 2, 1)   Log Likelihood                1121.800\n",
      "Method:               Conditional MLE   S.D. of innovations              0.004\n",
      "Date:                Wed, 12 Apr 2023   AIC                          -2227.600\n",
      "Time:                        20:36:12   BIC                          -2198.637\n",
      "Sample:                             2   HQIC                         -2215.978\n",
      "                                  277                                         \n",
      "=====================================================================================\n",
      "                        coef    std err          z      P>|z|      [0.025      0.975]\n",
      "-------------------------------------------------------------------------------------\n",
      "const                 0.0284      0.032      0.900      0.369      -0.034       0.091\n",
      "log_HICP.L1           0.9794      0.008    119.811      0.000       0.963       0.996\n",
      "log_output.L0        -0.0195      0.013     -1.554      0.121      -0.044       0.005\n",
      "log_output.L1         0.0109      0.018      0.619      0.536      -0.024       0.045\n",
      "log_output.L2         0.0127      0.012      1.018      0.310      -0.012       0.037\n",
      "log_HICPenergy.L0     0.1137      0.015      7.721      0.000       0.085       0.143\n",
      "log_HICPenergy.L1    -0.1030      0.015     -6.826      0.000      -0.133      -0.073\n",
      "=====================================================================================\n"
     ]
    },
    {
     "name": "stderr",
     "output_type": "stream",
     "text": [
      "/Users/gabrieldiasmp/opt/anaconda3/lib/python3.9/site-packages/statsmodels/tsa/base/tsa_model.py:473: ValueWarning: An unsupported index was provided and will be ignored when e.g. forecasting.\n",
      "  self._init_dates(dates, freq)\n"
     ]
    }
   ],
   "source": [
    "# Setting the exogenous variables\n",
    "df_second_model = df.dropna()\n",
    "\n",
    "exog=df_second_model.loc[:, ['log_output', 'log_HICPenergy']]\n",
    "exog_lags={\"log_output\": 2, \"log_HICPenergy\": 1}\n",
    "\n",
    "model = ARDL(df_second_model.log_HICP, 1, exog, exog_lags)\n",
    "results = model.fit()\n",
    "print(results.summary())"
   ]
  },
  {
   "cell_type": "code",
   "execution_count": 153,
   "metadata": {},
   "outputs": [
    {
     "name": "stdout",
     "output_type": "stream",
     "text": [
      "                              ARDL Model Results                              \n",
      "==============================================================================\n",
      "Dep. Variable:               log_HICP   No. Observations:                  277\n",
      "Model:                  ARDL(2, 2, 2)   Log Likelihood                1120.277\n",
      "Method:               Conditional MLE   S.D. of innovations              0.004\n",
      "Date:                Wed, 12 Apr 2023   AIC                          -2220.554\n",
      "Time:                        19:33:18   BIC                          -2184.386\n",
      "Sample:                             2   HQIC                         -2206.039\n",
      "                                  277                                         \n",
      "=====================================================================================\n",
      "                        coef    std err          z      P>|z|      [0.025      0.975]\n",
      "-------------------------------------------------------------------------------------\n",
      "const                 0.0289      0.031      0.920      0.358      -0.033       0.091\n",
      "log_HICP.L1           0.9655      0.061     15.765      0.000       0.845       1.086\n",
      "log_HICP.L2           0.0177      0.060      0.293      0.770      -0.101       0.137\n",
      "log_output.L0        -0.0214      0.013     -1.709      0.089      -0.046       0.003\n",
      "log_output.L1         0.0068      0.018      0.386      0.700      -0.028       0.041\n",
      "log_output.L2         0.0165      0.013      1.316      0.189      -0.008       0.041\n",
      "log_HICPenergy.L0     0.1061      0.015      7.035      0.000       0.076       0.136\n",
      "log_HICPenergy.L1    -0.0589      0.024     -2.490      0.013      -0.105      -0.012\n",
      "log_HICPenergy.L2    -0.0384      0.016     -2.346      0.020      -0.071      -0.006\n",
      "=====================================================================================\n"
     ]
    },
    {
     "name": "stderr",
     "output_type": "stream",
     "text": [
      "/Users/gabrieldiasmp/opt/anaconda3/lib/python3.9/site-packages/statsmodels/tsa/base/tsa_model.py:473: ValueWarning: An unsupported index was provided and will be ignored when e.g. forecasting.\n",
      "  self._init_dates(dates, freq)\n"
     ]
    }
   ],
   "source": [
    "# Setting the exogenous variables\n",
    "df_third_model = df.dropna()\n",
    "\n",
    "exog=df_second_model.loc[:, ['log_output', 'log_HICPenergy']]\n",
    "exog_lags={\"log_output\": 2, \"log_HICPenergy\": 2}\n",
    "\n",
    "model = ARDL(df_third_model.log_HICP, 2, exog, exog_lags)\n",
    "results = model.fit()\n",
    "print(results.summary())"
   ]
  },
  {
   "cell_type": "markdown",
   "metadata": {},
   "source": [
    "- So, the second model is better than the third model because of the AIC"
   ]
  },
  {
   "cell_type": "markdown",
   "metadata": {},
   "source": [
    "## Question 7)"
   ]
  },
  {
   "cell_type": "markdown",
   "metadata": {},
   "source": [
    "Let's estimate the ECM model. First, we have to test for cointegration, then, we run the ARDL and save the residuals, that will be used as a independent variable in our model (still have to run everything!)"
   ]
  },
  {
   "cell_type": "code",
   "execution_count": 159,
   "metadata": {},
   "outputs": [],
   "source": [
    "# Test for cointegration\n",
    "coint_result = sm.tsa.stattools.coint(df_second_model[\"d_log_HICP\"], df_second_model[\"log_HICPenergy\"], trend='c')\n",
    "if coint_result[1] < 0.05:\n",
    "    print('Cointegration detected')"
   ]
  },
  {
   "cell_type": "code",
   "execution_count": 160,
   "metadata": {},
   "outputs": [
    {
     "data": {
      "text/plain": [
       "0.2705448061380451"
      ]
     },
     "execution_count": 160,
     "metadata": {},
     "output_type": "execute_result"
    }
   ],
   "source": [
    "coint_result[1]"
   ]
  },
  {
   "cell_type": "code",
   "execution_count": 176,
   "metadata": {},
   "outputs": [
    {
     "data": {
      "text/html": [
       "<div>\n",
       "<style scoped>\n",
       "    .dataframe tbody tr th:only-of-type {\n",
       "        vertical-align: middle;\n",
       "    }\n",
       "\n",
       "    .dataframe tbody tr th {\n",
       "        vertical-align: top;\n",
       "    }\n",
       "\n",
       "    .dataframe thead th {\n",
       "        text-align: right;\n",
       "    }\n",
       "</style>\n",
       "<table border=\"1\" class=\"dataframe\">\n",
       "  <thead>\n",
       "    <tr style=\"text-align: right;\">\n",
       "      <th></th>\n",
       "      <th>Date</th>\n",
       "      <th>HICP</th>\n",
       "      <th>HICPenergy</th>\n",
       "      <th>EURIBOR3</th>\n",
       "      <th>output</th>\n",
       "      <th>log_output</th>\n",
       "      <th>log_HICP</th>\n",
       "      <th>log_HICPenergy</th>\n",
       "      <th>d_log_output</th>\n",
       "      <th>d_log_HICP</th>\n",
       "      <th>d_log_HICPenergy</th>\n",
       "    </tr>\n",
       "  </thead>\n",
       "  <tbody>\n",
       "    <tr>\n",
       "      <th>1</th>\n",
       "      <td>2000-02-01</td>\n",
       "      <td>75.10</td>\n",
       "      <td>58.89</td>\n",
       "      <td>3.5368</td>\n",
       "      <td>93.2</td>\n",
       "      <td>4.534748</td>\n",
       "      <td>4.318821</td>\n",
       "      <td>4.075671</td>\n",
       "      <td>0.011873</td>\n",
       "      <td>0.003201</td>\n",
       "      <td>0.011099</td>\n",
       "    </tr>\n",
       "    <tr>\n",
       "      <th>2</th>\n",
       "      <td>2000-03-01</td>\n",
       "      <td>75.37</td>\n",
       "      <td>60.30</td>\n",
       "      <td>3.7470</td>\n",
       "      <td>93.6</td>\n",
       "      <td>4.539030</td>\n",
       "      <td>4.322409</td>\n",
       "      <td>4.099332</td>\n",
       "      <td>0.004283</td>\n",
       "      <td>0.003589</td>\n",
       "      <td>0.023661</td>\n",
       "    </tr>\n",
       "    <tr>\n",
       "      <th>3</th>\n",
       "      <td>2000-04-01</td>\n",
       "      <td>75.45</td>\n",
       "      <td>59.61</td>\n",
       "      <td>3.9253</td>\n",
       "      <td>94.7</td>\n",
       "      <td>4.550714</td>\n",
       "      <td>4.323470</td>\n",
       "      <td>4.087823</td>\n",
       "      <td>0.011684</td>\n",
       "      <td>0.001061</td>\n",
       "      <td>-0.011509</td>\n",
       "    </tr>\n",
       "    <tr>\n",
       "      <th>4</th>\n",
       "      <td>2000-05-01</td>\n",
       "      <td>75.54</td>\n",
       "      <td>60.36</td>\n",
       "      <td>4.3620</td>\n",
       "      <td>96.0</td>\n",
       "      <td>4.564348</td>\n",
       "      <td>4.324662</td>\n",
       "      <td>4.100327</td>\n",
       "      <td>0.013634</td>\n",
       "      <td>0.001192</td>\n",
       "      <td>0.012503</td>\n",
       "    </tr>\n",
       "    <tr>\n",
       "      <th>5</th>\n",
       "      <td>2000-06-01</td>\n",
       "      <td>75.80</td>\n",
       "      <td>61.91</td>\n",
       "      <td>4.5017</td>\n",
       "      <td>94.7</td>\n",
       "      <td>4.550714</td>\n",
       "      <td>4.328098</td>\n",
       "      <td>4.125682</td>\n",
       "      <td>-0.013634</td>\n",
       "      <td>0.003436</td>\n",
       "      <td>0.025355</td>\n",
       "    </tr>\n",
       "    <tr>\n",
       "      <th>...</th>\n",
       "      <td>...</td>\n",
       "      <td>...</td>\n",
       "      <td>...</td>\n",
       "      <td>...</td>\n",
       "      <td>...</td>\n",
       "      <td>...</td>\n",
       "      <td>...</td>\n",
       "      <td>...</td>\n",
       "      <td>...</td>\n",
       "      <td>...</td>\n",
       "      <td>...</td>\n",
       "    </tr>\n",
       "    <tr>\n",
       "      <th>273</th>\n",
       "      <td>2022-10-01</td>\n",
       "      <td>121.03</td>\n",
       "      <td>171.75</td>\n",
       "      <td>1.4277</td>\n",
       "      <td>107.1</td>\n",
       "      <td>4.673763</td>\n",
       "      <td>4.796038</td>\n",
       "      <td>5.146040</td>\n",
       "      <td>-0.018502</td>\n",
       "      <td>0.014732</td>\n",
       "      <td>0.060235</td>\n",
       "    </tr>\n",
       "    <tr>\n",
       "      <th>274</th>\n",
       "      <td>2022-11-01</td>\n",
       "      <td>120.95</td>\n",
       "      <td>168.53</td>\n",
       "      <td>1.8252</td>\n",
       "      <td>108.6</td>\n",
       "      <td>4.687671</td>\n",
       "      <td>4.795377</td>\n",
       "      <td>5.127114</td>\n",
       "      <td>0.013908</td>\n",
       "      <td>-0.000661</td>\n",
       "      <td>-0.018926</td>\n",
       "    </tr>\n",
       "    <tr>\n",
       "      <th>275</th>\n",
       "      <td>2022-12-01</td>\n",
       "      <td>120.52</td>\n",
       "      <td>157.40</td>\n",
       "      <td>2.0663</td>\n",
       "      <td>107.2</td>\n",
       "      <td>4.674696</td>\n",
       "      <td>4.791816</td>\n",
       "      <td>5.058790</td>\n",
       "      <td>-0.012975</td>\n",
       "      <td>-0.003562</td>\n",
       "      <td>-0.068323</td>\n",
       "    </tr>\n",
       "    <tr>\n",
       "      <th>276</th>\n",
       "      <td>2023-01-01</td>\n",
       "      <td>120.27</td>\n",
       "      <td>158.32</td>\n",
       "      <td>2.3449</td>\n",
       "      <td>107.9</td>\n",
       "      <td>4.681205</td>\n",
       "      <td>4.789739</td>\n",
       "      <td>5.064618</td>\n",
       "      <td>0.006509</td>\n",
       "      <td>-0.002076</td>\n",
       "      <td>0.005828</td>\n",
       "    </tr>\n",
       "    <tr>\n",
       "      <th>277</th>\n",
       "      <td>2023-02-01</td>\n",
       "      <td>121.24</td>\n",
       "      <td>156.55</td>\n",
       "      <td>2.6403</td>\n",
       "      <td>107.9</td>\n",
       "      <td>4.681205</td>\n",
       "      <td>4.797772</td>\n",
       "      <td>5.053375</td>\n",
       "      <td>0.000000</td>\n",
       "      <td>0.008033</td>\n",
       "      <td>-0.011243</td>\n",
       "    </tr>\n",
       "  </tbody>\n",
       "</table>\n",
       "<p>277 rows × 11 columns</p>\n",
       "</div>"
      ],
      "text/plain": [
       "          Date    HICP  HICPenergy  EURIBOR3  output  log_output  log_HICP  \\\n",
       "1   2000-02-01   75.10       58.89    3.5368    93.2    4.534748  4.318821   \n",
       "2   2000-03-01   75.37       60.30    3.7470    93.6    4.539030  4.322409   \n",
       "3   2000-04-01   75.45       59.61    3.9253    94.7    4.550714  4.323470   \n",
       "4   2000-05-01   75.54       60.36    4.3620    96.0    4.564348  4.324662   \n",
       "5   2000-06-01   75.80       61.91    4.5017    94.7    4.550714  4.328098   \n",
       "..         ...     ...         ...       ...     ...         ...       ...   \n",
       "273 2022-10-01  121.03      171.75    1.4277   107.1    4.673763  4.796038   \n",
       "274 2022-11-01  120.95      168.53    1.8252   108.6    4.687671  4.795377   \n",
       "275 2022-12-01  120.52      157.40    2.0663   107.2    4.674696  4.791816   \n",
       "276 2023-01-01  120.27      158.32    2.3449   107.9    4.681205  4.789739   \n",
       "277 2023-02-01  121.24      156.55    2.6403   107.9    4.681205  4.797772   \n",
       "\n",
       "     log_HICPenergy  d_log_output  d_log_HICP  d_log_HICPenergy  \n",
       "1          4.075671      0.011873    0.003201          0.011099  \n",
       "2          4.099332      0.004283    0.003589          0.023661  \n",
       "3          4.087823      0.011684    0.001061         -0.011509  \n",
       "4          4.100327      0.013634    0.001192          0.012503  \n",
       "5          4.125682     -0.013634    0.003436          0.025355  \n",
       "..              ...           ...         ...               ...  \n",
       "273        5.146040     -0.018502    0.014732          0.060235  \n",
       "274        5.127114      0.013908   -0.000661         -0.018926  \n",
       "275        5.058790     -0.012975   -0.003562         -0.068323  \n",
       "276        5.064618      0.006509   -0.002076          0.005828  \n",
       "277        5.053375      0.000000    0.008033         -0.011243  \n",
       "\n",
       "[277 rows x 11 columns]"
      ]
     },
     "execution_count": 176,
     "metadata": {},
     "output_type": "execute_result"
    }
   ],
   "source": [
    "df_second_model"
   ]
  },
  {
   "cell_type": "code",
   "execution_count": 162,
   "metadata": {},
   "outputs": [],
   "source": [
    "from statsmodels.formula.api import ols"
   ]
  },
  {
   "cell_type": "code",
   "execution_count": 163,
   "metadata": {},
   "outputs": [
    {
     "data": {
      "text/plain": [
       "Index(['Date', 'HICP', 'HICPenergy', 'EURIBOR3', 'output', 'log_output',\n",
       "       'log_HICP', 'log_HICPenergy', 'd_log_output', 'd_log_HICP',\n",
       "       'd_log_HICPenergy'],\n",
       "      dtype='object')"
      ]
     },
     "execution_count": 163,
     "metadata": {},
     "output_type": "execute_result"
    }
   ],
   "source": [
    "df_second_model.columns"
   ]
  },
  {
   "cell_type": "code",
   "execution_count": null,
   "metadata": {},
   "outputs": [],
   "source": [
    "# Add a constant to the independent variable\n",
    "X = sm.add_constant(df_second_model[\n",
    "    [\n",
    "        'd_log_HICPenergy', 'log_output'\n",
    "    ] \n",
    "])\n",
    "y = df_second_model['d_log_HICP']\n",
    "\n",
    "# Fit the model\n",
    "model = sm.OLS(y, X).fit(cov_type='HC0')"
   ]
  },
  {
   "cell_type": "code",
   "execution_count": null,
   "metadata": {},
   "outputs": [],
   "source": [
    "# Add a constant to the independent variable\n",
    "X = sm.add_constant(df_second_model[\n",
    "    [\n",
    "        'd_log_HICPenergy', 'log_output'\n",
    "    ] \n",
    "])\n",
    "y = df_second_model['d_log_HICP']\n",
    "\n",
    "# Fit the model\n",
    "model = sm.OLS(y, X).fit(cov_type='HC0')\n",
    "\n",
    "# Print the summary of the model\n",
    "# print(model.summary())\n",
    "\n",
    "# Now, with the residuals to put the error correction model\n",
    "df_second_model['uhat_1'] = model.resid.diff(1)\n",
    "X = sm.add_constant(df_second_model[\n",
    "    [\n",
    "        'd_log_HICPenergy', 'log_output', 'uhat_1'\n",
    "    ]\n",
    "].dropna())\n",
    "\n",
    "y = df_second_model['d_log_HICP'].dropna()\n",
    "\n",
    "# Fit the model\n",
    "model = sm.OLS(y, X).fit(cov_type='HC0')\n",
    "\n",
    "# Print the summary of the model\n",
    "print(model.summary())"
   ]
  },
  {
   "cell_type": "code",
   "execution_count": 171,
   "metadata": {},
   "outputs": [
    {
     "name": "stderr",
     "output_type": "stream",
     "text": [
      "/var/folders/_q/2vy34m9j2dx56pxmrs4dfp_80000gn/T/ipykernel_33834/1545094672.py:1: SettingWithCopyWarning: \n",
      "A value is trying to be set on a copy of a slice from a DataFrame.\n",
      "Try using .loc[row_indexer,col_indexer] = value instead\n",
      "\n",
      "See the caveats in the documentation: https://pandas.pydata.org/pandas-docs/stable/user_guide/indexing.html#returning-a-view-versus-a-copy\n",
      "  df_second_model['uhat_1'] = model.resid.diff(1)\n"
     ]
    },
    {
     "data": {
      "text/html": [
       "<div>\n",
       "<style scoped>\n",
       "    .dataframe tbody tr th:only-of-type {\n",
       "        vertical-align: middle;\n",
       "    }\n",
       "\n",
       "    .dataframe tbody tr th {\n",
       "        vertical-align: top;\n",
       "    }\n",
       "\n",
       "    .dataframe thead th {\n",
       "        text-align: right;\n",
       "    }\n",
       "</style>\n",
       "<table border=\"1\" class=\"dataframe\">\n",
       "  <thead>\n",
       "    <tr style=\"text-align: right;\">\n",
       "      <th></th>\n",
       "      <th>Date</th>\n",
       "      <th>HICP</th>\n",
       "      <th>HICPenergy</th>\n",
       "      <th>EURIBOR3</th>\n",
       "      <th>output</th>\n",
       "      <th>log_output</th>\n",
       "      <th>log_HICP</th>\n",
       "      <th>log_HICPenergy</th>\n",
       "      <th>d_log_output</th>\n",
       "      <th>d_log_HICP</th>\n",
       "      <th>d_log_HICPenergy</th>\n",
       "      <th>uhat_1</th>\n",
       "    </tr>\n",
       "  </thead>\n",
       "  <tbody>\n",
       "    <tr>\n",
       "      <th>1</th>\n",
       "      <td>2000-02-01</td>\n",
       "      <td>75.10</td>\n",
       "      <td>58.89</td>\n",
       "      <td>3.5368</td>\n",
       "      <td>93.2</td>\n",
       "      <td>4.534748</td>\n",
       "      <td>4.318821</td>\n",
       "      <td>4.075671</td>\n",
       "      <td>0.011873</td>\n",
       "      <td>0.003201</td>\n",
       "      <td>0.011099</td>\n",
       "      <td>NaN</td>\n",
       "    </tr>\n",
       "    <tr>\n",
       "      <th>2</th>\n",
       "      <td>2000-03-01</td>\n",
       "      <td>75.37</td>\n",
       "      <td>60.30</td>\n",
       "      <td>3.7470</td>\n",
       "      <td>93.6</td>\n",
       "      <td>4.539030</td>\n",
       "      <td>4.322409</td>\n",
       "      <td>4.099332</td>\n",
       "      <td>0.004283</td>\n",
       "      <td>0.003589</td>\n",
       "      <td>0.023661</td>\n",
       "      <td>-0.000942</td>\n",
       "    </tr>\n",
       "    <tr>\n",
       "      <th>3</th>\n",
       "      <td>2000-04-01</td>\n",
       "      <td>75.45</td>\n",
       "      <td>59.61</td>\n",
       "      <td>3.9253</td>\n",
       "      <td>94.7</td>\n",
       "      <td>4.550714</td>\n",
       "      <td>4.323470</td>\n",
       "      <td>4.087823</td>\n",
       "      <td>0.011684</td>\n",
       "      <td>0.001061</td>\n",
       "      <td>-0.011509</td>\n",
       "      <td>0.001127</td>\n",
       "    </tr>\n",
       "    <tr>\n",
       "      <th>4</th>\n",
       "      <td>2000-05-01</td>\n",
       "      <td>75.54</td>\n",
       "      <td>60.36</td>\n",
       "      <td>4.3620</td>\n",
       "      <td>96.0</td>\n",
       "      <td>4.564348</td>\n",
       "      <td>4.324662</td>\n",
       "      <td>4.100327</td>\n",
       "      <td>0.013634</td>\n",
       "      <td>0.001192</td>\n",
       "      <td>0.012503</td>\n",
       "      <td>-0.002425</td>\n",
       "    </tr>\n",
       "    <tr>\n",
       "      <th>5</th>\n",
       "      <td>2000-06-01</td>\n",
       "      <td>75.80</td>\n",
       "      <td>61.91</td>\n",
       "      <td>4.5017</td>\n",
       "      <td>94.7</td>\n",
       "      <td>4.550714</td>\n",
       "      <td>4.328098</td>\n",
       "      <td>4.125682</td>\n",
       "      <td>-0.013634</td>\n",
       "      <td>0.003436</td>\n",
       "      <td>0.025355</td>\n",
       "      <td>0.000935</td>\n",
       "    </tr>\n",
       "    <tr>\n",
       "      <th>...</th>\n",
       "      <td>...</td>\n",
       "      <td>...</td>\n",
       "      <td>...</td>\n",
       "      <td>...</td>\n",
       "      <td>...</td>\n",
       "      <td>...</td>\n",
       "      <td>...</td>\n",
       "      <td>...</td>\n",
       "      <td>...</td>\n",
       "      <td>...</td>\n",
       "      <td>...</td>\n",
       "      <td>...</td>\n",
       "    </tr>\n",
       "    <tr>\n",
       "      <th>273</th>\n",
       "      <td>2022-10-01</td>\n",
       "      <td>121.03</td>\n",
       "      <td>171.75</td>\n",
       "      <td>1.4277</td>\n",
       "      <td>107.1</td>\n",
       "      <td>4.673763</td>\n",
       "      <td>4.796038</td>\n",
       "      <td>5.146040</td>\n",
       "      <td>-0.018502</td>\n",
       "      <td>0.014732</td>\n",
       "      <td>0.060235</td>\n",
       "      <td>-0.000432</td>\n",
       "    </tr>\n",
       "    <tr>\n",
       "      <th>274</th>\n",
       "      <td>2022-11-01</td>\n",
       "      <td>120.95</td>\n",
       "      <td>168.53</td>\n",
       "      <td>1.8252</td>\n",
       "      <td>108.6</td>\n",
       "      <td>4.687671</td>\n",
       "      <td>4.795377</td>\n",
       "      <td>5.127114</td>\n",
       "      <td>0.013908</td>\n",
       "      <td>-0.000661</td>\n",
       "      <td>-0.018926</td>\n",
       "      <td>-0.007131</td>\n",
       "    </tr>\n",
       "    <tr>\n",
       "      <th>275</th>\n",
       "      <td>2022-12-01</td>\n",
       "      <td>120.52</td>\n",
       "      <td>157.40</td>\n",
       "      <td>2.0663</td>\n",
       "      <td>107.2</td>\n",
       "      <td>4.674696</td>\n",
       "      <td>4.791816</td>\n",
       "      <td>5.058790</td>\n",
       "      <td>-0.012975</td>\n",
       "      <td>-0.003562</td>\n",
       "      <td>-0.068323</td>\n",
       "      <td>0.002317</td>\n",
       "    </tr>\n",
       "    <tr>\n",
       "      <th>276</th>\n",
       "      <td>2023-01-01</td>\n",
       "      <td>120.27</td>\n",
       "      <td>158.32</td>\n",
       "      <td>2.3449</td>\n",
       "      <td>107.9</td>\n",
       "      <td>4.681205</td>\n",
       "      <td>4.789739</td>\n",
       "      <td>5.064618</td>\n",
       "      <td>0.006509</td>\n",
       "      <td>-0.002076</td>\n",
       "      <td>0.005828</td>\n",
       "      <td>-0.006310</td>\n",
       "    </tr>\n",
       "    <tr>\n",
       "      <th>277</th>\n",
       "      <td>2023-02-01</td>\n",
       "      <td>121.24</td>\n",
       "      <td>156.55</td>\n",
       "      <td>2.6403</td>\n",
       "      <td>107.9</td>\n",
       "      <td>4.681205</td>\n",
       "      <td>4.797772</td>\n",
       "      <td>5.053375</td>\n",
       "      <td>0.000000</td>\n",
       "      <td>0.008033</td>\n",
       "      <td>-0.011243</td>\n",
       "      <td>0.011900</td>\n",
       "    </tr>\n",
       "  </tbody>\n",
       "</table>\n",
       "<p>277 rows × 12 columns</p>\n",
       "</div>"
      ],
      "text/plain": [
       "          Date    HICP  HICPenergy  EURIBOR3  output  log_output  log_HICP  \\\n",
       "1   2000-02-01   75.10       58.89    3.5368    93.2    4.534748  4.318821   \n",
       "2   2000-03-01   75.37       60.30    3.7470    93.6    4.539030  4.322409   \n",
       "3   2000-04-01   75.45       59.61    3.9253    94.7    4.550714  4.323470   \n",
       "4   2000-05-01   75.54       60.36    4.3620    96.0    4.564348  4.324662   \n",
       "5   2000-06-01   75.80       61.91    4.5017    94.7    4.550714  4.328098   \n",
       "..         ...     ...         ...       ...     ...         ...       ...   \n",
       "273 2022-10-01  121.03      171.75    1.4277   107.1    4.673763  4.796038   \n",
       "274 2022-11-01  120.95      168.53    1.8252   108.6    4.687671  4.795377   \n",
       "275 2022-12-01  120.52      157.40    2.0663   107.2    4.674696  4.791816   \n",
       "276 2023-01-01  120.27      158.32    2.3449   107.9    4.681205  4.789739   \n",
       "277 2023-02-01  121.24      156.55    2.6403   107.9    4.681205  4.797772   \n",
       "\n",
       "     log_HICPenergy  d_log_output  d_log_HICP  d_log_HICPenergy    uhat_1  \n",
       "1          4.075671      0.011873    0.003201          0.011099       NaN  \n",
       "2          4.099332      0.004283    0.003589          0.023661 -0.000942  \n",
       "3          4.087823      0.011684    0.001061         -0.011509  0.001127  \n",
       "4          4.100327      0.013634    0.001192          0.012503 -0.002425  \n",
       "5          4.125682     -0.013634    0.003436          0.025355  0.000935  \n",
       "..              ...           ...         ...               ...       ...  \n",
       "273        5.146040     -0.018502    0.014732          0.060235 -0.000432  \n",
       "274        5.127114      0.013908   -0.000661         -0.018926 -0.007131  \n",
       "275        5.058790     -0.012975   -0.003562         -0.068323  0.002317  \n",
       "276        5.064618      0.006509   -0.002076          0.005828 -0.006310  \n",
       "277        5.053375      0.000000    0.008033         -0.011243  0.011900  \n",
       "\n",
       "[277 rows x 12 columns]"
      ]
     },
     "execution_count": 171,
     "metadata": {},
     "output_type": "execute_result"
    }
   ],
   "source": [
    "df_second_model['uhat_1'] = model.resid.diff(1)\n",
    "df_second_model"
   ]
  },
  {
   "cell_type": "code",
   "execution_count": 167,
   "metadata": {},
   "outputs": [
    {
     "data": {
      "text/plain": [
       "2     -0.000942\n",
       "3      0.001127\n",
       "4     -0.002425\n",
       "5      0.000935\n",
       "6     -0.000511\n",
       "         ...   \n",
       "273   -0.000432\n",
       "274   -0.007131\n",
       "275    0.002317\n",
       "276   -0.006310\n",
       "277    0.011900\n",
       "Length: 276, dtype: float64"
      ]
     },
     "execution_count": 167,
     "metadata": {},
     "output_type": "execute_result"
    }
   ],
   "source": [
    "model.resid.diff(1).dropna()"
   ]
  }
 ],
 "metadata": {
  "interpreter": {
   "hash": "754eb1539c5fb6a6c7d5e0d157e3723f9f76d810abc9921a69b8892106f7d7a6"
  },
  "kernelspec": {
   "display_name": "Python 3.9.7 ('base')",
   "language": "python",
   "name": "python3"
  },
  "language_info": {
   "codemirror_mode": {
    "name": "ipython",
    "version": 3
   },
   "file_extension": ".py",
   "mimetype": "text/x-python",
   "name": "python",
   "nbconvert_exporter": "python",
   "pygments_lexer": "ipython3",
   "version": "3.9.7"
  },
  "orig_nbformat": 4
 },
 "nbformat": 4,
 "nbformat_minor": 2
}
