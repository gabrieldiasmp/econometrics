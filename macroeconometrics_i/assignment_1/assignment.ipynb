{
 "cells": [
  {
   "cell_type": "code",
   "execution_count": 1,
   "metadata": {},
   "outputs": [],
   "source": [
    "import pandas as pd\n",
    "from statsmodels.formula.api import ols\n",
    "import statsmodels.api as sm\n",
    "from statsmodels.tsa.api import ARDL\n",
    "\n",
    "from statsmodels.tsa.stattools import adfuller, kpss"
   ]
  },
  {
   "cell_type": "code",
   "execution_count": 2,
   "metadata": {},
   "outputs": [
    {
     "data": {
      "text/html": [
       "<div>\n",
       "<style scoped>\n",
       "    .dataframe tbody tr th:only-of-type {\n",
       "        vertical-align: middle;\n",
       "    }\n",
       "\n",
       "    .dataframe tbody tr th {\n",
       "        vertical-align: top;\n",
       "    }\n",
       "\n",
       "    .dataframe thead th {\n",
       "        text-align: right;\n",
       "    }\n",
       "</style>\n",
       "<table border=\"1\" class=\"dataframe\">\n",
       "  <thead>\n",
       "    <tr style=\"text-align: right;\">\n",
       "      <th></th>\n",
       "      <th>date</th>\n",
       "      <th>ibov_returns</th>\n",
       "      <th>cpi_inflation</th>\n",
       "      <th>brl_dollar</th>\n",
       "      <th>interest_rates</th>\n",
       "    </tr>\n",
       "  </thead>\n",
       "  <tbody>\n",
       "    <tr>\n",
       "      <th>0</th>\n",
       "      <td>1998-01-01</td>\n",
       "      <td>-0.046778</td>\n",
       "      <td>0.007097</td>\n",
       "      <td>0.005657</td>\n",
       "      <td>0.4290</td>\n",
       "    </tr>\n",
       "    <tr>\n",
       "      <th>1</th>\n",
       "      <td>1998-02-01</td>\n",
       "      <td>0.087551</td>\n",
       "      <td>0.004603</td>\n",
       "      <td>0.006608</td>\n",
       "      <td>0.4200</td>\n",
       "    </tr>\n",
       "    <tr>\n",
       "      <th>2</th>\n",
       "      <td>1998-03-01</td>\n",
       "      <td>0.130167</td>\n",
       "      <td>0.003397</td>\n",
       "      <td>0.005411</td>\n",
       "      <td>0.3854</td>\n",
       "    </tr>\n",
       "    <tr>\n",
       "      <th>3</th>\n",
       "      <td>1998-04-01</td>\n",
       "      <td>-0.022600</td>\n",
       "      <td>0.002397</td>\n",
       "      <td>0.006617</td>\n",
       "      <td>0.3655</td>\n",
       "    </tr>\n",
       "    <tr>\n",
       "      <th>4</th>\n",
       "      <td>1998-05-01</td>\n",
       "      <td>-0.156718</td>\n",
       "      <td>0.005001</td>\n",
       "      <td>0.005785</td>\n",
       "      <td>0.3330</td>\n",
       "    </tr>\n",
       "    <tr>\n",
       "      <th>...</th>\n",
       "      <td>...</td>\n",
       "      <td>...</td>\n",
       "      <td>...</td>\n",
       "      <td>...</td>\n",
       "      <td>...</td>\n",
       "    </tr>\n",
       "    <tr>\n",
       "      <th>296</th>\n",
       "      <td>2022-09-01</td>\n",
       "      <td>0.004693</td>\n",
       "      <td>-0.002900</td>\n",
       "      <td>0.020076</td>\n",
       "      <td>0.1375</td>\n",
       "    </tr>\n",
       "    <tr>\n",
       "      <th>297</th>\n",
       "      <td>2022-10-01</td>\n",
       "      <td>0.054527</td>\n",
       "      <td>0.005901</td>\n",
       "      <td>0.001621</td>\n",
       "      <td>0.1375</td>\n",
       "    </tr>\n",
       "    <tr>\n",
       "      <th>298</th>\n",
       "      <td>2022-11-01</td>\n",
       "      <td>-0.030602</td>\n",
       "      <td>0.004100</td>\n",
       "      <td>0.003027</td>\n",
       "      <td>0.1375</td>\n",
       "    </tr>\n",
       "    <tr>\n",
       "      <th>299</th>\n",
       "      <td>2022-12-01</td>\n",
       "      <td>-0.021825</td>\n",
       "      <td>0.006200</td>\n",
       "      <td>-0.004290</td>\n",
       "      <td>0.1375</td>\n",
       "    </tr>\n",
       "    <tr>\n",
       "      <th>300</th>\n",
       "      <td>2023-01-01</td>\n",
       "      <td>0.031818</td>\n",
       "      <td>0.005300</td>\n",
       "      <td>-0.010142</td>\n",
       "      <td>0.1375</td>\n",
       "    </tr>\n",
       "  </tbody>\n",
       "</table>\n",
       "<p>301 rows × 5 columns</p>\n",
       "</div>"
      ],
      "text/plain": [
       "          date  ibov_returns  cpi_inflation  brl_dollar  interest_rates\n",
       "0   1998-01-01     -0.046778       0.007097    0.005657          0.4290\n",
       "1   1998-02-01      0.087551       0.004603    0.006608          0.4200\n",
       "2   1998-03-01      0.130167       0.003397    0.005411          0.3854\n",
       "3   1998-04-01     -0.022600       0.002397    0.006617          0.3655\n",
       "4   1998-05-01     -0.156718       0.005001    0.005785          0.3330\n",
       "..         ...           ...            ...         ...             ...\n",
       "296 2022-09-01      0.004693      -0.002900    0.020076          0.1375\n",
       "297 2022-10-01      0.054527       0.005901    0.001621          0.1375\n",
       "298 2022-11-01     -0.030602       0.004100    0.003027          0.1375\n",
       "299 2022-12-01     -0.021825       0.006200   -0.004290          0.1375\n",
       "300 2023-01-01      0.031818       0.005300   -0.010142          0.1375\n",
       "\n",
       "[301 rows x 5 columns]"
      ]
     },
     "execution_count": 2,
     "metadata": {},
     "output_type": "execute_result"
    }
   ],
   "source": [
    "df = pd.read_excel(\"stock_ardl2.xlsx\")\n",
    "df"
   ]
  },
  {
   "cell_type": "code",
   "execution_count": 8,
   "metadata": {},
   "outputs": [
    {
     "name": "stdout",
     "output_type": "stream",
     "text": [
      "Best combination of lags: (1, 2) with AIC = -693.7357196478278\n"
     ]
    }
   ],
   "source": [
    "# Setting the exogenous variables\n",
    "exog=df.loc[:, ~df.columns.isin([\"ibov_returns\", \"date\"])]\n",
    "\n",
    "# Define the range of lag values to test\n",
    "max_lags = 3\n",
    "lags_range = range(1, max_lags+1)\n",
    "\n",
    "# Initialize the list of AIC values for each lag combination\n",
    "aic_list = []\n",
    "\n",
    "# Loop over the range of lags and fit the ARDL model for each combination\n",
    "for p in lags_range:\n",
    "    for q in lags_range:\n",
    "        model = ARDL(df.ibov_returns, p, exog, q)\n",
    "        results = model.fit()\n",
    "        aic = results.aic\n",
    "        aic_list.append((p, q, aic))\n",
    "\n",
    "# Find the combination of lags that returns the lowest AIC value\n",
    "best_lags = min(aic_list, key=lambda x: x[2])\n",
    "print(\"Best combination of lags: ({}, {}) with AIC = {}\".format(best_lags[0], best_lags[1], best_lags[2]))"
   ]
  },
  {
   "cell_type": "code",
   "execution_count": 9,
   "metadata": {},
   "outputs": [
    {
     "name": "stdout",
     "output_type": "stream",
     "text": [
      "                              ARDL Model Results                              \n",
      "==============================================================================\n",
      "Dep. Variable:           ibov_returns   No. Observations:                  301\n",
      "Model:               ARDL(1, 2, 2, 2)   Log Likelihood                 358.868\n",
      "Method:               Conditional MLE   S.D. of innovations              0.073\n",
      "Date:                Sat, 01 Apr 2023   AIC                           -693.736\n",
      "Time:                        11:22:42   BIC                           -649.290\n",
      "Sample:                             2   HQIC                          -675.949\n",
      "                                  301                                         \n",
      "=====================================================================================\n",
      "                        coef    std err          z      P>|z|      [0.025      0.975]\n",
      "-------------------------------------------------------------------------------------\n",
      "const                 0.0041      0.011      0.381      0.704      -0.017       0.025\n",
      "ibov_returns.L1      -0.0379      0.063     -0.600      0.549      -0.162       0.086\n",
      "cpi_inflation.L0     -0.5679      1.414     -0.401      0.688      -3.352       2.216\n",
      "cpi_inflation.L1      2.2526      1.666      1.352      0.177      -1.026       5.531\n",
      "cpi_inflation.L2     -3.1873      1.384     -2.304      0.022      -5.910      -0.464\n",
      "brl_dollar.L0        -0.7051      0.113     -6.226      0.000      -0.928      -0.482\n",
      "brl_dollar.L1         0.2455      0.124      1.985      0.048       0.002       0.489\n",
      "brl_dollar.L2         0.0828      0.112      0.740      0.460      -0.137       0.303\n",
      "interest_rates.L0     0.3266      0.299      1.092      0.276      -0.262       0.915\n",
      "interest_rates.L1    -0.3210      0.471     -0.682      0.496      -1.247       0.605\n",
      "interest_rates.L2     0.1223      0.284      0.430      0.667      -0.437       0.682\n",
      "=====================================================================================\n"
     ]
    }
   ],
   "source": [
    "model = ARDL(df.ibov_returns, 1, exog, 2).fit()\n",
    "print(model.summary())"
   ]
  },
  {
   "cell_type": "markdown",
   "metadata": {},
   "source": [
    "## Augmented Ducky Fuller (ADF) TEST\n",
    "\n",
    "A null hypothesis is given as:\n",
    "\n",
    "* 𝐻0\n",
    "  : Time series is not stationary\n",
    "* 𝐻1\n",
    "  : Time series is stationary\n"
   ]
  },
  {
   "cell_type": "code",
   "execution_count": 40,
   "metadata": {},
   "outputs": [],
   "source": [
    "def adf_test(timeseries):\n",
    "    print(\"Results of Dickey-Fuller Test:\")\n",
    "    dftest = adfuller(timeseries, autolag=\"AIC\")\n",
    "    dfoutput = pd.Series(\n",
    "        dftest[0:4],\n",
    "        index=[\n",
    "            \"Test Statistic\",\n",
    "            \"p-value\",\n",
    "            \"#Lags Used\",\n",
    "            \"Number of Observations Used\",\n",
    "        ],\n",
    "    )\n",
    "    for key, value in dftest[4].items():\n",
    "        dfoutput[\"Critical Value (%s)\" % key] = value\n",
    "    print(dfoutput.apply(lambda x: round(x, 4)))\n",
    "\n",
    "def kpss_test(timeseries):\n",
    "    print(\"Results of KPSS Test:\")\n",
    "    kpsstest = kpss(timeseries, regression=\"c\", nlags=\"auto\")\n",
    "    kpss_output = pd.Series(\n",
    "        kpsstest[0:3], index=[\"Test Statistic\", \"p-value\", \"Lags Used\"]\n",
    "    )\n",
    "    for key, value in kpsstest[3].items():\n",
    "        kpss_output[\"Critical Value (%s)\" % key] = value\n",
    "    print(kpss_output)"
   ]
  },
  {
   "cell_type": "code",
   "execution_count": 32,
   "metadata": {},
   "outputs": [
    {
     "data": {
      "text/plain": [
       "Index(['date', 'ibov_returns', 'cpi_inflation', 'brl_dollar',\n",
       "       'interest_rates'],\n",
       "      dtype='object')"
      ]
     },
     "execution_count": 32,
     "metadata": {},
     "output_type": "execute_result"
    }
   ],
   "source": [
    "df.columns"
   ]
  },
  {
   "cell_type": "code",
   "execution_count": 41,
   "metadata": {},
   "outputs": [
    {
     "name": "stdout",
     "output_type": "stream",
     "text": [
      "Results of Dickey-Fuller Test:\n",
      "Test Statistic                 -16.3567\n",
      "p-value                          0.0000\n",
      "#Lags Used                       0.0000\n",
      "Number of Observations Used    300.0000\n",
      "Critical Value (1%)             -3.4523\n",
      "Critical Value (5%)             -2.8712\n",
      "Critical Value (10%)            -2.5719\n",
      "dtype: float64\n"
     ]
    }
   ],
   "source": [
    "adf_test(df.ibov_returns)"
   ]
  },
  {
   "cell_type": "code",
   "execution_count": 42,
   "metadata": {},
   "outputs": [
    {
     "name": "stdout",
     "output_type": "stream",
     "text": [
      "Results of Dickey-Fuller Test:\n",
      "Test Statistic                  -8.3120\n",
      "p-value                          0.0000\n",
      "#Lags Used                       0.0000\n",
      "Number of Observations Used    300.0000\n",
      "Critical Value (1%)             -3.4523\n",
      "Critical Value (5%)             -2.8712\n",
      "Critical Value (10%)            -2.5719\n",
      "dtype: float64\n"
     ]
    }
   ],
   "source": [
    "adf_test(df.cpi_inflation)"
   ]
  },
  {
   "cell_type": "code",
   "execution_count": 43,
   "metadata": {},
   "outputs": [
    {
     "name": "stdout",
     "output_type": "stream",
     "text": [
      "Results of Dickey-Fuller Test:\n",
      "Test Statistic                  -3.3273\n",
      "p-value                          0.0137\n",
      "#Lags Used                       3.0000\n",
      "Number of Observations Used    297.0000\n",
      "Critical Value (1%)             -3.4526\n",
      "Critical Value (5%)             -2.8713\n",
      "Critical Value (10%)            -2.5720\n",
      "dtype: float64\n"
     ]
    }
   ],
   "source": [
    "adf_test(df.interest_rates)"
   ]
  },
  {
   "cell_type": "code",
   "execution_count": 44,
   "metadata": {},
   "outputs": [
    {
     "name": "stdout",
     "output_type": "stream",
     "text": [
      "Results of Dickey-Fuller Test:\n",
      "Test Statistic                 -11.5323\n",
      "p-value                          0.0000\n",
      "#Lags Used                       0.0000\n",
      "Number of Observations Used    300.0000\n",
      "Critical Value (1%)             -3.4523\n",
      "Critical Value (5%)             -2.8712\n",
      "Critical Value (10%)            -2.5719\n",
      "dtype: float64\n"
     ]
    }
   ],
   "source": [
    "adf_test(df.brl_dollar)"
   ]
  }
 ],
 "metadata": {
  "interpreter": {
   "hash": "754eb1539c5fb6a6c7d5e0d157e3723f9f76d810abc9921a69b8892106f7d7a6"
  },
  "kernelspec": {
   "display_name": "Python 3.9.7 ('base')",
   "language": "python",
   "name": "python3"
  },
  "language_info": {
   "codemirror_mode": {
    "name": "ipython",
    "version": 3
   },
   "file_extension": ".py",
   "mimetype": "text/x-python",
   "name": "python",
   "nbconvert_exporter": "python",
   "pygments_lexer": "ipython3",
   "version": "3.9.7"
  },
  "orig_nbformat": 4
 },
 "nbformat": 4,
 "nbformat_minor": 2
}
