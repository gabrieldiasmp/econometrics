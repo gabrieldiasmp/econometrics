{
 "cells": [
  {
   "cell_type": "code",
   "execution_count": 113,
   "metadata": {},
   "outputs": [],
   "source": [
    "import pandas as pd\n",
    "import matplotlib.pyplot as plt\n",
    "from statsmodels.formula.api import ols\n",
    "import statsmodels.api as sm\n",
    "from statsmodels.tsa.api import ARDL\n",
    "\n",
    "from statsmodels.tsa.stattools import adfuller, kpss\n",
    "from statsmodels.graphics.tsaplots import plot_acf, plot_pacf"
   ]
  },
  {
   "cell_type": "markdown",
   "metadata": {},
   "source": [
    "# Setup"
   ]
  },
  {
   "cell_type": "code",
   "execution_count": 161,
   "metadata": {},
   "outputs": [
    {
     "data": {
      "text/html": [
       "<div>\n",
       "<style scoped>\n",
       "    .dataframe tbody tr th:only-of-type {\n",
       "        vertical-align: middle;\n",
       "    }\n",
       "\n",
       "    .dataframe tbody tr th {\n",
       "        vertical-align: top;\n",
       "    }\n",
       "\n",
       "    .dataframe thead th {\n",
       "        text-align: right;\n",
       "    }\n",
       "</style>\n",
       "<table border=\"1\" class=\"dataframe\">\n",
       "  <thead>\n",
       "    <tr style=\"text-align: right;\">\n",
       "      <th></th>\n",
       "      <th>date</th>\n",
       "      <th>ibov_returns</th>\n",
       "      <th>cpi_inflation</th>\n",
       "      <th>brl_dollar</th>\n",
       "      <th>interest_rates</th>\n",
       "    </tr>\n",
       "  </thead>\n",
       "  <tbody>\n",
       "    <tr>\n",
       "      <th>0</th>\n",
       "      <td>1998-01-01</td>\n",
       "      <td>-0.046778</td>\n",
       "      <td>0.007097</td>\n",
       "      <td>0.005657</td>\n",
       "      <td>0.4290</td>\n",
       "    </tr>\n",
       "    <tr>\n",
       "      <th>1</th>\n",
       "      <td>1998-02-01</td>\n",
       "      <td>0.087551</td>\n",
       "      <td>0.004603</td>\n",
       "      <td>0.006608</td>\n",
       "      <td>0.4200</td>\n",
       "    </tr>\n",
       "    <tr>\n",
       "      <th>2</th>\n",
       "      <td>1998-03-01</td>\n",
       "      <td>0.130167</td>\n",
       "      <td>0.003397</td>\n",
       "      <td>0.005411</td>\n",
       "      <td>0.3854</td>\n",
       "    </tr>\n",
       "    <tr>\n",
       "      <th>3</th>\n",
       "      <td>1998-04-01</td>\n",
       "      <td>-0.022600</td>\n",
       "      <td>0.002397</td>\n",
       "      <td>0.006617</td>\n",
       "      <td>0.3655</td>\n",
       "    </tr>\n",
       "    <tr>\n",
       "      <th>4</th>\n",
       "      <td>1998-05-01</td>\n",
       "      <td>-0.156718</td>\n",
       "      <td>0.005001</td>\n",
       "      <td>0.005785</td>\n",
       "      <td>0.3330</td>\n",
       "    </tr>\n",
       "    <tr>\n",
       "      <th>...</th>\n",
       "      <td>...</td>\n",
       "      <td>...</td>\n",
       "      <td>...</td>\n",
       "      <td>...</td>\n",
       "      <td>...</td>\n",
       "    </tr>\n",
       "    <tr>\n",
       "      <th>296</th>\n",
       "      <td>2022-09-01</td>\n",
       "      <td>0.004693</td>\n",
       "      <td>-0.002900</td>\n",
       "      <td>0.020076</td>\n",
       "      <td>0.1375</td>\n",
       "    </tr>\n",
       "    <tr>\n",
       "      <th>297</th>\n",
       "      <td>2022-10-01</td>\n",
       "      <td>0.054527</td>\n",
       "      <td>0.005901</td>\n",
       "      <td>0.001621</td>\n",
       "      <td>0.1375</td>\n",
       "    </tr>\n",
       "    <tr>\n",
       "      <th>298</th>\n",
       "      <td>2022-11-01</td>\n",
       "      <td>-0.030602</td>\n",
       "      <td>0.004100</td>\n",
       "      <td>0.003027</td>\n",
       "      <td>0.1375</td>\n",
       "    </tr>\n",
       "    <tr>\n",
       "      <th>299</th>\n",
       "      <td>2022-12-01</td>\n",
       "      <td>-0.021825</td>\n",
       "      <td>0.006200</td>\n",
       "      <td>-0.004290</td>\n",
       "      <td>0.1375</td>\n",
       "    </tr>\n",
       "    <tr>\n",
       "      <th>300</th>\n",
       "      <td>2023-01-01</td>\n",
       "      <td>0.031818</td>\n",
       "      <td>0.005300</td>\n",
       "      <td>-0.010142</td>\n",
       "      <td>0.1375</td>\n",
       "    </tr>\n",
       "  </tbody>\n",
       "</table>\n",
       "<p>301 rows × 5 columns</p>\n",
       "</div>"
      ],
      "text/plain": [
       "          date  ibov_returns  cpi_inflation  brl_dollar  interest_rates\n",
       "0   1998-01-01     -0.046778       0.007097    0.005657          0.4290\n",
       "1   1998-02-01      0.087551       0.004603    0.006608          0.4200\n",
       "2   1998-03-01      0.130167       0.003397    0.005411          0.3854\n",
       "3   1998-04-01     -0.022600       0.002397    0.006617          0.3655\n",
       "4   1998-05-01     -0.156718       0.005001    0.005785          0.3330\n",
       "..         ...           ...            ...         ...             ...\n",
       "296 2022-09-01      0.004693      -0.002900    0.020076          0.1375\n",
       "297 2022-10-01      0.054527       0.005901    0.001621          0.1375\n",
       "298 2022-11-01     -0.030602       0.004100    0.003027          0.1375\n",
       "299 2022-12-01     -0.021825       0.006200   -0.004290          0.1375\n",
       "300 2023-01-01      0.031818       0.005300   -0.010142          0.1375\n",
       "\n",
       "[301 rows x 5 columns]"
      ]
     },
     "execution_count": 161,
     "metadata": {},
     "output_type": "execute_result"
    }
   ],
   "source": [
    "df = pd.read_excel(\"stock_ardl2.xlsx\")\n",
    "df"
   ]
  },
  {
   "cell_type": "code",
   "execution_count": 99,
   "metadata": {},
   "outputs": [
    {
     "data": {
      "text/plain": [
       "RangeIndex(start=0, stop=301, step=1)"
      ]
     },
     "execution_count": 99,
     "metadata": {},
     "output_type": "execute_result"
    }
   ],
   "source": [
    "df.index"
   ]
  },
  {
   "cell_type": "markdown",
   "metadata": {},
   "source": [
    "# Exploratory analysis"
   ]
  },
  {
   "cell_type": "code",
   "execution_count": 135,
   "metadata": {},
   "outputs": [],
   "source": [
    "def plot_acf_pacf(df_ts, lags=12):\n",
    "    print(plot_acf(df_ts, lags=lags))\n",
    "    print(plot_pacf(df_ts, lags=lags, method=\"ols\"))"
   ]
  },
  {
   "cell_type": "code",
   "execution_count": 112,
   "metadata": {},
   "outputs": [
    {
     "name": "stdout",
     "output_type": "stream",
     "text": [
      "Figure(432x288)\n",
      "Figure(432x288)\n"
     ]
    },
    {
     "data": {
      "image/png": "[encoded data removed]",
      "text/plain": [
       "<Figure size 432x288 with 1 Axes>"
      ]
     },
     "metadata": {
      "needs_background": "light"
     },
     "output_type": "display_data"
    },
    {
     "data": {
      "image/png": "[encoded data removed]",
      "text/plain": [
       "<Figure size 432x288 with 1 Axes>"
      ]
     },
     "metadata": {
      "needs_background": "light"
     },
     "output_type": "display_data"
    }
   ],
   "source": [
    "plot_acf_pacf(df.ibov_returns)"
   ]
  },
  {
   "cell_type": "code",
   "execution_count": 109,
   "metadata": {},
   "outputs": [
    {
     "data": {
      "image/png": "[encoded data removed]",
      "text/plain": [
       "<Figure size 720x576 with 4 Axes>"
      ]
     },
     "metadata": {
      "needs_background": "light"
     },
     "output_type": "display_data"
    }
   ],
   "source": [
    "# Create a figure with 4 subplots\n",
    "fig, axs = plt.subplots(4, 1, figsize=(10, 8), gridspec_kw={'hspace': 0.8})\n",
    "\n",
    "# Convert the index to datetime\n",
    "df.index = pd.to_datetime(df.date)\n",
    "\n",
    "# Plot each time series in a separate subplot\n",
    "df['ibov_returns'].plot(ax=axs[0], label='Series 1')\n",
    "axs[0].set_title('IBOV - Monthly rate')\n",
    "df['cpi_inflation'].plot(ax=axs[1], label='Series 2')\n",
    "axs[1].set_title('Consumer price index (Brazil) - Monthly rate')\n",
    "df['brl_dollar'].plot(ax=axs[2], label='Series 3')\n",
    "axs[2].set_title('BRL/US exchange rate - Monthly rate')\n",
    "df['interest_rates'].plot(ax=axs[3], label='Series 4')\n",
    "axs[3].set_title('Interest rates')\n",
    "\n",
    "axs[0].set_xlabel('')\n",
    "axs[1].set_xlabel('')\n",
    "axs[2].set_xlabel('')\n",
    "axs[3].set_xlabel('')\n",
    "\n",
    "fig.text(0.5, 0.04, 'Date', ha='center', fontsize=14)\n",
    "\n",
    "# Display the plot\n",
    "plt.show()"
   ]
  },
  {
   "cell_type": "code",
   "execution_count": 157,
   "metadata": {},
   "outputs": [
    {
     "data": {
      "text/html": [
       "<div>\n",
       "<style scoped>\n",
       "    .dataframe tbody tr th:only-of-type {\n",
       "        vertical-align: middle;\n",
       "    }\n",
       "\n",
       "    .dataframe tbody tr th {\n",
       "        vertical-align: top;\n",
       "    }\n",
       "\n",
       "    .dataframe thead th {\n",
       "        text-align: right;\n",
       "    }\n",
       "</style>\n",
       "<table border=\"1\" class=\"dataframe\">\n",
       "  <thead>\n",
       "    <tr style=\"text-align: right;\">\n",
       "      <th></th>\n",
       "      <th>ibov_returns</th>\n",
       "      <th>cpi_inflation</th>\n",
       "      <th>brl_dollar</th>\n",
       "      <th>interest_rates</th>\n",
       "    </tr>\n",
       "  </thead>\n",
       "  <tbody>\n",
       "    <tr>\n",
       "      <th>count</th>\n",
       "      <td>301.000000</td>\n",
       "      <td>301.000000</td>\n",
       "      <td>301.000000</td>\n",
       "      <td>301.000000</td>\n",
       "    </tr>\n",
       "    <tr>\n",
       "      <th>mean</th>\n",
       "      <td>0.011314</td>\n",
       "      <td>0.005045</td>\n",
       "      <td>0.006057</td>\n",
       "      <td>0.138675</td>\n",
       "    </tr>\n",
       "    <tr>\n",
       "      <th>std</th>\n",
       "      <td>0.079540</td>\n",
       "      <td>0.004077</td>\n",
       "      <td>0.044277</td>\n",
       "      <td>0.078516</td>\n",
       "    </tr>\n",
       "    <tr>\n",
       "      <th>min</th>\n",
       "      <td>-0.395536</td>\n",
       "      <td>-0.006800</td>\n",
       "      <td>-0.106628</td>\n",
       "      <td>0.020000</td>\n",
       "    </tr>\n",
       "    <tr>\n",
       "      <th>25%</th>\n",
       "      <td>-0.034427</td>\n",
       "      <td>0.002600</td>\n",
       "      <td>-0.020443</td>\n",
       "      <td>0.089000</td>\n",
       "    </tr>\n",
       "    <tr>\n",
       "      <th>50%</th>\n",
       "      <td>0.008774</td>\n",
       "      <td>0.004603</td>\n",
       "      <td>0.003677</td>\n",
       "      <td>0.126200</td>\n",
       "    </tr>\n",
       "    <tr>\n",
       "      <th>75%</th>\n",
       "      <td>0.063026</td>\n",
       "      <td>0.006998</td>\n",
       "      <td>0.025510</td>\n",
       "      <td>0.172500</td>\n",
       "    </tr>\n",
       "    <tr>\n",
       "      <th>max</th>\n",
       "      <td>0.240438</td>\n",
       "      <td>0.030202</td>\n",
       "      <td>0.273876</td>\n",
       "      <td>0.497500</td>\n",
       "    </tr>\n",
       "  </tbody>\n",
       "</table>\n",
       "</div>"
      ],
      "text/plain": [
       "       ibov_returns  cpi_inflation  brl_dollar  interest_rates\n",
       "count    301.000000     301.000000  301.000000      301.000000\n",
       "mean       0.011314       0.005045    0.006057        0.138675\n",
       "std        0.079540       0.004077    0.044277        0.078516\n",
       "min       -0.395536      -0.006800   -0.106628        0.020000\n",
       "25%       -0.034427       0.002600   -0.020443        0.089000\n",
       "50%        0.008774       0.004603    0.003677        0.126200\n",
       "75%        0.063026       0.006998    0.025510        0.172500\n",
       "max        0.240438       0.030202    0.273876        0.497500"
      ]
     },
     "execution_count": 157,
     "metadata": {},
     "output_type": "execute_result"
    }
   ],
   "source": [
    "df[['ibov_returns','cpi_inflation','brl_dollar','interest_rates']].describe()"
   ]
  },
  {
   "cell_type": "markdown",
   "metadata": {},
   "source": [
    "# ARDL model"
   ]
  },
  {
   "cell_type": "markdown",
   "metadata": {},
   "source": [
    "$$ IBOV = \\beta_0 + \\beta_1IBOV_{t-1} + \\sum_{j=0}^{5} \\alpha_jER_{t-j} + \\sum_{j=0}^{5} \\gamma_jCPI_{t-j} \\sum_{j=0}^{5} \\delta_jIR_{t-j} + \\varepsilon_t"
   ]
  },
  {
   "cell_type": "code",
   "execution_count": 168,
   "metadata": {},
   "outputs": [
    {
     "name": "stdout",
     "output_type": "stream",
     "text": [
      "Best combination of lags: (1, 5) with AIC = -701.6208219965253\n"
     ]
    }
   ],
   "source": [
    "# Setting the exogenous variables\n",
    "exog=df.loc[:, ~df.columns.isin([\"ibov_returns\", \"date\"])]\n",
    "\n",
    "# Define the range of lag values to test\n",
    "max_lags = 6\n",
    "lags_range = range(1, max_lags+1)\n",
    "\n",
    "# Initialize the list of AIC values for each lag combination\n",
    "aic_list = []\n",
    "\n",
    "# Loop over the range of lags and fit the ARDL model for each combination\n",
    "for p in lags_range:\n",
    "    for q in lags_range:\n",
    "        model = ARDL(df.ibov_returns, p, exog, q)\n",
    "        results = model.fit()\n",
    "        aic = results.aic\n",
    "        aic_list.append((p, q, aic))\n",
    "\n",
    "# Find the combination of lags that returns the lowest AIC value\n",
    "best_lags = min(aic_list, key=lambda x: x[2])\n",
    "print(\"Best combination of lags: ({}, {}) with AIC = {}\".format(best_lags[0], best_lags[1], best_lags[2]))"
   ]
  },
  {
   "cell_type": "code",
   "execution_count": 169,
   "metadata": {},
   "outputs": [
    {
     "name": "stdout",
     "output_type": "stream",
     "text": [
      "                              ARDL Model Results                              \n",
      "==============================================================================\n",
      "Dep. Variable:           ibov_returns   No. Observations:                  301\n",
      "Model:               ARDL(1, 5, 5, 5)   Log Likelihood                 371.810\n",
      "Method:               Conditional MLE   S.D. of innovations              0.070\n",
      "Date:                Mon, 08 May 2023   AIC                           -701.621\n",
      "Time:                        15:03:05   BIC                           -623.841\n",
      "Sample:                             5   HQIC                          -670.493\n",
      "                                  301                                         \n",
      "=====================================================================================\n",
      "                        coef    std err          z      P>|z|      [0.025      0.975]\n",
      "-------------------------------------------------------------------------------------\n",
      "const                 0.0070      0.009      0.777      0.438      -0.011       0.025\n",
      "ibov_returns.L1      -0.0679      0.067     -1.015      0.311      -0.200       0.064\n",
      "cpi_inflation.L0     -0.8420      1.577     -0.534      0.594      -3.946       2.262\n",
      "cpi_inflation.L1      2.0820      1.477      1.409      0.160      -0.826       4.990\n",
      "cpi_inflation.L2     -1.9964      1.686     -1.184      0.237      -5.315       1.322\n",
      "cpi_inflation.L3     -2.6528      1.999     -1.327      0.186      -6.588       1.282\n",
      "cpi_inflation.L4      0.8615      1.490      0.578      0.563      -2.071       3.794\n",
      "cpi_inflation.L5      0.1381      1.470      0.094      0.925      -2.756       3.032\n",
      "brl_dollar.L0        -0.7980      0.136     -5.854      0.000      -1.066      -0.530\n",
      "brl_dollar.L1         0.2106      0.121      1.734      0.084      -0.028       0.450\n",
      "brl_dollar.L2         0.1145      0.097      1.181      0.239      -0.076       0.305\n",
      "brl_dollar.L3         0.0455      0.089      0.511      0.610      -0.130       0.221\n",
      "brl_dollar.L4         0.1040      0.111      0.939      0.349      -0.114       0.322\n",
      "brl_dollar.L5        -0.1033      0.122     -0.846      0.398      -0.344       0.137\n",
      "interest_rates.L0     0.2240      0.300      0.746      0.456      -0.367       0.815\n",
      "interest_rates.L1    -0.1071      0.482     -0.222      0.824      -1.056       0.842\n",
      "interest_rates.L2     0.0115      0.372      0.031      0.975      -0.721       0.744\n",
      "interest_rates.L3    -0.4331      0.946     -0.458      0.647      -2.295       1.429\n",
      "interest_rates.L4     1.4500      1.326      1.093      0.275      -1.161       4.061\n",
      "interest_rates.L5    -0.9928      0.745     -1.333      0.184      -2.459       0.474\n",
      "=====================================================================================\n"
     ]
    }
   ],
   "source": [
    "model = ARDL(df.ibov_returns, 1, exog, 5).fit(cov_type=\"HAC\", cov_kwds={'maxlags':2})\n",
    "print(model.summary())"
   ]
  },
  {
   "cell_type": "markdown",
   "metadata": {},
   "source": [
    "- Durbin-Watson test for residuals"
   ]
  },
  {
   "cell_type": "code",
   "execution_count": 139,
   "metadata": {},
   "outputs": [
    {
     "name": "stdout",
     "output_type": "stream",
     "text": [
      "Durbin-Watson statistic: 2.025237215392498\n"
     ]
    }
   ],
   "source": [
    "import statsmodels.api as sm\n",
    "\n",
    "# Test for first-order serial correlation using the Durbin-Watson test\n",
    "durbin_watson = sm.stats.stattools.durbin_watson(model.resid)\n",
    "\n",
    "# Print the test result\n",
    "print(\"Durbin-Watson statistic:\", durbin_watson)"
   ]
  },
  {
   "cell_type": "markdown",
   "metadata": {},
   "source": [
    "- Breusch-Pagan for heteroskedasticity"
   ]
  },
  {
   "cell_type": "code",
   "execution_count": 144,
   "metadata": {},
   "outputs": [
    {
     "name": "stdout",
     "output_type": "stream",
     "text": [
      "Breusch-Pagan test statistic:  24.54637794918741\n",
      "Breusch-Pagan test p-value:  1.920770479956453e-05\n"
     ]
    }
   ],
   "source": [
    "# Add a constant column to your independent variable array\n",
    "x_with_const = sm.add_constant(model.model.exog[5:])\n",
    "\n",
    "# Run the Breusch-Pagan test for heteroscedasticity\n",
    "bp_test = sm.stats.diagnostic.het_breuschpagan(model.resid, x_with_const)\n",
    "\n",
    "# Print the test results\n",
    "print('Breusch-Pagan test statistic: ', bp_test[0])\n",
    "print('Breusch-Pagan test p-value: ', bp_test[1])"
   ]
  },
  {
   "cell_type": "markdown",
   "metadata": {},
   "source": [
    "- Jarque-Bera test for residuals"
   ]
  },
  {
   "cell_type": "code",
   "execution_count": 170,
   "metadata": {},
   "outputs": [
    {
     "data": {
      "image/png": "[encoded data removed]",
      "text/plain": [
       "<Figure size 432x288 with 1 Axes>"
      ]
     },
     "metadata": {},
     "output_type": "display_data"
    }
   ],
   "source": [
    "plt.hist(model.resid, bins=30)\n",
    "fig = plt.gcf()\n",
    "fig.set_facecolor(\"white\")\n",
    "plt.show()"
   ]
  },
  {
   "cell_type": "code",
   "execution_count": 171,
   "metadata": {},
   "outputs": [
    {
     "data": {
      "text/plain": [
       "Jarque_beraResult(statistic=195.56316426728773, pvalue=0.0)"
      ]
     },
     "execution_count": 171,
     "metadata": {},
     "output_type": "execute_result"
    }
   ],
   "source": [
    "import numpy as np\n",
    "from scipy import stats\n",
    "\n",
    "jarque_bera_test = stats.jarque_bera(model.resid)\n",
    "jarque_bera_test"
   ]
  },
  {
   "cell_type": "code",
   "execution_count": 147,
   "metadata": {},
   "outputs": [
    {
     "name": "stdout",
     "output_type": "stream",
     "text": [
      "195.56316426728773\n",
      "0.0\n"
     ]
    }
   ],
   "source": [
    "print(jarque_bera_test.statistic)\n",
    "print(jarque_bera_test.pvalue)"
   ]
  },
  {
   "cell_type": "markdown",
   "metadata": {},
   "source": [
    "# Augmented Ducky Fuller (ADF) TEST\n",
    "\n",
    "A null hypothesis is given as:\n",
    "\n",
    "* 𝐻0\n",
    "  : Time series is not stationary\n",
    "* 𝐻1\n",
    "  : Time series is stationary\n"
   ]
  },
  {
   "cell_type": "code",
   "execution_count": 5,
   "metadata": {},
   "outputs": [],
   "source": [
    "def adf_test(timeseries):\n",
    "    print(\"Results of Dickey-Fuller Test:\")\n",
    "    dftest = adfuller(timeseries, autolag=\"AIC\")\n",
    "    dfoutput = pd.Series(\n",
    "        dftest[0:4],\n",
    "        index=[\n",
    "            \"Test Statistic\",\n",
    "            \"p-value\",\n",
    "            \"#Lags Used\",\n",
    "            \"Number of Observations Used\",\n",
    "        ],\n",
    "    )\n",
    "    for key, value in dftest[4].items():\n",
    "        dfoutput[\"Critical Value (%s)\" % key] = value\n",
    "    print(dfoutput.apply(lambda x: round(x, 4)))\n",
    "\n",
    "def kpss_test(timeseries):\n",
    "    print(\"Results of KPSS Test:\")\n",
    "    kpsstest = kpss(timeseries, regression=\"c\", nlags=\"auto\")\n",
    "    kpss_output = pd.Series(\n",
    "        kpsstest[0:3], index=[\"Test Statistic\", \"p-value\", \"Lags Used\"]\n",
    "    )\n",
    "    for key, value in kpsstest[3].items():\n",
    "        kpss_output[\"Critical Value (%s)\" % key] = value\n",
    "    print(kpss_output)"
   ]
  },
  {
   "cell_type": "code",
   "execution_count": 32,
   "metadata": {},
   "outputs": [
    {
     "data": {
      "text/plain": [
       "Index(['date', 'ibov_returns', 'cpi_inflation', 'brl_dollar',\n",
       "       'interest_rates'],\n",
       "      dtype='object')"
      ]
     },
     "execution_count": 32,
     "metadata": {},
     "output_type": "execute_result"
    }
   ],
   "source": [
    "df.columns"
   ]
  },
  {
   "cell_type": "code",
   "execution_count": 6,
   "metadata": {},
   "outputs": [
    {
     "name": "stdout",
     "output_type": "stream",
     "text": [
      "Results of Dickey-Fuller Test:\n",
      "Test Statistic                 -16.3567\n",
      "p-value                          0.0000\n",
      "#Lags Used                       0.0000\n",
      "Number of Observations Used    300.0000\n",
      "Critical Value (1%)             -3.4523\n",
      "Critical Value (5%)             -2.8712\n",
      "Critical Value (10%)            -2.5719\n",
      "dtype: float64\n"
     ]
    }
   ],
   "source": [
    "adf_test(df.ibov_returns)"
   ]
  },
  {
   "cell_type": "code",
   "execution_count": 7,
   "metadata": {},
   "outputs": [
    {
     "name": "stdout",
     "output_type": "stream",
     "text": [
      "Results of Dickey-Fuller Test:\n",
      "Test Statistic                  -8.3120\n",
      "p-value                          0.0000\n",
      "#Lags Used                       0.0000\n",
      "Number of Observations Used    300.0000\n",
      "Critical Value (1%)             -3.4523\n",
      "Critical Value (5%)             -2.8712\n",
      "Critical Value (10%)            -2.5719\n",
      "dtype: float64\n"
     ]
    }
   ],
   "source": [
    "adf_test(df.cpi_inflation)"
   ]
  },
  {
   "cell_type": "code",
   "execution_count": 8,
   "metadata": {},
   "outputs": [
    {
     "name": "stdout",
     "output_type": "stream",
     "text": [
      "Results of Dickey-Fuller Test:\n",
      "Test Statistic                  -3.3273\n",
      "p-value                          0.0137\n",
      "#Lags Used                       3.0000\n",
      "Number of Observations Used    297.0000\n",
      "Critical Value (1%)             -3.4526\n",
      "Critical Value (5%)             -2.8713\n",
      "Critical Value (10%)            -2.5720\n",
      "dtype: float64\n"
     ]
    }
   ],
   "source": [
    "adf_test(df.interest_rates)"
   ]
  },
  {
   "cell_type": "code",
   "execution_count": 9,
   "metadata": {},
   "outputs": [
    {
     "name": "stdout",
     "output_type": "stream",
     "text": [
      "Results of Dickey-Fuller Test:\n",
      "Test Statistic                 -11.5323\n",
      "p-value                          0.0000\n",
      "#Lags Used                       0.0000\n",
      "Number of Observations Used    300.0000\n",
      "Critical Value (1%)             -3.4523\n",
      "Critical Value (5%)             -2.8712\n",
      "Critical Value (10%)            -2.5719\n",
      "dtype: float64\n"
     ]
    }
   ],
   "source": [
    "adf_test(df.brl_dollar)"
   ]
  },
  {
   "cell_type": "markdown",
   "metadata": {},
   "source": [
    "# ECM (error correction model)"
   ]
  },
  {
   "cell_type": "markdown",
   "metadata": {},
   "source": [
    "$$ \\Delta IBOV = \\beta_0 + \\beta_1 \\Delta IBOV_{t-1} + \\sum_{j=0}^{4} \\alpha_j \\Delta ER_{t-j} + \\sum_{j=0}^{4} \\gamma_j \\Delta CPI_{t-j} \\sum_{j=0}^{4} \\delta_j \\Delta IR_{t-j} + \\varphi Z_{t-1} + \\varepsilon_t"
   ]
  },
  {
   "cell_type": "code",
   "execution_count": 176,
   "metadata": {},
   "outputs": [
    {
     "data": {
      "text/html": [
       "<div>\n",
       "<style scoped>\n",
       "    .dataframe tbody tr th:only-of-type {\n",
       "        vertical-align: middle;\n",
       "    }\n",
       "\n",
       "    .dataframe tbody tr th {\n",
       "        vertical-align: top;\n",
       "    }\n",
       "\n",
       "    .dataframe thead th {\n",
       "        text-align: right;\n",
       "    }\n",
       "</style>\n",
       "<table border=\"1\" class=\"dataframe\">\n",
       "  <thead>\n",
       "    <tr style=\"text-align: right;\">\n",
       "      <th></th>\n",
       "      <th>date</th>\n",
       "      <th>ibov_returns</th>\n",
       "      <th>cpi_inflation</th>\n",
       "      <th>brl_dollar</th>\n",
       "      <th>interest_rates</th>\n",
       "      <th>residuals</th>\n",
       "      <th>residuals_t_1</th>\n",
       "    </tr>\n",
       "  </thead>\n",
       "  <tbody>\n",
       "    <tr>\n",
       "      <th>0</th>\n",
       "      <td>1998-01-01</td>\n",
       "      <td>-0.046778</td>\n",
       "      <td>0.007097</td>\n",
       "      <td>0.005657</td>\n",
       "      <td>0.4290</td>\n",
       "      <td>NaN</td>\n",
       "      <td>NaN</td>\n",
       "    </tr>\n",
       "    <tr>\n",
       "      <th>1</th>\n",
       "      <td>1998-02-01</td>\n",
       "      <td>0.087551</td>\n",
       "      <td>0.004603</td>\n",
       "      <td>0.006608</td>\n",
       "      <td>0.4200</td>\n",
       "      <td>NaN</td>\n",
       "      <td>NaN</td>\n",
       "    </tr>\n",
       "    <tr>\n",
       "      <th>2</th>\n",
       "      <td>1998-03-01</td>\n",
       "      <td>0.130167</td>\n",
       "      <td>0.003397</td>\n",
       "      <td>0.005411</td>\n",
       "      <td>0.3854</td>\n",
       "      <td>NaN</td>\n",
       "      <td>NaN</td>\n",
       "    </tr>\n",
       "    <tr>\n",
       "      <th>3</th>\n",
       "      <td>1998-04-01</td>\n",
       "      <td>-0.022600</td>\n",
       "      <td>0.002397</td>\n",
       "      <td>0.006617</td>\n",
       "      <td>0.3655</td>\n",
       "      <td>NaN</td>\n",
       "      <td>NaN</td>\n",
       "    </tr>\n",
       "    <tr>\n",
       "      <th>4</th>\n",
       "      <td>1998-05-01</td>\n",
       "      <td>-0.156718</td>\n",
       "      <td>0.005001</td>\n",
       "      <td>0.005785</td>\n",
       "      <td>0.3330</td>\n",
       "      <td>NaN</td>\n",
       "      <td>NaN</td>\n",
       "    </tr>\n",
       "    <tr>\n",
       "      <th>...</th>\n",
       "      <td>...</td>\n",
       "      <td>...</td>\n",
       "      <td>...</td>\n",
       "      <td>...</td>\n",
       "      <td>...</td>\n",
       "      <td>...</td>\n",
       "      <td>...</td>\n",
       "    </tr>\n",
       "    <tr>\n",
       "      <th>296</th>\n",
       "      <td>2022-09-01</td>\n",
       "      <td>0.004693</td>\n",
       "      <td>-0.002900</td>\n",
       "      <td>0.020076</td>\n",
       "      <td>0.1375</td>\n",
       "      <td>-0.014324</td>\n",
       "      <td>0.010238</td>\n",
       "    </tr>\n",
       "    <tr>\n",
       "      <th>297</th>\n",
       "      <td>2022-10-01</td>\n",
       "      <td>0.054527</td>\n",
       "      <td>0.005901</td>\n",
       "      <td>0.001621</td>\n",
       "      <td>0.1375</td>\n",
       "      <td>0.005616</td>\n",
       "      <td>-0.014324</td>\n",
       "    </tr>\n",
       "    <tr>\n",
       "      <th>298</th>\n",
       "      <td>2022-11-01</td>\n",
       "      <td>-0.030602</td>\n",
       "      <td>0.004100</td>\n",
       "      <td>0.003027</td>\n",
       "      <td>0.1375</td>\n",
       "      <td>-0.077710</td>\n",
       "      <td>0.005616</td>\n",
       "    </tr>\n",
       "    <tr>\n",
       "      <th>299</th>\n",
       "      <td>2022-12-01</td>\n",
       "      <td>-0.021825</td>\n",
       "      <td>0.006200</td>\n",
       "      <td>-0.004290</td>\n",
       "      <td>0.1375</td>\n",
       "      <td>-0.045471</td>\n",
       "      <td>-0.077710</td>\n",
       "    </tr>\n",
       "    <tr>\n",
       "      <th>300</th>\n",
       "      <td>2023-01-01</td>\n",
       "      <td>0.031818</td>\n",
       "      <td>0.005300</td>\n",
       "      <td>-0.010142</td>\n",
       "      <td>0.1375</td>\n",
       "      <td>0.006193</td>\n",
       "      <td>-0.045471</td>\n",
       "    </tr>\n",
       "  </tbody>\n",
       "</table>\n",
       "<p>301 rows × 7 columns</p>\n",
       "</div>"
      ],
      "text/plain": [
       "          date  ibov_returns  cpi_inflation  brl_dollar  interest_rates  \\\n",
       "0   1998-01-01     -0.046778       0.007097    0.005657          0.4290   \n",
       "1   1998-02-01      0.087551       0.004603    0.006608          0.4200   \n",
       "2   1998-03-01      0.130167       0.003397    0.005411          0.3854   \n",
       "3   1998-04-01     -0.022600       0.002397    0.006617          0.3655   \n",
       "4   1998-05-01     -0.156718       0.005001    0.005785          0.3330   \n",
       "..         ...           ...            ...         ...             ...   \n",
       "296 2022-09-01      0.004693      -0.002900    0.020076          0.1375   \n",
       "297 2022-10-01      0.054527       0.005901    0.001621          0.1375   \n",
       "298 2022-11-01     -0.030602       0.004100    0.003027          0.1375   \n",
       "299 2022-12-01     -0.021825       0.006200   -0.004290          0.1375   \n",
       "300 2023-01-01      0.031818       0.005300   -0.010142          0.1375   \n",
       "\n",
       "     residuals  residuals_t_1  \n",
       "0          NaN            NaN  \n",
       "1          NaN            NaN  \n",
       "2          NaN            NaN  \n",
       "3          NaN            NaN  \n",
       "4          NaN            NaN  \n",
       "..         ...            ...  \n",
       "296  -0.014324       0.010238  \n",
       "297   0.005616      -0.014324  \n",
       "298  -0.077710       0.005616  \n",
       "299  -0.045471      -0.077710  \n",
       "300   0.006193      -0.045471  \n",
       "\n",
       "[301 rows x 7 columns]"
      ]
     },
     "execution_count": 176,
     "metadata": {},
     "output_type": "execute_result"
    }
   ],
   "source": [
    "df[\"residuals\"] = model.resid\n",
    "df[\"residuals_t_1\"] = df.residuals.shift(1)\n",
    "df"
   ]
  },
  {
   "cell_type": "code",
   "execution_count": 177,
   "metadata": {},
   "outputs": [
    {
     "data": {
      "text/html": [
       "<div>\n",
       "<style scoped>\n",
       "    .dataframe tbody tr th:only-of-type {\n",
       "        vertical-align: middle;\n",
       "    }\n",
       "\n",
       "    .dataframe tbody tr th {\n",
       "        vertical-align: top;\n",
       "    }\n",
       "\n",
       "    .dataframe thead th {\n",
       "        text-align: right;\n",
       "    }\n",
       "</style>\n",
       "<table border=\"1\" class=\"dataframe\">\n",
       "  <thead>\n",
       "    <tr style=\"text-align: right;\">\n",
       "      <th></th>\n",
       "      <th>date</th>\n",
       "      <th>ibov_returns</th>\n",
       "      <th>cpi_inflation</th>\n",
       "      <th>brl_dollar</th>\n",
       "      <th>interest_rates</th>\n",
       "      <th>residuals</th>\n",
       "      <th>residuals_t_1</th>\n",
       "      <th>ibov_returns_diff_1</th>\n",
       "      <th>cpi_inflation_diff_1</th>\n",
       "      <th>brl_dollar_diff_1</th>\n",
       "      <th>interest_rates_diff_1</th>\n",
       "    </tr>\n",
       "  </thead>\n",
       "  <tbody>\n",
       "    <tr>\n",
       "      <th>0</th>\n",
       "      <td>1998-01-01</td>\n",
       "      <td>-0.046778</td>\n",
       "      <td>0.007097</td>\n",
       "      <td>0.005657</td>\n",
       "      <td>0.4290</td>\n",
       "      <td>NaN</td>\n",
       "      <td>NaN</td>\n",
       "      <td>NaN</td>\n",
       "      <td>NaN</td>\n",
       "      <td>NaN</td>\n",
       "      <td>NaN</td>\n",
       "    </tr>\n",
       "    <tr>\n",
       "      <th>1</th>\n",
       "      <td>1998-02-01</td>\n",
       "      <td>0.087551</td>\n",
       "      <td>0.004603</td>\n",
       "      <td>0.006608</td>\n",
       "      <td>0.4200</td>\n",
       "      <td>NaN</td>\n",
       "      <td>NaN</td>\n",
       "      <td>0.134330</td>\n",
       "      <td>-0.002494</td>\n",
       "      <td>0.000950</td>\n",
       "      <td>-0.0090</td>\n",
       "    </tr>\n",
       "    <tr>\n",
       "      <th>2</th>\n",
       "      <td>1998-03-01</td>\n",
       "      <td>0.130167</td>\n",
       "      <td>0.003397</td>\n",
       "      <td>0.005411</td>\n",
       "      <td>0.3854</td>\n",
       "      <td>NaN</td>\n",
       "      <td>NaN</td>\n",
       "      <td>0.042616</td>\n",
       "      <td>-0.001206</td>\n",
       "      <td>-0.001197</td>\n",
       "      <td>-0.0346</td>\n",
       "    </tr>\n",
       "    <tr>\n",
       "      <th>3</th>\n",
       "      <td>1998-04-01</td>\n",
       "      <td>-0.022600</td>\n",
       "      <td>0.002397</td>\n",
       "      <td>0.006617</td>\n",
       "      <td>0.3655</td>\n",
       "      <td>NaN</td>\n",
       "      <td>NaN</td>\n",
       "      <td>-0.152767</td>\n",
       "      <td>-0.001000</td>\n",
       "      <td>0.001206</td>\n",
       "      <td>-0.0199</td>\n",
       "    </tr>\n",
       "    <tr>\n",
       "      <th>4</th>\n",
       "      <td>1998-05-01</td>\n",
       "      <td>-0.156718</td>\n",
       "      <td>0.005001</td>\n",
       "      <td>0.005785</td>\n",
       "      <td>0.3330</td>\n",
       "      <td>NaN</td>\n",
       "      <td>NaN</td>\n",
       "      <td>-0.134119</td>\n",
       "      <td>0.002604</td>\n",
       "      <td>-0.000832</td>\n",
       "      <td>-0.0325</td>\n",
       "    </tr>\n",
       "    <tr>\n",
       "      <th>...</th>\n",
       "      <td>...</td>\n",
       "      <td>...</td>\n",
       "      <td>...</td>\n",
       "      <td>...</td>\n",
       "      <td>...</td>\n",
       "      <td>...</td>\n",
       "      <td>...</td>\n",
       "      <td>...</td>\n",
       "      <td>...</td>\n",
       "      <td>...</td>\n",
       "      <td>...</td>\n",
       "    </tr>\n",
       "    <tr>\n",
       "      <th>296</th>\n",
       "      <td>2022-09-01</td>\n",
       "      <td>0.004693</td>\n",
       "      <td>-0.002900</td>\n",
       "      <td>0.020076</td>\n",
       "      <td>0.1375</td>\n",
       "      <td>-0.014324</td>\n",
       "      <td>0.010238</td>\n",
       "      <td>-0.056936</td>\n",
       "      <td>0.000699</td>\n",
       "      <td>0.062511</td>\n",
       "      <td>0.0005</td>\n",
       "    </tr>\n",
       "    <tr>\n",
       "      <th>297</th>\n",
       "      <td>2022-10-01</td>\n",
       "      <td>0.054527</td>\n",
       "      <td>0.005901</td>\n",
       "      <td>0.001621</td>\n",
       "      <td>0.1375</td>\n",
       "      <td>0.005616</td>\n",
       "      <td>-0.014324</td>\n",
       "      <td>0.049834</td>\n",
       "      <td>0.008801</td>\n",
       "      <td>-0.018455</td>\n",
       "      <td>0.0000</td>\n",
       "    </tr>\n",
       "    <tr>\n",
       "      <th>298</th>\n",
       "      <td>2022-11-01</td>\n",
       "      <td>-0.030602</td>\n",
       "      <td>0.004100</td>\n",
       "      <td>0.003027</td>\n",
       "      <td>0.1375</td>\n",
       "      <td>-0.077710</td>\n",
       "      <td>0.005616</td>\n",
       "      <td>-0.085129</td>\n",
       "      <td>-0.001801</td>\n",
       "      <td>0.001406</td>\n",
       "      <td>0.0000</td>\n",
       "    </tr>\n",
       "    <tr>\n",
       "      <th>299</th>\n",
       "      <td>2022-12-01</td>\n",
       "      <td>-0.021825</td>\n",
       "      <td>0.006200</td>\n",
       "      <td>-0.004290</td>\n",
       "      <td>0.1375</td>\n",
       "      <td>-0.045471</td>\n",
       "      <td>-0.077710</td>\n",
       "      <td>0.008777</td>\n",
       "      <td>0.002100</td>\n",
       "      <td>-0.007317</td>\n",
       "      <td>0.0000</td>\n",
       "    </tr>\n",
       "    <tr>\n",
       "      <th>300</th>\n",
       "      <td>2023-01-01</td>\n",
       "      <td>0.031818</td>\n",
       "      <td>0.005300</td>\n",
       "      <td>-0.010142</td>\n",
       "      <td>0.1375</td>\n",
       "      <td>0.006193</td>\n",
       "      <td>-0.045471</td>\n",
       "      <td>0.053643</td>\n",
       "      <td>-0.000900</td>\n",
       "      <td>-0.005852</td>\n",
       "      <td>0.0000</td>\n",
       "    </tr>\n",
       "  </tbody>\n",
       "</table>\n",
       "<p>301 rows × 11 columns</p>\n",
       "</div>"
      ],
      "text/plain": [
       "          date  ibov_returns  cpi_inflation  brl_dollar  interest_rates  \\\n",
       "0   1998-01-01     -0.046778       0.007097    0.005657          0.4290   \n",
       "1   1998-02-01      0.087551       0.004603    0.006608          0.4200   \n",
       "2   1998-03-01      0.130167       0.003397    0.005411          0.3854   \n",
       "3   1998-04-01     -0.022600       0.002397    0.006617          0.3655   \n",
       "4   1998-05-01     -0.156718       0.005001    0.005785          0.3330   \n",
       "..         ...           ...            ...         ...             ...   \n",
       "296 2022-09-01      0.004693      -0.002900    0.020076          0.1375   \n",
       "297 2022-10-01      0.054527       0.005901    0.001621          0.1375   \n",
       "298 2022-11-01     -0.030602       0.004100    0.003027          0.1375   \n",
       "299 2022-12-01     -0.021825       0.006200   -0.004290          0.1375   \n",
       "300 2023-01-01      0.031818       0.005300   -0.010142          0.1375   \n",
       "\n",
       "     residuals  residuals_t_1  ibov_returns_diff_1  cpi_inflation_diff_1  \\\n",
       "0          NaN            NaN                  NaN                   NaN   \n",
       "1          NaN            NaN             0.134330             -0.002494   \n",
       "2          NaN            NaN             0.042616             -0.001206   \n",
       "3          NaN            NaN            -0.152767             -0.001000   \n",
       "4          NaN            NaN            -0.134119              0.002604   \n",
       "..         ...            ...                  ...                   ...   \n",
       "296  -0.014324       0.010238            -0.056936              0.000699   \n",
       "297   0.005616      -0.014324             0.049834              0.008801   \n",
       "298  -0.077710       0.005616            -0.085129             -0.001801   \n",
       "299  -0.045471      -0.077710             0.008777              0.002100   \n",
       "300   0.006193      -0.045471             0.053643             -0.000900   \n",
       "\n",
       "     brl_dollar_diff_1  interest_rates_diff_1  \n",
       "0                  NaN                    NaN  \n",
       "1             0.000950                -0.0090  \n",
       "2            -0.001197                -0.0346  \n",
       "3             0.001206                -0.0199  \n",
       "4            -0.000832                -0.0325  \n",
       "..                 ...                    ...  \n",
       "296           0.062511                 0.0005  \n",
       "297          -0.018455                 0.0000  \n",
       "298           0.001406                 0.0000  \n",
       "299          -0.007317                 0.0000  \n",
       "300          -0.005852                 0.0000  \n",
       "\n",
       "[301 rows x 11 columns]"
      ]
     },
     "execution_count": 177,
     "metadata": {},
     "output_type": "execute_result"
    }
   ],
   "source": [
    "var_list = ['ibov_returns', 'cpi_inflation', 'brl_dollar', 'interest_rates']\n",
    "# Use a list comprehension to calculate the first difference of each variable in the `var_list`\n",
    "diffs = [df[var].diff() for var in var_list]\n",
    "\n",
    "# Use the `concat()` method to combine the resulting differences into a new DataFrame\n",
    "diff_data = pd.concat(diffs, axis=1)\n",
    "diff_data.columns = [i+\"_diff_1\" for i in var_list]\n",
    "diff_data\n",
    "\n",
    "diff_data = pd.concat([df.reset_index(drop=True), diff_data.reset_index(drop=True)], axis=1)\n",
    "diff_data"
   ]
  },
  {
   "cell_type": "code",
   "execution_count": 33,
   "metadata": {},
   "outputs": [
    {
     "data": {
      "text/plain": [
       "['ibov_returns_diff_1',\n",
       " 'cpi_inflation_diff_1',\n",
       " 'brl_dollar_diff_1',\n",
       " 'interest_rates_diff_1']"
      ]
     },
     "execution_count": 33,
     "metadata": {},
     "output_type": "execute_result"
    }
   ],
   "source": [
    "[i+\"_diff_1\" for i in var_list]"
   ]
  },
  {
   "cell_type": "code",
   "execution_count": 178,
   "metadata": {},
   "outputs": [
    {
     "data": {
      "text/html": [
       "<div>\n",
       "<style scoped>\n",
       "    .dataframe tbody tr th:only-of-type {\n",
       "        vertical-align: middle;\n",
       "    }\n",
       "\n",
       "    .dataframe tbody tr th {\n",
       "        vertical-align: top;\n",
       "    }\n",
       "\n",
       "    .dataframe thead th {\n",
       "        text-align: right;\n",
       "    }\n",
       "</style>\n",
       "<table border=\"1\" class=\"dataframe\">\n",
       "  <thead>\n",
       "    <tr style=\"text-align: right;\">\n",
       "      <th></th>\n",
       "      <th>date</th>\n",
       "      <th>ibov_returns</th>\n",
       "      <th>cpi_inflation</th>\n",
       "      <th>brl_dollar</th>\n",
       "      <th>interest_rates</th>\n",
       "      <th>residuals</th>\n",
       "      <th>residuals_t_1</th>\n",
       "      <th>ibov_returns_diff_1</th>\n",
       "      <th>cpi_inflation_diff_1</th>\n",
       "      <th>brl_dollar_diff_1</th>\n",
       "      <th>interest_rates_diff_1</th>\n",
       "    </tr>\n",
       "  </thead>\n",
       "  <tbody>\n",
       "    <tr>\n",
       "      <th>6</th>\n",
       "      <td>1998-07-01</td>\n",
       "      <td>0.106324</td>\n",
       "      <td>-0.001199</td>\n",
       "      <td>0.006151</td>\n",
       "      <td>0.2780</td>\n",
       "      <td>0.094193</td>\n",
       "      <td>-0.084367</td>\n",
       "      <td>0.123486</td>\n",
       "      <td>-0.001397</td>\n",
       "      <td>0.000225</td>\n",
       "      <td>-0.0161</td>\n",
       "    </tr>\n",
       "    <tr>\n",
       "      <th>7</th>\n",
       "      <td>1998-08-01</td>\n",
       "      <td>-0.395536</td>\n",
       "      <td>-0.005097</td>\n",
       "      <td>0.008869</td>\n",
       "      <td>0.2575</td>\n",
       "      <td>-0.415667</td>\n",
       "      <td>0.094193</td>\n",
       "      <td>-0.501859</td>\n",
       "      <td>-0.003898</td>\n",
       "      <td>0.002718</td>\n",
       "      <td>-0.0205</td>\n",
       "    </tr>\n",
       "    <tr>\n",
       "      <th>8</th>\n",
       "      <td>1998-09-01</td>\n",
       "      <td>0.018696</td>\n",
       "      <td>-0.002202</td>\n",
       "      <td>0.007510</td>\n",
       "      <td>0.4234</td>\n",
       "      <td>-0.072727</td>\n",
       "      <td>-0.415667</td>\n",
       "      <td>0.414232</td>\n",
       "      <td>0.002896</td>\n",
       "      <td>-0.001358</td>\n",
       "      <td>0.1659</td>\n",
       "    </tr>\n",
       "    <tr>\n",
       "      <th>9</th>\n",
       "      <td>1998-10-01</td>\n",
       "      <td>0.068861</td>\n",
       "      <td>0.000199</td>\n",
       "      <td>0.007116</td>\n",
       "      <td>0.4975</td>\n",
       "      <td>0.011976</td>\n",
       "      <td>-0.072727</td>\n",
       "      <td>0.050165</td>\n",
       "      <td>0.002401</td>\n",
       "      <td>-0.000395</td>\n",
       "      <td>0.0741</td>\n",
       "    </tr>\n",
       "    <tr>\n",
       "      <th>10</th>\n",
       "      <td>1998-11-01</td>\n",
       "      <td>0.224777</td>\n",
       "      <td>-0.001203</td>\n",
       "      <td>0.003617</td>\n",
       "      <td>0.4488</td>\n",
       "      <td>0.152517</td>\n",
       "      <td>0.011976</td>\n",
       "      <td>0.155916</td>\n",
       "      <td>-0.001402</td>\n",
       "      <td>-0.003499</td>\n",
       "      <td>-0.0487</td>\n",
       "    </tr>\n",
       "    <tr>\n",
       "      <th>...</th>\n",
       "      <td>...</td>\n",
       "      <td>...</td>\n",
       "      <td>...</td>\n",
       "      <td>...</td>\n",
       "      <td>...</td>\n",
       "      <td>...</td>\n",
       "      <td>...</td>\n",
       "      <td>...</td>\n",
       "      <td>...</td>\n",
       "      <td>...</td>\n",
       "      <td>...</td>\n",
       "    </tr>\n",
       "    <tr>\n",
       "      <th>296</th>\n",
       "      <td>2022-09-01</td>\n",
       "      <td>0.004693</td>\n",
       "      <td>-0.002900</td>\n",
       "      <td>0.020076</td>\n",
       "      <td>0.1375</td>\n",
       "      <td>-0.014324</td>\n",
       "      <td>0.010238</td>\n",
       "      <td>-0.056936</td>\n",
       "      <td>0.000699</td>\n",
       "      <td>0.062511</td>\n",
       "      <td>0.0005</td>\n",
       "    </tr>\n",
       "    <tr>\n",
       "      <th>297</th>\n",
       "      <td>2022-10-01</td>\n",
       "      <td>0.054527</td>\n",
       "      <td>0.005901</td>\n",
       "      <td>0.001621</td>\n",
       "      <td>0.1375</td>\n",
       "      <td>0.005616</td>\n",
       "      <td>-0.014324</td>\n",
       "      <td>0.049834</td>\n",
       "      <td>0.008801</td>\n",
       "      <td>-0.018455</td>\n",
       "      <td>0.0000</td>\n",
       "    </tr>\n",
       "    <tr>\n",
       "      <th>298</th>\n",
       "      <td>2022-11-01</td>\n",
       "      <td>-0.030602</td>\n",
       "      <td>0.004100</td>\n",
       "      <td>0.003027</td>\n",
       "      <td>0.1375</td>\n",
       "      <td>-0.077710</td>\n",
       "      <td>0.005616</td>\n",
       "      <td>-0.085129</td>\n",
       "      <td>-0.001801</td>\n",
       "      <td>0.001406</td>\n",
       "      <td>0.0000</td>\n",
       "    </tr>\n",
       "    <tr>\n",
       "      <th>299</th>\n",
       "      <td>2022-12-01</td>\n",
       "      <td>-0.021825</td>\n",
       "      <td>0.006200</td>\n",
       "      <td>-0.004290</td>\n",
       "      <td>0.1375</td>\n",
       "      <td>-0.045471</td>\n",
       "      <td>-0.077710</td>\n",
       "      <td>0.008777</td>\n",
       "      <td>0.002100</td>\n",
       "      <td>-0.007317</td>\n",
       "      <td>0.0000</td>\n",
       "    </tr>\n",
       "    <tr>\n",
       "      <th>300</th>\n",
       "      <td>2023-01-01</td>\n",
       "      <td>0.031818</td>\n",
       "      <td>0.005300</td>\n",
       "      <td>-0.010142</td>\n",
       "      <td>0.1375</td>\n",
       "      <td>0.006193</td>\n",
       "      <td>-0.045471</td>\n",
       "      <td>0.053643</td>\n",
       "      <td>-0.000900</td>\n",
       "      <td>-0.005852</td>\n",
       "      <td>0.0000</td>\n",
       "    </tr>\n",
       "  </tbody>\n",
       "</table>\n",
       "<p>295 rows × 11 columns</p>\n",
       "</div>"
      ],
      "text/plain": [
       "          date  ibov_returns  cpi_inflation  brl_dollar  interest_rates  \\\n",
       "6   1998-07-01      0.106324      -0.001199    0.006151          0.2780   \n",
       "7   1998-08-01     -0.395536      -0.005097    0.008869          0.2575   \n",
       "8   1998-09-01      0.018696      -0.002202    0.007510          0.4234   \n",
       "9   1998-10-01      0.068861       0.000199    0.007116          0.4975   \n",
       "10  1998-11-01      0.224777      -0.001203    0.003617          0.4488   \n",
       "..         ...           ...            ...         ...             ...   \n",
       "296 2022-09-01      0.004693      -0.002900    0.020076          0.1375   \n",
       "297 2022-10-01      0.054527       0.005901    0.001621          0.1375   \n",
       "298 2022-11-01     -0.030602       0.004100    0.003027          0.1375   \n",
       "299 2022-12-01     -0.021825       0.006200   -0.004290          0.1375   \n",
       "300 2023-01-01      0.031818       0.005300   -0.010142          0.1375   \n",
       "\n",
       "     residuals  residuals_t_1  ibov_returns_diff_1  cpi_inflation_diff_1  \\\n",
       "6     0.094193      -0.084367             0.123486             -0.001397   \n",
       "7    -0.415667       0.094193            -0.501859             -0.003898   \n",
       "8    -0.072727      -0.415667             0.414232              0.002896   \n",
       "9     0.011976      -0.072727             0.050165              0.002401   \n",
       "10    0.152517       0.011976             0.155916             -0.001402   \n",
       "..         ...            ...                  ...                   ...   \n",
       "296  -0.014324       0.010238            -0.056936              0.000699   \n",
       "297   0.005616      -0.014324             0.049834              0.008801   \n",
       "298  -0.077710       0.005616            -0.085129             -0.001801   \n",
       "299  -0.045471      -0.077710             0.008777              0.002100   \n",
       "300   0.006193      -0.045471             0.053643             -0.000900   \n",
       "\n",
       "     brl_dollar_diff_1  interest_rates_diff_1  \n",
       "6             0.000225                -0.0161  \n",
       "7             0.002718                -0.0205  \n",
       "8            -0.001358                 0.1659  \n",
       "9            -0.000395                 0.0741  \n",
       "10           -0.003499                -0.0487  \n",
       "..                 ...                    ...  \n",
       "296           0.062511                 0.0005  \n",
       "297          -0.018455                 0.0000  \n",
       "298           0.001406                 0.0000  \n",
       "299          -0.007317                 0.0000  \n",
       "300          -0.005852                 0.0000  \n",
       "\n",
       "[295 rows x 11 columns]"
      ]
     },
     "execution_count": 178,
     "metadata": {},
     "output_type": "execute_result"
    }
   ],
   "source": [
    "diff_data.dropna()"
   ]
  },
  {
   "cell_type": "code",
   "execution_count": 187,
   "metadata": {},
   "outputs": [
    {
     "name": "stdout",
     "output_type": "stream",
     "text": [
      "                               ARDL Model Results                              \n",
      "===============================================================================\n",
      "Dep. Variable:     ibov_returns_diff_1   No. Observations:                  295\n",
      "Model:             ARDL(1, 4, 4, 4, 0)   Log Likelihood                 374.255\n",
      "Method:                Conditional MLE   S.D. of innovations              0.068\n",
      "Date:                 Mon, 08 May 2023   AIC                           -710.509\n",
      "Time:                         15:32:05   BIC                           -640.521\n",
      "Sample:                              4   HQIC                          -682.481\n",
      "                                   295                                         \n",
      "============================================================================================\n",
      "                               coef    std err          z      P>|z|      [0.025      0.975]\n",
      "--------------------------------------------------------------------------------------------\n",
      "const                        0.0015      0.004      0.355      0.723      -0.007       0.010\n",
      "ibov_returns_diff_1.L1      -0.0871      0.059     -1.487      0.138      -0.202       0.028\n",
      "cpi_inflation_diff_1.L0     -1.4991      1.269     -1.181      0.239      -3.998       1.000\n",
      "cpi_inflation_diff_1.L1      1.2405      1.288      0.963      0.336      -1.294       3.775\n",
      "cpi_inflation_diff_1.L2     -2.7741      1.323     -2.098      0.037      -5.378      -0.171\n",
      "cpi_inflation_diff_1.L3     -2.6465      1.279     -2.069      0.039      -5.165      -0.128\n",
      "cpi_inflation_diff_1.L4      0.7394      1.283      0.576      0.565      -1.787       3.266\n",
      "brl_dollar_diff_1.L0        -0.7667      0.106     -7.257      0.000      -0.975      -0.559\n",
      "brl_dollar_diff_1.L1         0.1761      0.108      1.632      0.104      -0.036       0.388\n",
      "brl_dollar_diff_1.L2         0.1202      0.115      1.049      0.295      -0.105       0.346\n",
      "brl_dollar_diff_1.L3         0.0851      0.104      0.822      0.412      -0.119       0.289\n",
      "brl_dollar_diff_1.L4         0.1864      0.099      1.884      0.061      -0.008       0.381\n",
      "interest_rates_diff_1.L0    -0.0646      0.400     -0.161      0.872      -0.852       0.723\n",
      "interest_rates_diff_1.L1    -0.2956      0.431     -0.687      0.493      -1.143       0.552\n",
      "interest_rates_diff_1.L2    -0.0527      0.341     -0.155      0.877      -0.724       0.618\n",
      "interest_rates_diff_1.L3    -0.5243      0.307     -1.706      0.089      -1.129       0.081\n",
      "interest_rates_diff_1.L4     1.0567      0.294      3.589      0.000       0.477       1.636\n",
      "residuals_t_1.L0            -0.9778      0.089    -11.047      0.000      -1.152      -0.804\n",
      "============================================================================================\n"
     ]
    },
    {
     "name": "stderr",
     "output_type": "stream",
     "text": [
      "/Users/gabrieldiasmp/opt/anaconda3/lib/python3.9/site-packages/statsmodels/tsa/base/tsa_model.py:473: ValueWarning: An unsupported index was provided and will be ignored when e.g. forecasting.\n",
      "  self._init_dates(dates, freq)\n"
     ]
    }
   ],
   "source": [
    "diff_exog_variables = ['cpi_inflation_diff_1','brl_dollar_diff_1','interest_rates_diff_1', 'residuals_t_1']\n",
    "\n",
    "df_ecm = diff_data[['ibov_returns_diff_1', 'cpi_inflation_diff_1','brl_dollar_diff_1','interest_rates_diff_1', 'residuals_t_1']].dropna()\n",
    "\n",
    "# Setting the exogenous variables\n",
    "exog=df_ecm.loc[:, diff_exog_variables]\n",
    "model_ecm = ARDL(\n",
    "    df_ecm.ibov_returns_diff_1, 1, \n",
    "    exog, {\n",
    "        'cpi_inflation_diff_1':4,\n",
    "        'brl_dollar_diff_1':4,\n",
    "        'interest_rates_diff_1':4, \n",
    "        'residuals_t_1':0}\n",
    ").fit()\n",
    "print(model_ecm.summary())"
   ]
  },
  {
   "cell_type": "markdown",
   "metadata": {},
   "source": [
    "# Bounds cointegration test"
   ]
  },
  {
   "cell_type": "markdown",
   "metadata": {},
   "source": [
    "$$ \\Delta IBOV = \\beta_0 + \\beta_1 \\Delta IBOV_{t-1} + \\phi_0 ER_{t-1} + \\phi_1 CPI_{t-1} + \\phi_2 IR_{t-1} + \\sum_{j=0}^{4} \\alpha_j \\Delta ER_{t-j} + \\sum_{j=0}^{4} \\gamma_j \\Delta CPI_{t-j} \\sum_{j=0}^{4} \\delta_j \\Delta IR_{t-j} + \\varepsilon_t"
   ]
  },
  {
   "cell_type": "code",
   "execution_count": 180,
   "metadata": {},
   "outputs": [
    {
     "data": {
      "text/html": [
       "<div>\n",
       "<style scoped>\n",
       "    .dataframe tbody tr th:only-of-type {\n",
       "        vertical-align: middle;\n",
       "    }\n",
       "\n",
       "    .dataframe tbody tr th {\n",
       "        vertical-align: top;\n",
       "    }\n",
       "\n",
       "    .dataframe thead th {\n",
       "        text-align: right;\n",
       "    }\n",
       "</style>\n",
       "<table border=\"1\" class=\"dataframe\">\n",
       "  <thead>\n",
       "    <tr style=\"text-align: right;\">\n",
       "      <th></th>\n",
       "      <th>date</th>\n",
       "      <th>ibov_returns</th>\n",
       "      <th>cpi_inflation</th>\n",
       "      <th>brl_dollar</th>\n",
       "      <th>interest_rates</th>\n",
       "      <th>residuals</th>\n",
       "      <th>residuals_t_1</th>\n",
       "      <th>ibov_returns_diff_1</th>\n",
       "      <th>cpi_inflation_diff_1</th>\n",
       "      <th>brl_dollar_diff_1</th>\n",
       "      <th>interest_rates_diff_1</th>\n",
       "    </tr>\n",
       "  </thead>\n",
       "  <tbody>\n",
       "    <tr>\n",
       "      <th>0</th>\n",
       "      <td>1998-01-01</td>\n",
       "      <td>-0.046778</td>\n",
       "      <td>0.007097</td>\n",
       "      <td>0.005657</td>\n",
       "      <td>0.4290</td>\n",
       "      <td>NaN</td>\n",
       "      <td>NaN</td>\n",
       "      <td>NaN</td>\n",
       "      <td>NaN</td>\n",
       "      <td>NaN</td>\n",
       "      <td>NaN</td>\n",
       "    </tr>\n",
       "    <tr>\n",
       "      <th>1</th>\n",
       "      <td>1998-02-01</td>\n",
       "      <td>0.087551</td>\n",
       "      <td>0.004603</td>\n",
       "      <td>0.006608</td>\n",
       "      <td>0.4200</td>\n",
       "      <td>NaN</td>\n",
       "      <td>NaN</td>\n",
       "      <td>0.134330</td>\n",
       "      <td>-0.002494</td>\n",
       "      <td>0.000950</td>\n",
       "      <td>-0.0090</td>\n",
       "    </tr>\n",
       "    <tr>\n",
       "      <th>2</th>\n",
       "      <td>1998-03-01</td>\n",
       "      <td>0.130167</td>\n",
       "      <td>0.003397</td>\n",
       "      <td>0.005411</td>\n",
       "      <td>0.3854</td>\n",
       "      <td>NaN</td>\n",
       "      <td>NaN</td>\n",
       "      <td>0.042616</td>\n",
       "      <td>-0.001206</td>\n",
       "      <td>-0.001197</td>\n",
       "      <td>-0.0346</td>\n",
       "    </tr>\n",
       "    <tr>\n",
       "      <th>3</th>\n",
       "      <td>1998-04-01</td>\n",
       "      <td>-0.022600</td>\n",
       "      <td>0.002397</td>\n",
       "      <td>0.006617</td>\n",
       "      <td>0.3655</td>\n",
       "      <td>NaN</td>\n",
       "      <td>NaN</td>\n",
       "      <td>-0.152767</td>\n",
       "      <td>-0.001000</td>\n",
       "      <td>0.001206</td>\n",
       "      <td>-0.0199</td>\n",
       "    </tr>\n",
       "    <tr>\n",
       "      <th>4</th>\n",
       "      <td>1998-05-01</td>\n",
       "      <td>-0.156718</td>\n",
       "      <td>0.005001</td>\n",
       "      <td>0.005785</td>\n",
       "      <td>0.3330</td>\n",
       "      <td>NaN</td>\n",
       "      <td>NaN</td>\n",
       "      <td>-0.134119</td>\n",
       "      <td>0.002604</td>\n",
       "      <td>-0.000832</td>\n",
       "      <td>-0.0325</td>\n",
       "    </tr>\n",
       "    <tr>\n",
       "      <th>...</th>\n",
       "      <td>...</td>\n",
       "      <td>...</td>\n",
       "      <td>...</td>\n",
       "      <td>...</td>\n",
       "      <td>...</td>\n",
       "      <td>...</td>\n",
       "      <td>...</td>\n",
       "      <td>...</td>\n",
       "      <td>...</td>\n",
       "      <td>...</td>\n",
       "      <td>...</td>\n",
       "    </tr>\n",
       "    <tr>\n",
       "      <th>296</th>\n",
       "      <td>2022-09-01</td>\n",
       "      <td>0.004693</td>\n",
       "      <td>-0.002900</td>\n",
       "      <td>0.020076</td>\n",
       "      <td>0.1375</td>\n",
       "      <td>-0.014324</td>\n",
       "      <td>0.010238</td>\n",
       "      <td>-0.056936</td>\n",
       "      <td>0.000699</td>\n",
       "      <td>0.062511</td>\n",
       "      <td>0.0005</td>\n",
       "    </tr>\n",
       "    <tr>\n",
       "      <th>297</th>\n",
       "      <td>2022-10-01</td>\n",
       "      <td>0.054527</td>\n",
       "      <td>0.005901</td>\n",
       "      <td>0.001621</td>\n",
       "      <td>0.1375</td>\n",
       "      <td>0.005616</td>\n",
       "      <td>-0.014324</td>\n",
       "      <td>0.049834</td>\n",
       "      <td>0.008801</td>\n",
       "      <td>-0.018455</td>\n",
       "      <td>0.0000</td>\n",
       "    </tr>\n",
       "    <tr>\n",
       "      <th>298</th>\n",
       "      <td>2022-11-01</td>\n",
       "      <td>-0.030602</td>\n",
       "      <td>0.004100</td>\n",
       "      <td>0.003027</td>\n",
       "      <td>0.1375</td>\n",
       "      <td>-0.077710</td>\n",
       "      <td>0.005616</td>\n",
       "      <td>-0.085129</td>\n",
       "      <td>-0.001801</td>\n",
       "      <td>0.001406</td>\n",
       "      <td>0.0000</td>\n",
       "    </tr>\n",
       "    <tr>\n",
       "      <th>299</th>\n",
       "      <td>2022-12-01</td>\n",
       "      <td>-0.021825</td>\n",
       "      <td>0.006200</td>\n",
       "      <td>-0.004290</td>\n",
       "      <td>0.1375</td>\n",
       "      <td>-0.045471</td>\n",
       "      <td>-0.077710</td>\n",
       "      <td>0.008777</td>\n",
       "      <td>0.002100</td>\n",
       "      <td>-0.007317</td>\n",
       "      <td>0.0000</td>\n",
       "    </tr>\n",
       "    <tr>\n",
       "      <th>300</th>\n",
       "      <td>2023-01-01</td>\n",
       "      <td>0.031818</td>\n",
       "      <td>0.005300</td>\n",
       "      <td>-0.010142</td>\n",
       "      <td>0.1375</td>\n",
       "      <td>0.006193</td>\n",
       "      <td>-0.045471</td>\n",
       "      <td>0.053643</td>\n",
       "      <td>-0.000900</td>\n",
       "      <td>-0.005852</td>\n",
       "      <td>0.0000</td>\n",
       "    </tr>\n",
       "  </tbody>\n",
       "</table>\n",
       "<p>301 rows × 11 columns</p>\n",
       "</div>"
      ],
      "text/plain": [
       "          date  ibov_returns  cpi_inflation  brl_dollar  interest_rates  \\\n",
       "0   1998-01-01     -0.046778       0.007097    0.005657          0.4290   \n",
       "1   1998-02-01      0.087551       0.004603    0.006608          0.4200   \n",
       "2   1998-03-01      0.130167       0.003397    0.005411          0.3854   \n",
       "3   1998-04-01     -0.022600       0.002397    0.006617          0.3655   \n",
       "4   1998-05-01     -0.156718       0.005001    0.005785          0.3330   \n",
       "..         ...           ...            ...         ...             ...   \n",
       "296 2022-09-01      0.004693      -0.002900    0.020076          0.1375   \n",
       "297 2022-10-01      0.054527       0.005901    0.001621          0.1375   \n",
       "298 2022-11-01     -0.030602       0.004100    0.003027          0.1375   \n",
       "299 2022-12-01     -0.021825       0.006200   -0.004290          0.1375   \n",
       "300 2023-01-01      0.031818       0.005300   -0.010142          0.1375   \n",
       "\n",
       "     residuals  residuals_t_1  ibov_returns_diff_1  cpi_inflation_diff_1  \\\n",
       "0          NaN            NaN                  NaN                   NaN   \n",
       "1          NaN            NaN             0.134330             -0.002494   \n",
       "2          NaN            NaN             0.042616             -0.001206   \n",
       "3          NaN            NaN            -0.152767             -0.001000   \n",
       "4          NaN            NaN            -0.134119              0.002604   \n",
       "..         ...            ...                  ...                   ...   \n",
       "296  -0.014324       0.010238            -0.056936              0.000699   \n",
       "297   0.005616      -0.014324             0.049834              0.008801   \n",
       "298  -0.077710       0.005616            -0.085129             -0.001801   \n",
       "299  -0.045471      -0.077710             0.008777              0.002100   \n",
       "300   0.006193      -0.045471             0.053643             -0.000900   \n",
       "\n",
       "     brl_dollar_diff_1  interest_rates_diff_1  \n",
       "0                  NaN                    NaN  \n",
       "1             0.000950                -0.0090  \n",
       "2            -0.001197                -0.0346  \n",
       "3             0.001206                -0.0199  \n",
       "4            -0.000832                -0.0325  \n",
       "..                 ...                    ...  \n",
       "296           0.062511                 0.0005  \n",
       "297          -0.018455                 0.0000  \n",
       "298           0.001406                 0.0000  \n",
       "299          -0.007317                 0.0000  \n",
       "300          -0.005852                 0.0000  \n",
       "\n",
       "[301 rows x 11 columns]"
      ]
     },
     "execution_count": 180,
     "metadata": {},
     "output_type": "execute_result"
    }
   ],
   "source": [
    "diff_data"
   ]
  },
  {
   "cell_type": "code",
   "execution_count": 213,
   "metadata": {},
   "outputs": [
    {
     "name": "stdout",
     "output_type": "stream",
     "text": [
      "                                  ARDL Model Results                                 \n",
      "=====================================================================================\n",
      "Dep. Variable:           ibov_returns_diff_1   No. Observations:                  300\n",
      "Model:             ARDL(1, 1, 1, 1, 4, 4, 4)   Log Likelihood                 309.272\n",
      "Method:                      Conditional MLE   S.D. of innovations              0.086\n",
      "Date:                       Mon, 08 May 2023   AIC                           -576.543\n",
      "Time:                               17:07:10   BIC                           -498.834\n",
      "Sample:                                    4   HQIC                          -545.440\n",
      "                                         300                                         \n",
      "============================================================================================\n",
      "                               coef    std err          z      P>|z|      [0.025      0.975]\n",
      "--------------------------------------------------------------------------------------------\n",
      "const                        0.0011      0.011      0.105      0.916      -0.020       0.023\n",
      "ibov_returns_diff_1.L1      -0.5194      0.058     -9.028      0.000      -0.633      -0.406\n",
      "brl_dollar.L1                0.4343      0.221      1.966      0.050      -0.000       0.869\n",
      "cpi_inflation.L1            -1.7751      1.877     -0.946      0.345      -5.469       1.919\n",
      "interest_rates.L1            0.0535      0.073      0.734      0.463      -0.090       0.197\n",
      "cpi_inflation_diff_1.L0     -3.3090      1.677     -1.973      0.049      -6.610      -0.007\n",
      "cpi_inflation_diff_1.L1     -0.0371      1.611     -0.023      0.982      -3.208       3.134\n",
      "cpi_inflation_diff_1.L2     -1.5038      1.844     -0.816      0.415      -5.133       2.126\n",
      "cpi_inflation_diff_1.L3     -4.2900      2.022     -2.122      0.035      -8.271      -0.309\n",
      "cpi_inflation_diff_1.L4     -0.4233      1.644     -0.257      0.797      -3.659       2.813\n",
      "brl_dollar_diff_1.L0        -0.4462      0.169     -2.648      0.009      -0.778      -0.114\n",
      "brl_dollar_diff_1.L1        -0.2106      0.170     -1.237      0.217      -0.546       0.125\n",
      "brl_dollar_diff_1.L2         0.0904      0.152      0.594      0.553      -0.209       0.390\n",
      "brl_dollar_diff_1.L3         0.0213      0.140      0.152      0.879      -0.255       0.297\n",
      "brl_dollar_diff_1.L4         0.1469      0.136      1.077      0.282      -0.122       0.415\n",
      "interest_rates_diff_1.L0     0.7735      0.251      3.078      0.002       0.279       1.268\n",
      "interest_rates_diff_1.L1     0.4234      0.535      0.792      0.429      -0.629       1.476\n",
      "interest_rates_diff_1.L2    -0.0786      0.381     -0.207      0.836      -0.828       0.671\n",
      "interest_rates_diff_1.L3    -0.1811      0.737     -0.246      0.806      -1.633       1.271\n",
      "interest_rates_diff_1.L4     0.8638      0.814      1.061      0.290      -0.739       2.467\n",
      "============================================================================================\n"
     ]
    },
    {
     "name": "stderr",
     "output_type": "stream",
     "text": [
      "/Users/gabrieldiasmp/opt/anaconda3/lib/python3.9/site-packages/statsmodels/tsa/base/tsa_model.py:473: ValueWarning: An unsupported index was provided and will be ignored when e.g. forecasting.\n",
      "  self._init_dates(dates, freq)\n",
      "/Users/gabrieldiasmp/opt/anaconda3/lib/python3.9/site-packages/statsmodels/tsa/base/tsa_model.py:473: ValueWarning: An unsupported index was provided and will be ignored when e.g. forecasting.\n",
      "  self._init_dates(dates, freq)\n",
      "/Users/gabrieldiasmp/opt/anaconda3/lib/python3.9/site-packages/statsmodels/tsa/ardl/model.py:458: SpecificationWarning: exog contains variables that are missing from the order dictionary.  Missing keys: brl_dollar.\n",
      "  return _format_order(self.data.orig_exog, order, self._causal)\n"
     ]
    }
   ],
   "source": [
    "diff_exog_variables = ['brl_dollar', 'cpi_inflation', 'interest_rates', 'cpi_inflation_diff_1','brl_dollar_diff_1','interest_rates_diff_1']\n",
    "\n",
    "df_ecm_bounds = diff_data[['brl_dollar', 'cpi_inflation', 'interest_rates', 'ibov_returns_diff_1', 'cpi_inflation_diff_1','brl_dollar_diff_1','interest_rates_diff_1']].dropna()\n",
    "\n",
    "# Setting the exogenous variables\n",
    "exog=df_ecm_bounds.loc[:, diff_exog_variables]\n",
    "model_ecm_bounds = ARDL(\n",
    "    df_ecm_bounds.ibov_returns_diff_1, 1, \n",
    "    exog, {\n",
    "        'brl_dollar':[1], \n",
    "        'cpi_inflation':[1], \n",
    "        'interest_rates':[1],\n",
    "        'cpi_inflation_diff_1':4,\n",
    "        'brl_dollar_diff_1':4,\n",
    "        'interest_rates_diff_1':4}\n",
    ").fit(cov_type=\"HAC\", cov_kwds={'maxlags':2})\n",
    "print(model_ecm_bounds.summary())\n",
    "\n",
    "model_ecm_bounds_RESTRICTED = ARDL(\n",
    "    df_ecm_bounds.ibov_returns_diff_1, 1, \n",
    "    exog, {\n",
    "        'cpi_inflation':[1], \n",
    "        'interest_rates':[1],\n",
    "        'cpi_inflation_diff_1':4,\n",
    "        'brl_dollar_diff_1':4,\n",
    "        'interest_rates_diff_1':4}\n",
    ").fit()"
   ]
  },
  {
   "cell_type": "code",
   "execution_count": 214,
   "metadata": {},
   "outputs": [
    {
     "data": {
      "text/plain": [
       "2.2375813059292247"
      ]
     },
     "execution_count": 214,
     "metadata": {},
     "output_type": "execute_result"
    }
   ],
   "source": [
    "model_ecm_bounds_RESTRICTED.resid.apply(lambda x: x**2).sum()"
   ]
  },
  {
   "cell_type": "code",
   "execution_count": 215,
   "metadata": {},
   "outputs": [
    {
     "data": {
      "text/plain": [
       "2.211917737056952"
      ]
     },
     "execution_count": 215,
     "metadata": {},
     "output_type": "execute_result"
    }
   ],
   "source": [
    "model_ecm_bounds.resid.apply(lambda x: x**2).sum()"
   ]
  },
  {
   "cell_type": "code",
   "execution_count": 217,
   "metadata": {},
   "outputs": [
    {
     "name": "stdout",
     "output_type": "stream",
     "text": [
      "Bounds cointegration F-test: 3.202264211765695\n"
     ]
    }
   ],
   "source": [
    "rrss = model_ecm_bounds_RESTRICTED.resid.apply(lambda x: x**2).sum()\n",
    "urss = model_ecm_bounds.resid.apply(lambda x: x**2).sum()\n",
    "\n",
    "print(f'Bounds cointegration F-test: {((rrss - urss)/1)/(urss/(296-20))}') ## The critical value is 3.1"
   ]
  },
  {
   "cell_type": "code",
   "execution_count": 204,
   "metadata": {},
   "outputs": [
    {
     "data": {
      "text/plain": [
       "1.5748585053093505"
      ]
     },
     "execution_count": 204,
     "metadata": {},
     "output_type": "execute_result"
    }
   ],
   "source": [
    "((rrss - urss)/3)/(urss/(296-20))"
   ]
  },
  {
   "cell_type": "markdown",
   "metadata": {},
   "source": [
    "- Durbin-watson serial correlation test"
   ]
  },
  {
   "cell_type": "code",
   "execution_count": 87,
   "metadata": {},
   "outputs": [
    {
     "name": "stdout",
     "output_type": "stream",
     "text": [
      "Durbin-Watson statistic: 2.013162758973414\n"
     ]
    }
   ],
   "source": [
    "import statsmodels.api as sm\n",
    "\n",
    "# Test for first-order serial correlation using the Durbin-Watson test\n",
    "durbin_watson = sm.stats.stattools.durbin_watson(model_ecm.resid)\n",
    "\n",
    "# Print the test result\n",
    "print(\"Durbin-Watson statistic:\", durbin_watson)"
   ]
  },
  {
   "cell_type": "markdown",
   "metadata": {},
   "source": [
    "- White test for heteroskedasticity test"
   ]
  },
  {
   "cell_type": "code",
   "execution_count": 94,
   "metadata": {},
   "outputs": [
    {
     "name": "stdout",
     "output_type": "stream",
     "text": [
      "White test statistic:  71.63951342300844\n",
      "White test p-value:  9.7271690153347e-10\n"
     ]
    }
   ],
   "source": [
    "# Add a constant column to your independent variable array\n",
    "x_with_const = sm.add_constant(model_ecm.model.exog[2:])\n",
    "\n",
    "# Run the Breusch-Pagan test for heteroscedasticity\n",
    "bp_test = sm.stats.diagnostic.het_white(model_ecm.resid, x_with_const)\n",
    "\n",
    "# Print the test results\n",
    "print('White test statistic: ', bp_test[0])\n",
    "print('White test p-value: ', bp_test[1])"
   ]
  },
  {
   "cell_type": "code",
   "execution_count": 88,
   "metadata": {},
   "outputs": [
    {
     "data": {
      "text/html": [
       "<div>\n",
       "<style scoped>\n",
       "    .dataframe tbody tr th:only-of-type {\n",
       "        vertical-align: middle;\n",
       "    }\n",
       "\n",
       "    .dataframe tbody tr th {\n",
       "        vertical-align: top;\n",
       "    }\n",
       "\n",
       "    .dataframe thead th {\n",
       "        text-align: right;\n",
       "    }\n",
       "</style>\n",
       "<table border=\"1\" class=\"dataframe\">\n",
       "  <thead>\n",
       "    <tr style=\"text-align: right;\">\n",
       "      <th></th>\n",
       "      <th>ARCH-LM</th>\n",
       "      <th>P-value</th>\n",
       "      <th>DF</th>\n",
       "    </tr>\n",
       "    <tr>\n",
       "      <th>Lag</th>\n",
       "      <th></th>\n",
       "      <th></th>\n",
       "      <th></th>\n",
       "    </tr>\n",
       "  </thead>\n",
       "  <tbody>\n",
       "    <tr>\n",
       "      <th>1</th>\n",
       "      <td>10.346381</td>\n",
       "      <td>1.297288e-03</td>\n",
       "      <td>1</td>\n",
       "    </tr>\n",
       "    <tr>\n",
       "      <th>2</th>\n",
       "      <td>10.544726</td>\n",
       "      <td>5.131471e-03</td>\n",
       "      <td>2</td>\n",
       "    </tr>\n",
       "    <tr>\n",
       "      <th>3</th>\n",
       "      <td>32.385175</td>\n",
       "      <td>4.341100e-07</td>\n",
       "      <td>3</td>\n",
       "    </tr>\n",
       "    <tr>\n",
       "      <th>4</th>\n",
       "      <td>68.630616</td>\n",
       "      <td>4.415847e-14</td>\n",
       "      <td>4</td>\n",
       "    </tr>\n",
       "    <tr>\n",
       "      <th>5</th>\n",
       "      <td>94.627395</td>\n",
       "      <td>7.152547e-19</td>\n",
       "      <td>5</td>\n",
       "    </tr>\n",
       "    <tr>\n",
       "      <th>6</th>\n",
       "      <td>104.294201</td>\n",
       "      <td>3.183354e-20</td>\n",
       "      <td>6</td>\n",
       "    </tr>\n",
       "    <tr>\n",
       "      <th>7</th>\n",
       "      <td>92.700458</td>\n",
       "      <td>3.447036e-17</td>\n",
       "      <td>7</td>\n",
       "    </tr>\n",
       "    <tr>\n",
       "      <th>8</th>\n",
       "      <td>21.381550</td>\n",
       "      <td>6.200051e-03</td>\n",
       "      <td>8</td>\n",
       "    </tr>\n",
       "    <tr>\n",
       "      <th>9</th>\n",
       "      <td>12.312241</td>\n",
       "      <td>1.962735e-01</td>\n",
       "      <td>9</td>\n",
       "    </tr>\n",
       "    <tr>\n",
       "      <th>10</th>\n",
       "      <td>13.107216</td>\n",
       "      <td>2.177389e-01</td>\n",
       "      <td>10</td>\n",
       "    </tr>\n",
       "  </tbody>\n",
       "</table>\n",
       "</div>"
      ],
      "text/plain": [
       "        ARCH-LM       P-value  DF\n",
       "Lag                              \n",
       "1     10.346381  1.297288e-03   1\n",
       "2     10.544726  5.131471e-03   2\n",
       "3     32.385175  4.341100e-07   3\n",
       "4     68.630616  4.415847e-14   4\n",
       "5     94.627395  7.152547e-19   5\n",
       "6    104.294201  3.183354e-20   6\n",
       "7     92.700458  3.447036e-17   7\n",
       "8     21.381550  6.200051e-03   8\n",
       "9     12.312241  1.962735e-01   9\n",
       "10    13.107216  2.177389e-01  10"
      ]
     },
     "execution_count": 88,
     "metadata": {},
     "output_type": "execute_result"
    }
   ],
   "source": [
    "model_ecm.test_heteroskedasticity()"
   ]
  }
 ],
 "metadata": {
  "interpreter": {
   "hash": "754eb1539c5fb6a6c7d5e0d157e3723f9f76d810abc9921a69b8892106f7d7a6"
  },
  "kernelspec": {
   "display_name": "Python 3.9.7 ('base')",
   "language": "python",
   "name": "python3"
  },
  "language_info": {
   "codemirror_mode": {
    "name": "ipython",
    "version": 3
   },
   "file_extension": ".py",
   "mimetype": "text/x-python",
   "name": "python",
   "nbconvert_exporter": "python",
   "pygments_lexer": "ipython3",
   "version": "3.9.7"
  },
  "orig_nbformat": 4
 },
 "nbformat": 4,
 "nbformat_minor": 2
}
